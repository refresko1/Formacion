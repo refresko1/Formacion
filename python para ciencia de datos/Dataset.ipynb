{
  "cells": [
    {
      "cell_type": "markdown",
      "metadata": {
        "id": "uI7_YNwXlMe1"
      },
      "source": [
        "# 12 Dataset"
      ]
    },
    {
      "cell_type": "code",
      "execution_count": 36,
      "metadata": {
        "colab": {
          "base_uri": "https://localhost:8080/"
        },
        "id": "3s0qaCHwFEhn",
        "outputId": "1c4ab785-7f15-4e09-c01e-57ab0a0bf00c"
      },
      "outputs": [
        {
          "name": "stdout",
          "output_type": "stream",
          "text": [
            "  InvoiceNo StockCode                          Description  Quantity  \\\n",
            "0    536365    85123A   WHITE HANGING HEART T-LIGHT HOLDER         6   \n",
            "1    536365     71053                  WHITE METAL LANTERN         6   \n",
            "2    536365    84406B       CREAM CUPID HEARTS COAT HANGER         8   \n",
            "3    536365    84029G  KNITTED UNION FLAG HOT WATER BOTTLE         6   \n",
            "4    536365    84029E       RED WOOLLY HOTTIE WHITE HEART.         6   \n",
            "\n",
            "      InvoiceDate  UnitPrice  CustomerID         Country  \n",
            "0  12/1/2010 8:26       2.55     17850.0  United Kingdom  \n",
            "1  12/1/2010 8:26       3.39     17850.0  United Kingdom  \n",
            "2  12/1/2010 8:26       2.75     17850.0  United Kingdom  \n",
            "3  12/1/2010 8:26       3.39     17850.0  United Kingdom  \n",
            "4  12/1/2010 8:26       3.39     17850.0  United Kingdom  \n"
          ]
        }
      ],
      "source": [
        "import pandas as pd\n",
        "\n",
        "path = 'onlineretail.csv'\n",
        "retail_data = pd.read_csv(path, encoding='latin1')\n",
        "\n",
        "#Excel\n",
        "#data_excel = pd.read_excel(path)\n",
        "\n",
        "#JSON\n",
        "#data_json = pd.read_json(path)\n",
        "\n",
        "#print(type(retail_data))\n",
        "print(retail_data.head())"
      ]
    },
    {
      "cell_type": "code",
      "execution_count": 37,
      "metadata": {},
      "outputs": [],
      "source": [
        "import numpy as np\n",
        "data = np.array([[1,2,3],[4,5,6],[7,8,9]])\n",
        "dt_from_array = pd.DataFrame(data, columns=['A','B','C'])\n"
      ]
    },
    {
      "cell_type": "code",
      "execution_count": 38,
      "metadata": {},
      "outputs": [
        {
          "name": "stdout",
          "output_type": "stream",
          "text": [
            "   A  B  C\n",
            "0  1  2  3\n",
            "1  4  5  6\n",
            "2  7  8  9\n"
          ]
        }
      ],
      "source": [
        "print(dt_from_array)"
      ]
    },
    {
      "cell_type": "code",
      "execution_count": 39,
      "metadata": {},
      "outputs": [
        {
          "name": "stdout",
          "output_type": "stream",
          "text": [
            "   ID  NAME  AGE\n",
            "0   1  jhon   22\n",
            "1   2   ana   24\n"
          ]
        }
      ],
      "source": [
        "data2 =[[1,'jhon',22],[2,'ana',24]]\n",
        "dt_from_list = pd.DataFrame(data2,columns=['ID','NAME','AGE'])\n",
        "\n",
        "print(dt_from_list)"
      ]
    },
    {
      "cell_type": "code",
      "execution_count": 40,
      "metadata": {},
      "outputs": [
        {
          "name": "stdout",
          "output_type": "stream",
          "text": [
            "   ID  NAME  AGE\n",
            "0   1  jhon   22\n"
          ]
        }
      ],
      "source": [
        "data3 = [{'ID':1,\n",
        "        'NAME':'jhon',\n",
        "        'AGE':22}]\n",
        "\n",
        "df_from_dict_list = pd.DataFrame(data3)\n",
        "print(df_from_dict_list)"
      ]
    },
    {
      "cell_type": "code",
      "execution_count": 41,
      "metadata": {},
      "outputs": [
        {
          "name": "stdout",
          "output_type": "stream",
          "text": [
            "   ID  NAME  AGE\n",
            "0   1  jhon   22\n",
            "1   2   ana   25\n",
            "2   3  mike   26\n"
          ]
        }
      ],
      "source": [
        "data4 = {'ID': [1,2,3],\n",
        "         'NAME':['jhon','ana', 'mike'],\n",
        "         'AGE': [22,25,26]}\n",
        "\n",
        "df_from_dict= pd.DataFrame(data4)\n",
        "print(df_from_dict)"
      ]
    },
    {
      "cell_type": "code",
      "execution_count": 42,
      "metadata": {},
      "outputs": [
        {
          "name": "stdout",
          "output_type": "stream",
          "text": [
            "   ID  name  Edad\n",
            "0   1  jhon    22\n",
            "1   2   ana    25\n",
            "2   3  mike    26\n"
          ]
        }
      ],
      "source": [
        "data5 = {'ID':pd.Series([1,2,3]),\n",
        "       'name': pd.Series(['jhon','ana', 'mike']),\n",
        "       'Edad':pd.Series([22,25,26])}\n",
        "df_from_series_dict = pd.DataFrame(data5)\n",
        "\n",
        "print(df_from_series_dict)\n"
      ]
    },
    {
      "cell_type": "code",
      "execution_count": 43,
      "metadata": {},
      "outputs": [
        {
          "name": "stdout",
          "output_type": "stream",
          "text": [
            "Index(['InvoiceNo', 'StockCode', 'Description', 'Quantity', 'InvoiceDate',\n",
            "       'UnitPrice', 'CustomerID', 'Country'],\n",
            "      dtype='object')\n"
          ]
        }
      ],
      "source": [
        "columnas = retail_data.columns\n",
        "print(columnas)"
      ]
    },
    {
      "cell_type": "code",
      "execution_count": 44,
      "metadata": {},
      "outputs": [
        {
          "name": "stdout",
          "output_type": "stream",
          "text": [
            "(541909, 8)\n"
          ]
        }
      ],
      "source": [
        "print(retail_data.shape)"
      ]
    },
    {
      "cell_type": "code",
      "execution_count": 45,
      "metadata": {},
      "outputs": [
        {
          "name": "stdout",
          "output_type": "stream",
          "text": [
            "0          6\n",
            "1          6\n",
            "2          8\n",
            "3          6\n",
            "4          6\n",
            "          ..\n",
            "541904    12\n",
            "541905     6\n",
            "541906     4\n",
            "541907     4\n",
            "541908     3\n",
            "Name: Quantity, Length: 541909, dtype: int64\n"
          ]
        }
      ],
      "source": [
        "daily_sales=retail_data['Quantity']\n",
        "print(daily_sales)"
      ]
    },
    {
      "cell_type": "code",
      "execution_count": 46,
      "metadata": {},
      "outputs": [
        {
          "data": {
            "text/plain": [
              "count    541909.000000\n",
              "mean          9.552250\n",
              "std         218.081158\n",
              "min      -80995.000000\n",
              "25%           1.000000\n",
              "50%           3.000000\n",
              "75%          10.000000\n",
              "max       80995.000000\n",
              "Name: Quantity, dtype: float64"
            ]
          },
          "execution_count": 46,
          "metadata": {},
          "output_type": "execute_result"
        }
      ],
      "source": [
        "daily_sales.describe()"
      ]
    },
    {
      "cell_type": "code",
      "execution_count": 47,
      "metadata": {},
      "outputs": [
        {
          "name": "stdout",
          "output_type": "stream",
          "text": [
            "5176450\n"
          ]
        }
      ],
      "source": [
        "print(daily_sales.sum())"
      ]
    },
    {
      "cell_type": "code",
      "execution_count": 49,
      "metadata": {},
      "outputs": [
        {
          "name": "stdout",
          "output_type": "stream",
          "text": [
            "541909\n"
          ]
        }
      ],
      "source": [
        "count_val = daily_sales.count()\n",
        "print(count_val)"
      ]
    },
    {
      "cell_type": "code",
      "execution_count": 50,
      "metadata": {},
      "outputs": [
        {
          "name": "stdout",
          "output_type": "stream",
          "text": [
            "InvoiceNo                                  536365\n",
            "StockCode                                  85123A\n",
            "Description    WHITE HANGING HEART T-LIGHT HOLDER\n",
            "Quantity                                        6\n",
            "InvoiceDate                        12/1/2010 8:26\n",
            "UnitPrice                                    2.55\n",
            "CustomerID                                17850.0\n",
            "Country                            United Kingdom\n",
            "Name: 0, dtype: object\n"
          ]
        }
      ],
      "source": [
        "#iloc y LOC\n",
        "first_row = retail_data.iloc[0]\n",
        "print(first_row)"
      ]
    },
    {
      "cell_type": "code",
      "execution_count": 51,
      "metadata": {},
      "outputs": [
        {
          "name": "stdout",
          "output_type": "stream",
          "text": [
            "  InvoiceNo StockCode                          Description  Quantity  \\\n",
            "0    536365    85123A   WHITE HANGING HEART T-LIGHT HOLDER         6   \n",
            "1    536365     71053                  WHITE METAL LANTERN         6   \n",
            "2    536365    84406B       CREAM CUPID HEARTS COAT HANGER         8   \n",
            "3    536365    84029G  KNITTED UNION FLAG HOT WATER BOTTLE         6   \n",
            "4    536365    84029E       RED WOOLLY HOTTIE WHITE HEART.         6   \n",
            "\n",
            "      InvoiceDate  UnitPrice  CustomerID         Country  \n",
            "0  12/1/2010 8:26       2.55     17850.0  United Kingdom  \n",
            "1  12/1/2010 8:26       3.39     17850.0  United Kingdom  \n",
            "2  12/1/2010 8:26       2.75     17850.0  United Kingdom  \n",
            "3  12/1/2010 8:26       3.39     17850.0  United Kingdom  \n",
            "4  12/1/2010 8:26       3.39     17850.0  United Kingdom  \n"
          ]
        }
      ],
      "source": [
        "first_five_row= retail_data.iloc[0:5]\n",
        "print(first_five_row)"
      ]
    },
    {
      "cell_type": "code",
      "execution_count": 52,
      "metadata": {},
      "outputs": [
        {
          "name": "stdout",
          "output_type": "stream",
          "text": [
            "  InvoiceNo StockCode\n",
            "0    536365    85123A\n",
            "1    536365     71053\n",
            "2    536365    84406B\n"
          ]
        }
      ],
      "source": [
        "subset = retail_data.iloc[:3,:2]\n",
        "print(subset)"
      ]
    },
    {
      "cell_type": "code",
      "execution_count": 53,
      "metadata": {},
      "outputs": [
        {
          "name": "stdout",
          "output_type": "stream",
          "text": [
            "WHITE METAL LANTERN\n"
          ]
        }
      ],
      "source": [
        "subset2 = retail_data.iloc[1,2]\n",
        "print(subset2)"
      ]
    },
    {
      "cell_type": "code",
      "execution_count": 54,
      "metadata": {},
      "outputs": [
        {
          "data": {
            "text/html": [
              "<div>\n",
              "<style scoped>\n",
              "    .dataframe tbody tr th:only-of-type {\n",
              "        vertical-align: middle;\n",
              "    }\n",
              "\n",
              "    .dataframe tbody tr th {\n",
              "        vertical-align: top;\n",
              "    }\n",
              "\n",
              "    .dataframe thead th {\n",
              "        text-align: right;\n",
              "    }\n",
              "</style>\n",
              "<table border=\"1\" class=\"dataframe\">\n",
              "  <thead>\n",
              "    <tr style=\"text-align: right;\">\n",
              "      <th></th>\n",
              "      <th>InvoiceNo</th>\n",
              "      <th>StockCode</th>\n",
              "      <th>Description</th>\n",
              "      <th>Quantity</th>\n",
              "      <th>InvoiceDate</th>\n",
              "      <th>UnitPrice</th>\n",
              "      <th>CustomerID</th>\n",
              "      <th>Country</th>\n",
              "    </tr>\n",
              "  </thead>\n",
              "  <tbody>\n",
              "    <tr>\n",
              "      <th>0</th>\n",
              "      <td>536365</td>\n",
              "      <td>85123A</td>\n",
              "      <td>WHITE HANGING HEART T-LIGHT HOLDER</td>\n",
              "      <td>6</td>\n",
              "      <td>12/1/2010 8:26</td>\n",
              "      <td>2.55</td>\n",
              "      <td>17850.0</td>\n",
              "      <td>United Kingdom</td>\n",
              "    </tr>\n",
              "    <tr>\n",
              "      <th>1</th>\n",
              "      <td>536365</td>\n",
              "      <td>71053</td>\n",
              "      <td>WHITE METAL LANTERN</td>\n",
              "      <td>6</td>\n",
              "      <td>12/1/2010 8:26</td>\n",
              "      <td>3.39</td>\n",
              "      <td>17850.0</td>\n",
              "      <td>United Kingdom</td>\n",
              "    </tr>\n",
              "    <tr>\n",
              "      <th>2</th>\n",
              "      <td>536365</td>\n",
              "      <td>84406B</td>\n",
              "      <td>CREAM CUPID HEARTS COAT HANGER</td>\n",
              "      <td>8</td>\n",
              "      <td>12/1/2010 8:26</td>\n",
              "      <td>2.75</td>\n",
              "      <td>17850.0</td>\n",
              "      <td>United Kingdom</td>\n",
              "    </tr>\n",
              "    <tr>\n",
              "      <th>3</th>\n",
              "      <td>536365</td>\n",
              "      <td>84029G</td>\n",
              "      <td>KNITTED UNION FLAG HOT WATER BOTTLE</td>\n",
              "      <td>6</td>\n",
              "      <td>12/1/2010 8:26</td>\n",
              "      <td>3.39</td>\n",
              "      <td>17850.0</td>\n",
              "      <td>United Kingdom</td>\n",
              "    </tr>\n",
              "    <tr>\n",
              "      <th>4</th>\n",
              "      <td>536365</td>\n",
              "      <td>84029E</td>\n",
              "      <td>RED WOOLLY HOTTIE WHITE HEART.</td>\n",
              "      <td>6</td>\n",
              "      <td>12/1/2010 8:26</td>\n",
              "      <td>3.39</td>\n",
              "      <td>17850.0</td>\n",
              "      <td>United Kingdom</td>\n",
              "    </tr>\n",
              "  </tbody>\n",
              "</table>\n",
              "</div>"
            ],
            "text/plain": [
              "  InvoiceNo StockCode                          Description  Quantity  \\\n",
              "0    536365    85123A   WHITE HANGING HEART T-LIGHT HOLDER         6   \n",
              "1    536365     71053                  WHITE METAL LANTERN         6   \n",
              "2    536365    84406B       CREAM CUPID HEARTS COAT HANGER         8   \n",
              "3    536365    84029G  KNITTED UNION FLAG HOT WATER BOTTLE         6   \n",
              "4    536365    84029E       RED WOOLLY HOTTIE WHITE HEART.         6   \n",
              "\n",
              "      InvoiceDate  UnitPrice  CustomerID         Country  \n",
              "0  12/1/2010 8:26       2.55     17850.0  United Kingdom  \n",
              "1  12/1/2010 8:26       3.39     17850.0  United Kingdom  \n",
              "2  12/1/2010 8:26       2.75     17850.0  United Kingdom  \n",
              "3  12/1/2010 8:26       3.39     17850.0  United Kingdom  \n",
              "4  12/1/2010 8:26       3.39     17850.0  United Kingdom  "
            ]
          },
          "execution_count": 54,
          "metadata": {},
          "output_type": "execute_result"
        }
      ],
      "source": [
        "retail_data.head()"
      ]
    },
    {
      "cell_type": "code",
      "execution_count": 55,
      "metadata": {},
      "outputs": [
        {
          "name": "stdout",
          "output_type": "stream",
          "text": [
            "InvoiceNo                                   536365\n",
            "StockCode                                   84029G\n",
            "Description    KNITTED UNION FLAG HOT WATER BOTTLE\n",
            "Quantity                                         6\n",
            "InvoiceDate                         12/1/2010 8:26\n",
            "UnitPrice                                     3.39\n",
            "CustomerID                                 17850.0\n",
            "Country                             United Kingdom\n",
            "Name: 3, dtype: object\n"
          ]
        }
      ],
      "source": [
        "row_index3 = retail_data.loc[3]\n",
        "print(row_index3)"
      ]
    },
    {
      "cell_type": "code",
      "execution_count": 56,
      "metadata": {},
      "outputs": [
        {
          "name": "stdout",
          "output_type": "stream",
          "text": [
            "  InvoiceNo StockCode                          Description  Quantity  \\\n",
            "0    536365    85123A   WHITE HANGING HEART T-LIGHT HOLDER         6   \n",
            "1    536365     71053                  WHITE METAL LANTERN         6   \n",
            "2    536365    84406B       CREAM CUPID HEARTS COAT HANGER         8   \n",
            "3    536365    84029G  KNITTED UNION FLAG HOT WATER BOTTLE         6   \n",
            "4    536365    84029E       RED WOOLLY HOTTIE WHITE HEART.         6   \n",
            "\n",
            "      InvoiceDate  UnitPrice  CustomerID         Country  \n",
            "0  12/1/2010 8:26       2.55     17850.0  United Kingdom  \n",
            "1  12/1/2010 8:26       3.39     17850.0  United Kingdom  \n",
            "2  12/1/2010 8:26       2.75     17850.0  United Kingdom  \n",
            "3  12/1/2010 8:26       3.39     17850.0  United Kingdom  \n",
            "4  12/1/2010 8:26       3.39     17850.0  United Kingdom  \n"
          ]
        }
      ],
      "source": [
        "row_index_0_4 = retail_data.loc[0:4]\n",
        "print(row_index_0_4)"
      ]
    },
    {
      "cell_type": "code",
      "execution_count": 57,
      "metadata": {},
      "outputs": [
        {
          "name": "stdout",
          "output_type": "stream",
          "text": [
            "0          6\n",
            "1          6\n",
            "2          8\n",
            "3          6\n",
            "4          6\n",
            "          ..\n",
            "541904    12\n",
            "541905     6\n",
            "541906     4\n",
            "541907     4\n",
            "541908     3\n",
            "Name: Quantity, Length: 541909, dtype: int64\n"
          ]
        }
      ],
      "source": [
        "quantity_colu = retail_data.loc[:,'Quantity']\n",
        "print(quantity_colu)"
      ]
    },
    {
      "cell_type": "code",
      "execution_count": 58,
      "metadata": {},
      "outputs": [
        {
          "name": "stdout",
          "output_type": "stream",
          "text": [
            "        Quantity  UnitPrice\n",
            "0              6       2.55\n",
            "1              6       3.39\n",
            "2              8       2.75\n",
            "3              6       3.39\n",
            "4              6       3.39\n",
            "...          ...        ...\n",
            "541904        12       0.85\n",
            "541905         6       2.10\n",
            "541906         4       4.15\n",
            "541907         4       4.15\n",
            "541908         3       4.95\n",
            "\n",
            "[541909 rows x 2 columns]\n"
          ]
        }
      ],
      "source": [
        "quantity_Prices_colu = retail_data.loc[:,['Quantity','UnitPrice']]\n",
        "print(quantity_Prices_colu)"
      ]
    },
    {
      "cell_type": "code",
      "execution_count": 59,
      "metadata": {},
      "outputs": [
        {
          "name": "stdout",
          "output_type": "stream",
          "text": [
            "        InvoiceNo  StockCode  Description  Quantity  InvoiceDate  UnitPrice  \\\n",
            "0           False      False        False     False        False      False   \n",
            "1           False      False        False     False        False      False   \n",
            "2           False      False        False     False        False      False   \n",
            "3           False      False        False     False        False      False   \n",
            "4           False      False        False     False        False      False   \n",
            "...           ...        ...          ...       ...          ...        ...   \n",
            "541904      False      False        False     False        False      False   \n",
            "541905      False      False        False     False        False      False   \n",
            "541906      False      False        False     False        False      False   \n",
            "541907      False      False        False     False        False      False   \n",
            "541908      False      False        False     False        False      False   \n",
            "\n",
            "        CustomerID  Country  \n",
            "0            False    False  \n",
            "1            False    False  \n",
            "2            False    False  \n",
            "3            False    False  \n",
            "4            False    False  \n",
            "...            ...      ...  \n",
            "541904       False    False  \n",
            "541905       False    False  \n",
            "541906       False    False  \n",
            "541907       False    False  \n",
            "541908       False    False  \n",
            "\n",
            "[541909 rows x 8 columns]\n"
          ]
        }
      ],
      "source": [
        "missing_data = retail_data.isna()\n",
        "print(missing_data)"
      ]
    },
    {
      "cell_type": "code",
      "execution_count": 60,
      "metadata": {},
      "outputs": [
        {
          "name": "stdout",
          "output_type": "stream",
          "text": [
            "InvoiceNo           0\n",
            "StockCode           0\n",
            "Description      1454\n",
            "Quantity            0\n",
            "InvoiceDate         0\n",
            "UnitPrice           0\n",
            "CustomerID     135080\n",
            "Country             0\n",
            "dtype: int64\n"
          ]
        }
      ],
      "source": [
        "missing_data_count = retail_data.isna().sum()\n",
        "print(missing_data_count)"
      ]
    },
    {
      "cell_type": "code",
      "execution_count": 61,
      "metadata": {},
      "outputs": [
        {
          "name": "stdout",
          "output_type": "stream",
          "text": [
            "       InvoiceNo StockCode                          Description  Quantity  \\\n",
            "0         536365    85123A   WHITE HANGING HEART T-LIGHT HOLDER         6   \n",
            "1         536365     71053                  WHITE METAL LANTERN         6   \n",
            "2         536365    84406B       CREAM CUPID HEARTS COAT HANGER         8   \n",
            "3         536365    84029G  KNITTED UNION FLAG HOT WATER BOTTLE         6   \n",
            "4         536365    84029E       RED WOOLLY HOTTIE WHITE HEART.         6   \n",
            "...          ...       ...                                  ...       ...   \n",
            "541904    581587     22613          PACK OF 20 SPACEBOY NAPKINS        12   \n",
            "541905    581587     22899         CHILDREN'S APRON DOLLY GIRL          6   \n",
            "541906    581587     23254        CHILDRENS CUTLERY DOLLY GIRL          4   \n",
            "541907    581587     23255      CHILDRENS CUTLERY CIRCUS PARADE         4   \n",
            "541908    581587     22138        BAKING SET 9 PIECE RETROSPOT          3   \n",
            "\n",
            "            InvoiceDate  UnitPrice  CustomerID         Country  \n",
            "0        12/1/2010 8:26       2.55     17850.0  United Kingdom  \n",
            "1        12/1/2010 8:26       3.39     17850.0  United Kingdom  \n",
            "2        12/1/2010 8:26       2.75     17850.0  United Kingdom  \n",
            "3        12/1/2010 8:26       3.39     17850.0  United Kingdom  \n",
            "4        12/1/2010 8:26       3.39     17850.0  United Kingdom  \n",
            "...                 ...        ...         ...             ...  \n",
            "541904  12/9/2011 12:50       0.85     12680.0          France  \n",
            "541905  12/9/2011 12:50       2.10     12680.0          France  \n",
            "541906  12/9/2011 12:50       4.15     12680.0          France  \n",
            "541907  12/9/2011 12:50       4.15     12680.0          France  \n",
            "541908  12/9/2011 12:50       4.95     12680.0          France  \n",
            "\n",
            "[406829 rows x 8 columns]\n"
          ]
        }
      ],
      "source": [
        "no_missing_rows = retail_data.dropna()\n",
        "print(no_missing_rows)"
      ]
    },
    {
      "cell_type": "code",
      "execution_count": 62,
      "metadata": {},
      "outputs": [
        {
          "name": "stdout",
          "output_type": "stream",
          "text": [
            "       InvoiceNo StockCode  Quantity      InvoiceDate  UnitPrice  \\\n",
            "0         536365    85123A         6   12/1/2010 8:26       2.55   \n",
            "1         536365     71053         6   12/1/2010 8:26       3.39   \n",
            "2         536365    84406B         8   12/1/2010 8:26       2.75   \n",
            "3         536365    84029G         6   12/1/2010 8:26       3.39   \n",
            "4         536365    84029E         6   12/1/2010 8:26       3.39   \n",
            "...          ...       ...       ...              ...        ...   \n",
            "541904    581587     22613        12  12/9/2011 12:50       0.85   \n",
            "541905    581587     22899         6  12/9/2011 12:50       2.10   \n",
            "541906    581587     23254         4  12/9/2011 12:50       4.15   \n",
            "541907    581587     23255         4  12/9/2011 12:50       4.15   \n",
            "541908    581587     22138         3  12/9/2011 12:50       4.95   \n",
            "\n",
            "               Country  \n",
            "0       United Kingdom  \n",
            "1       United Kingdom  \n",
            "2       United Kingdom  \n",
            "3       United Kingdom  \n",
            "4       United Kingdom  \n",
            "...                ...  \n",
            "541904          France  \n",
            "541905          France  \n",
            "541906          France  \n",
            "541907          France  \n",
            "541908          France  \n",
            "\n",
            "[541909 rows x 6 columns]\n"
          ]
        }
      ],
      "source": [
        "no_missing_cols=retail_data.dropna(axis=1)\n",
        "print(no_missing_cols)"
      ]
    },
    {
      "cell_type": "code",
      "execution_count": 65,
      "metadata": {},
      "outputs": [
        {
          "ename": "KeyError",
          "evalue": "''",
          "output_type": "error",
          "traceback": [
            "\u001b[1;31m---------------------------------------------------------------------------\u001b[0m",
            "\u001b[1;31mKeyError\u001b[0m                                  Traceback (most recent call last)",
            "File \u001b[1;32md:\\DRIVE_PORTATIL2\\Portatil2\\Desktop\\Personal\\PLATZI\\.venv\\lib\\site-packages\\pandas\\core\\indexes\\base.py:3805\u001b[0m, in \u001b[0;36mIndex.get_loc\u001b[1;34m(self, key)\u001b[0m\n\u001b[0;32m   3804\u001b[0m \u001b[38;5;28;01mtry\u001b[39;00m:\n\u001b[1;32m-> 3805\u001b[0m     \u001b[38;5;28;01mreturn\u001b[39;00m \u001b[38;5;28;43mself\u001b[39;49m\u001b[38;5;241;43m.\u001b[39;49m\u001b[43m_engine\u001b[49m\u001b[38;5;241;43m.\u001b[39;49m\u001b[43mget_loc\u001b[49m\u001b[43m(\u001b[49m\u001b[43mcasted_key\u001b[49m\u001b[43m)\u001b[49m\n\u001b[0;32m   3806\u001b[0m \u001b[38;5;28;01mexcept\u001b[39;00m \u001b[38;5;167;01mKeyError\u001b[39;00m \u001b[38;5;28;01mas\u001b[39;00m err:\n",
            "File \u001b[1;32mindex.pyx:167\u001b[0m, in \u001b[0;36mpandas._libs.index.IndexEngine.get_loc\u001b[1;34m()\u001b[0m\n",
            "File \u001b[1;32mindex.pyx:196\u001b[0m, in \u001b[0;36mpandas._libs.index.IndexEngine.get_loc\u001b[1;34m()\u001b[0m\n",
            "File \u001b[1;32mpandas\\\\_libs\\\\hashtable_class_helper.pxi:7081\u001b[0m, in \u001b[0;36mpandas._libs.hashtable.PyObjectHashTable.get_item\u001b[1;34m()\u001b[0m\n",
            "File \u001b[1;32mpandas\\\\_libs\\\\hashtable_class_helper.pxi:7089\u001b[0m, in \u001b[0;36mpandas._libs.hashtable.PyObjectHashTable.get_item\u001b[1;34m()\u001b[0m\n",
            "\u001b[1;31mKeyError\u001b[0m: ''",
            "\nThe above exception was the direct cause of the following exception:\n",
            "\u001b[1;31mKeyError\u001b[0m                                  Traceback (most recent call last)",
            "Cell \u001b[1;32mIn[65], line 3\u001b[0m\n\u001b[0;32m      1\u001b[0m \u001b[38;5;66;03m#llenar o imputar con cero\u001b[39;00m\n\u001b[0;32m      2\u001b[0m retail_data_fill_zeros \u001b[38;5;241m=\u001b[39m retail_data\u001b[38;5;241m.\u001b[39mfillna(\u001b[38;5;241m0\u001b[39m)\n\u001b[1;32m----> 3\u001b[0m missing_dataf_count \u001b[38;5;241m=\u001b[39m \u001b[43mretail_data_fill_zeros\u001b[49m\u001b[43m[\u001b[49m\u001b[38;5;124;43m'\u001b[39;49m\u001b[38;5;124;43m'\u001b[39;49m\u001b[43m]\u001b[49m\u001b[38;5;241m.\u001b[39misna()\u001b[38;5;241m.\u001b[39msum()\n\u001b[0;32m      4\u001b[0m \u001b[38;5;28mprint\u001b[39m(missing_dataf_count)\n\u001b[0;32m      5\u001b[0m \u001b[38;5;28mprint\u001b[39m(retail_data)\n",
            "File \u001b[1;32md:\\DRIVE_PORTATIL2\\Portatil2\\Desktop\\Personal\\PLATZI\\.venv\\lib\\site-packages\\pandas\\core\\frame.py:4102\u001b[0m, in \u001b[0;36mDataFrame.__getitem__\u001b[1;34m(self, key)\u001b[0m\n\u001b[0;32m   4100\u001b[0m \u001b[38;5;28;01mif\u001b[39;00m \u001b[38;5;28mself\u001b[39m\u001b[38;5;241m.\u001b[39mcolumns\u001b[38;5;241m.\u001b[39mnlevels \u001b[38;5;241m>\u001b[39m \u001b[38;5;241m1\u001b[39m:\n\u001b[0;32m   4101\u001b[0m     \u001b[38;5;28;01mreturn\u001b[39;00m \u001b[38;5;28mself\u001b[39m\u001b[38;5;241m.\u001b[39m_getitem_multilevel(key)\n\u001b[1;32m-> 4102\u001b[0m indexer \u001b[38;5;241m=\u001b[39m \u001b[38;5;28;43mself\u001b[39;49m\u001b[38;5;241;43m.\u001b[39;49m\u001b[43mcolumns\u001b[49m\u001b[38;5;241;43m.\u001b[39;49m\u001b[43mget_loc\u001b[49m\u001b[43m(\u001b[49m\u001b[43mkey\u001b[49m\u001b[43m)\u001b[49m\n\u001b[0;32m   4103\u001b[0m \u001b[38;5;28;01mif\u001b[39;00m is_integer(indexer):\n\u001b[0;32m   4104\u001b[0m     indexer \u001b[38;5;241m=\u001b[39m [indexer]\n",
            "File \u001b[1;32md:\\DRIVE_PORTATIL2\\Portatil2\\Desktop\\Personal\\PLATZI\\.venv\\lib\\site-packages\\pandas\\core\\indexes\\base.py:3812\u001b[0m, in \u001b[0;36mIndex.get_loc\u001b[1;34m(self, key)\u001b[0m\n\u001b[0;32m   3807\u001b[0m     \u001b[38;5;28;01mif\u001b[39;00m \u001b[38;5;28misinstance\u001b[39m(casted_key, \u001b[38;5;28mslice\u001b[39m) \u001b[38;5;129;01mor\u001b[39;00m (\n\u001b[0;32m   3808\u001b[0m         \u001b[38;5;28misinstance\u001b[39m(casted_key, abc\u001b[38;5;241m.\u001b[39mIterable)\n\u001b[0;32m   3809\u001b[0m         \u001b[38;5;129;01mand\u001b[39;00m \u001b[38;5;28many\u001b[39m(\u001b[38;5;28misinstance\u001b[39m(x, \u001b[38;5;28mslice\u001b[39m) \u001b[38;5;28;01mfor\u001b[39;00m x \u001b[38;5;129;01min\u001b[39;00m casted_key)\n\u001b[0;32m   3810\u001b[0m     ):\n\u001b[0;32m   3811\u001b[0m         \u001b[38;5;28;01mraise\u001b[39;00m InvalidIndexError(key)\n\u001b[1;32m-> 3812\u001b[0m     \u001b[38;5;28;01mraise\u001b[39;00m \u001b[38;5;167;01mKeyError\u001b[39;00m(key) \u001b[38;5;28;01mfrom\u001b[39;00m \u001b[38;5;21;01merr\u001b[39;00m\n\u001b[0;32m   3813\u001b[0m \u001b[38;5;28;01mexcept\u001b[39;00m \u001b[38;5;167;01mTypeError\u001b[39;00m:\n\u001b[0;32m   3814\u001b[0m     \u001b[38;5;66;03m# If we have a listlike key, _check_indexing_error will raise\u001b[39;00m\n\u001b[0;32m   3815\u001b[0m     \u001b[38;5;66;03m#  InvalidIndexError. Otherwise we fall through and re-raise\u001b[39;00m\n\u001b[0;32m   3816\u001b[0m     \u001b[38;5;66;03m#  the TypeError.\u001b[39;00m\n\u001b[0;32m   3817\u001b[0m     \u001b[38;5;28mself\u001b[39m\u001b[38;5;241m.\u001b[39m_check_indexing_error(key)\n",
            "\u001b[1;31mKeyError\u001b[0m: ''"
          ]
        }
      ],
      "source": [
        "#llenar o imputar con cero\n",
        "retail_data_fill_zeros = retail_data.fillna(0)\n",
        "missing_dataf_count = retail_data_fill_zeros[''].isna().sum()\n",
        "print(missing_dataf_count)\n",
        "print(retail_data)"
      ]
    },
    {
      "cell_type": "code",
      "execution_count": 66,
      "metadata": {},
      "outputs": [
        {
          "name": "stdout",
          "output_type": "stream",
          "text": [
            "0         2.55\n",
            "1         3.39\n",
            "2         2.75\n",
            "3         3.39\n",
            "4         3.39\n",
            "          ... \n",
            "541904    0.85\n",
            "541905    2.10\n",
            "541906    4.15\n",
            "541907    4.15\n",
            "541908    4.95\n",
            "Name: UnitPrice, Length: 541909, dtype: float64\n"
          ]
        }
      ],
      "source": [
        "mean_unit_prices = retail_data['UnitPrice'].mean\n",
        "retail_data_fill_mean = retail_data['UnitPrice'].fillna(mean_unit_prices)\n",
        "print(retail_data_fill_mean)"
      ]
    },
    {
      "cell_type": "markdown",
      "metadata": {},
      "source": [
        "#Manipulacion de columnas"
      ]
    },
    {
      "cell_type": "code",
      "execution_count": 67,
      "metadata": {},
      "outputs": [],
      "source": [
        "path = 'onlineretail.csv'\n",
        "df_new = pd.read_csv(path, encoding='latin1')\n",
        "\n",
        "\n"
      ]
    },
    {
      "cell_type": "code",
      "execution_count": 68,
      "metadata": {},
      "outputs": [
        {
          "name": "stdout",
          "output_type": "stream",
          "text": [
            "  InvoiceNo StockCode                          Description  Quantity  \\\n",
            "0    536365    85123A   WHITE HANGING HEART T-LIGHT HOLDER         6   \n",
            "1    536365     71053                  WHITE METAL LANTERN         6   \n",
            "2    536365    84406B       CREAM CUPID HEARTS COAT HANGER         8   \n",
            "3    536365    84029G  KNITTED UNION FLAG HOT WATER BOTTLE         6   \n",
            "4    536365    84029E       RED WOOLLY HOTTIE WHITE HEART.         6   \n",
            "\n",
            "      InvoiceDate  UnitPrice  CustomerID         Country  TotalPrice  \n",
            "0  12/1/2010 8:26       2.55     17850.0  United Kingdom       15.30  \n",
            "1  12/1/2010 8:26       3.39     17850.0  United Kingdom       20.34  \n",
            "2  12/1/2010 8:26       2.75     17850.0  United Kingdom       22.00  \n",
            "3  12/1/2010 8:26       3.39     17850.0  United Kingdom       20.34  \n",
            "4  12/1/2010 8:26       3.39     17850.0  United Kingdom       20.34  \n"
          ]
        }
      ],
      "source": [
        "df_new['TotalPrice'] = df_new['Quantity'] * df_new['UnitPrice']\n",
        "print(df_new.head())"
      ]
    },
    {
      "cell_type": "code",
      "execution_count": 69,
      "metadata": {},
      "outputs": [
        {
          "name": "stdout",
          "output_type": "stream",
          "text": [
            "0    False\n",
            "1     True\n",
            "2     True\n",
            "3     True\n",
            "4     True\n",
            "5    False\n",
            "6     True\n",
            "7    False\n",
            "8    False\n",
            "9     True\n",
            "Name: HighValue, dtype: bool\n"
          ]
        }
      ],
      "source": [
        "df_new['HighValue']= df_new[\"TotalPrice\"]>16\n",
        "print(df_new['HighValue'].head(10))"
      ]
    },
    {
      "cell_type": "code",
      "execution_count": 70,
      "metadata": {},
      "outputs": [
        {
          "name": "stdout",
          "output_type": "stream",
          "text": [
            "<class 'pandas.core.frame.DataFrame'>\n",
            "RangeIndex: 541909 entries, 0 to 541908\n",
            "Data columns (total 10 columns):\n",
            " #   Column       Non-Null Count   Dtype  \n",
            "---  ------       --------------   -----  \n",
            " 0   InvoiceNo    541909 non-null  object \n",
            " 1   StockCode    541909 non-null  object \n",
            " 2   Description  540455 non-null  object \n",
            " 3   Quantity     541909 non-null  int64  \n",
            " 4   InvoiceDate  541909 non-null  object \n",
            " 5   UnitPrice    541909 non-null  float64\n",
            " 6   CustomerID   406829 non-null  float64\n",
            " 7   Country      541909 non-null  object \n",
            " 8   TotalPrice   541909 non-null  float64\n",
            " 9   HighValue    541909 non-null  bool   \n",
            "dtypes: bool(1), float64(3), int64(1), object(5)\n",
            "memory usage: 37.7+ MB\n",
            "None\n"
          ]
        }
      ],
      "source": [
        "print(df_new.info())"
      ]
    },
    {
      "cell_type": "code",
      "execution_count": 71,
      "metadata": {},
      "outputs": [
        {
          "name": "stdout",
          "output_type": "stream",
          "text": [
            "<class 'pandas.core.frame.DataFrame'>\n",
            "RangeIndex: 541909 entries, 0 to 541908\n",
            "Data columns (total 10 columns):\n",
            " #   Column       Non-Null Count   Dtype         \n",
            "---  ------       --------------   -----         \n",
            " 0   InvoiceNo    541909 non-null  object        \n",
            " 1   StockCode    541909 non-null  object        \n",
            " 2   Description  540455 non-null  object        \n",
            " 3   Quantity     541909 non-null  int64         \n",
            " 4   InvoiceDate  541909 non-null  datetime64[ns]\n",
            " 5   UnitPrice    541909 non-null  float64       \n",
            " 6   CustomerID   406829 non-null  float64       \n",
            " 7   Country      541909 non-null  object        \n",
            " 8   TotalPrice   541909 non-null  float64       \n",
            " 9   HighValue    541909 non-null  bool          \n",
            "dtypes: bool(1), datetime64[ns](1), float64(3), int64(1), object(4)\n",
            "memory usage: 37.7+ MB\n",
            "None\n"
          ]
        }
      ],
      "source": [
        "df_new['InvoiceDate'] = pd.to_datetime(df_new['InvoiceDate'])\n",
        "print(df_new.info())"
      ]
    },
    {
      "cell_type": "code",
      "execution_count": 72,
      "metadata": {},
      "outputs": [
        {
          "name": "stdout",
          "output_type": "stream",
          "text": [
            "  InvoiceNo StockCode                          Description  Quantity  \\\n",
            "0    536365    85123A   WHITE HANGING HEART T-LIGHT HOLDER         6   \n",
            "1    536365     71053                  WHITE METAL LANTERN         6   \n",
            "2    536365    84406B       CREAM CUPID HEARTS COAT HANGER         8   \n",
            "3    536365    84029G  KNITTED UNION FLAG HOT WATER BOTTLE         6   \n",
            "4    536365    84029E       RED WOOLLY HOTTIE WHITE HEART.         6   \n",
            "5    536365     22752         SET 7 BABUSHKA NESTING BOXES         2   \n",
            "6    536365     21730    GLASS STAR FROSTED T-LIGHT HOLDER         6   \n",
            "7    536366     22633               HAND WARMER UNION JACK         6   \n",
            "8    536366     22632            HAND WARMER RED POLKA DOT         6   \n",
            "9    536367     84879        ASSORTED COLOUR BIRD ORNAMENT        32   \n",
            "\n",
            "          InvoiceDate  UnitPrice  CustomerID         Country  TotalPrice  \\\n",
            "0 2010-12-01 08:26:00       2.55     17850.0  United Kingdom       15.30   \n",
            "1 2010-12-01 08:26:00       3.39     17850.0  United Kingdom       20.34   \n",
            "2 2010-12-01 08:26:00       2.75     17850.0  United Kingdom       22.00   \n",
            "3 2010-12-01 08:26:00       3.39     17850.0  United Kingdom       20.34   \n",
            "4 2010-12-01 08:26:00       3.39     17850.0  United Kingdom       20.34   \n",
            "5 2010-12-01 08:26:00       7.65     17850.0  United Kingdom       15.30   \n",
            "6 2010-12-01 08:26:00       4.25     17850.0  United Kingdom       25.50   \n",
            "7 2010-12-01 08:28:00       1.85     17850.0  United Kingdom       11.10   \n",
            "8 2010-12-01 08:28:00       1.85     17850.0  United Kingdom       11.10   \n",
            "9 2010-12-01 08:34:00       1.69     13047.0  United Kingdom       54.08   \n",
            "\n",
            "   HighValue  DiscountedPrice  \n",
            "0      False            2.295  \n",
            "1       True            3.051  \n",
            "2       True            2.475  \n",
            "3       True            3.051  \n",
            "4       True            3.051  \n",
            "5      False            6.885  \n",
            "6       True            3.825  \n",
            "7      False            1.665  \n",
            "8      False            1.665  \n",
            "9       True            1.521  \n"
          ]
        }
      ],
      "source": [
        "df_new['DiscountedPrice']=df_new[\"UnitPrice\"].apply(lambda x: x * 0.9)\n",
        "print(df_new.head(10))"
      ]
    },
    {
      "cell_type": "code",
      "execution_count": 73,
      "metadata": {},
      "outputs": [
        {
          "name": "stdout",
          "output_type": "stream",
          "text": [
            "PriceCategory\n",
            "Low       453936\n",
            "Medium     62954\n",
            "High       25019\n",
            "Name: count, dtype: int64\n",
            "[453936  62954  25019]\n"
          ]
        }
      ],
      "source": [
        "def categorize_price(price):\n",
        "    if price > 10:\n",
        "        return 'High'\n",
        "    elif price > 5 and price <10:\n",
        "        return \"Medium\"\n",
        "    else:\n",
        "        return \"Low\"\n",
        "    \n",
        "df_new['PriceCategory']= df_new['UnitPrice'].apply(categorize_price)\n",
        "\n",
        "print(df_new['PriceCategory'].value_counts())\n",
        "print(df_new['PriceCategory'].value_counts().unique())"
      ]
    },
    {
      "cell_type": "markdown",
      "metadata": {},
      "source": []
    },
    {
      "cell_type": "markdown",
      "metadata": {},
      "source": [
        "# group by"
      ]
    },
    {
      "cell_type": "code",
      "execution_count": 74,
      "metadata": {},
      "outputs": [
        {
          "name": "stdout",
          "output_type": "stream",
          "text": [
            "Country\n",
            "United Kingdom          495478\n",
            "Germany                   9495\n",
            "France                    8557\n",
            "EIRE                      8196\n",
            "Spain                     2533\n",
            "Netherlands               2371\n",
            "Belgium                   2069\n",
            "Switzerland               2002\n",
            "Portugal                  1519\n",
            "Australia                 1259\n",
            "Norway                    1086\n",
            "Italy                      803\n",
            "Channel Islands            758\n",
            "Finland                    695\n",
            "Cyprus                     622\n",
            "Sweden                     462\n",
            "Unspecified                446\n",
            "Austria                    401\n",
            "Denmark                    389\n",
            "Japan                      358\n",
            "Poland                     341\n",
            "Israel                     297\n",
            "USA                        291\n",
            "Hong Kong                  288\n",
            "Singapore                  229\n",
            "Iceland                    182\n",
            "Canada                     151\n",
            "Greece                     146\n",
            "Malta                      127\n",
            "United Arab Emirates        68\n",
            "European Community          61\n",
            "RSA                         58\n",
            "Lebanon                     45\n",
            "Lithuania                   35\n",
            "Brazil                      32\n",
            "Czech Republic              30\n",
            "Bahrain                     19\n",
            "Saudi Arabia                10\n",
            "Name: count, dtype: int64\n"
          ]
        }
      ],
      "source": [
        "country_count = df_new['Country'].value_counts()\n",
        "print(country_count)"
      ]
    },
    {
      "cell_type": "code",
      "execution_count": 75,
      "metadata": {},
      "outputs": [
        {
          "name": "stdout",
          "output_type": "stream",
          "text": [
            "Country\n",
            "Australia                 83653\n",
            "Austria                    4827\n",
            "Bahrain                     260\n",
            "Belgium                   23152\n",
            "Brazil                      356\n",
            "Canada                     2763\n",
            "Channel Islands            9479\n",
            "Cyprus                     6317\n",
            "Czech Republic              592\n",
            "Denmark                    8188\n",
            "EIRE                     142637\n",
            "European Community          497\n",
            "Finland                   10666\n",
            "France                   110480\n",
            "Germany                  117448\n",
            "Greece                     1556\n",
            "Hong Kong                  4769\n",
            "Iceland                    2458\n",
            "Israel                     4353\n",
            "Italy                      7999\n",
            "Japan                     25218\n",
            "Lebanon                     386\n",
            "Lithuania                   652\n",
            "Malta                       944\n",
            "Netherlands              200128\n",
            "Norway                    19247\n",
            "Poland                     3653\n",
            "Portugal                  16180\n",
            "RSA                         352\n",
            "Saudi Arabia                 75\n",
            "Singapore                  5234\n",
            "Spain                     26824\n",
            "Sweden                    35637\n",
            "Switzerland               30325\n",
            "USA                        1034\n",
            "United Arab Emirates        982\n",
            "United Kingdom          4263829\n",
            "Unspecified                3300\n",
            "Name: Quantity, dtype: int64\n"
          ]
        }
      ],
      "source": [
        "country_group = df_new.groupby('Country')['Quantity'].sum()\n",
        "print(country_group)"
      ]
    },
    {
      "cell_type": "code",
      "execution_count": 76,
      "metadata": {},
      "outputs": [
        {
          "name": "stdout",
          "output_type": "stream",
          "text": [
            "                            mean          sum\n",
            "Country                                      \n",
            "Australia               3.220612     4054.750\n",
            "Austria                 4.243192     1701.520\n",
            "Bahrain                 4.556316       86.570\n",
            "Belgium                 3.644335     7540.130\n",
            "Brazil                  4.456250      142.600\n",
            "Canada                  6.030331      910.580\n",
            "Channel Islands         4.932124     3738.550\n",
            "Cyprus                  6.302363     3920.070\n",
            "Czech Republic          2.938333       88.150\n",
            "Denmark                 3.256941     1266.950\n",
            "EIRE                    5.911077    48447.190\n",
            "European Community      4.820492      294.050\n",
            "Finland                 5.448705     3786.850\n",
            "France                  5.028864    43031.990\n",
            "Germany                 3.966930    37666.000\n",
            "Greece                  4.885548      713.290\n",
            "Hong Kong              42.505208    12241.500\n",
            "Iceland                 2.644011      481.210\n",
            "Israel                  3.633131     1079.040\n",
            "Italy                   4.831121     3879.390\n",
            "Japan                   2.276145      814.860\n",
            "Lebanon                 5.387556      242.440\n",
            "Lithuania               2.841143       99.440\n",
            "Malta                   5.244173      666.010\n",
            "Netherlands             2.738317     6492.550\n",
            "Norway                  6.012026     6529.060\n",
            "Poland                  4.170880     1422.270\n",
            "Portugal                8.582976    13037.540\n",
            "RSA                     4.277586      248.100\n",
            "Saudi Arabia            2.411000       24.110\n",
            "Singapore             109.645808    25108.890\n",
            "Spain                   4.987544    12633.450\n",
            "Sweden                  3.910887     1806.830\n",
            "Switzerland             3.403442     6813.690\n",
            "USA                     2.216426      644.980\n",
            "United Arab Emirates    3.380735      229.890\n",
            "United Kingdom          4.532422  2245715.474\n",
            "Unspecified             2.699574     1204.010\n"
          ]
        }
      ],
      "source": [
        "country_stats = df_new.groupby('Country')['UnitPrice'].agg(['mean','sum'])\n",
        "print(country_stats)"
      ]
    },
    {
      "cell_type": "code",
      "execution_count": 77,
      "metadata": {},
      "outputs": [
        {
          "name": "stdout",
          "output_type": "stream",
          "text": [
            "Country      StockCode\n",
            "Australia    15036        600\n",
            "             15056BL        3\n",
            "             16161P       400\n",
            "             16169E        25\n",
            "             20665          6\n",
            "                         ... \n",
            "Unspecified  85180A         2\n",
            "             85180B         1\n",
            "             85212         12\n",
            "             85213         12\n",
            "             85227         10\n",
            "Name: Quantity, Length: 19839, dtype: int64\n"
          ]
        }
      ],
      "source": [
        "country_stock_group = df_new.groupby(['Country','StockCode'])['Quantity'].sum()\n",
        "print(country_stock_group)"
      ]
    },
    {
      "cell_type": "code",
      "execution_count": 78,
      "metadata": {},
      "outputs": [
        {
          "name": "stdout",
          "output_type": "stream",
          "text": [
            "Country\n",
            "Saudi Arabia                131.170\n",
            "Bahrain                     548.400\n",
            "Czech Republic              707.720\n",
            "RSA                        1002.310\n",
            "Brazil                     1143.600\n",
            "European Community         1291.750\n",
            "Lithuania                  1661.060\n",
            "Lebanon                    1693.880\n",
            "USA                        1730.920\n",
            "United Arab Emirates       1902.280\n",
            "Malta                      2505.470\n",
            "Canada                     3666.380\n",
            "Iceland                    4310.000\n",
            "Greece                     4710.520\n",
            "Unspecified                4749.790\n",
            "Poland                     7213.140\n",
            "Israel                     7907.820\n",
            "Singapore                  9120.390\n",
            "Hong Kong                 10117.040\n",
            "Austria                   10154.320\n",
            "Cyprus                    12946.290\n",
            "Italy                     16890.510\n",
            "Denmark                   18768.140\n",
            "Channel Islands           20086.290\n",
            "Finland                   22326.740\n",
            "Portugal                  29367.020\n",
            "Norway                    35163.460\n",
            "Japan                     35340.620\n",
            "Sweden                    36595.910\n",
            "Belgium                   40910.960\n",
            "Spain                     54774.580\n",
            "Switzerland               56385.350\n",
            "Australia                137077.270\n",
            "France                   197403.900\n",
            "Germany                  221698.210\n",
            "EIRE                     263276.820\n",
            "Netherlands              284661.540\n",
            "United Kingdom          8187806.364\n",
            "dtype: float64\n"
          ]
        },
        {
          "name": "stderr",
          "output_type": "stream",
          "text": [
            "C:\\Users\\rojas\\AppData\\Local\\Temp\\ipykernel_3824\\2374788652.py:4: DeprecationWarning: DataFrameGroupBy.apply operated on the grouping columns. This behavior is deprecated, and in a future version of pandas the grouping columns will be excluded from the operation. Either pass `include_groups=False` to exclude the groupings or explicitly select the grouping columns after groupby to silence this warning.\n",
            "  revenue_per_country =df_new.groupby('Country').apply(total_revenue)\n"
          ]
        }
      ],
      "source": [
        "def total_revenue (group):\n",
        "    return (group['Quantity']*group['UnitPrice']).sum()\n",
        "\n",
        "revenue_per_country =df_new.groupby('Country').apply(total_revenue)\n",
        "\n",
        "print(revenue_per_country.sort_values())"
      ]
    },
    {
      "cell_type": "code",
      "execution_count": 79,
      "metadata": {},
      "outputs": [
        {
          "name": "stdout",
          "output_type": "stream",
          "text": [
            "  InvoiceNo StockCode                          Description  Quantity  \\\n",
            "0    536365    85123A   WHITE HANGING HEART T-LIGHT HOLDER         6   \n",
            "1    536365     71053                  WHITE METAL LANTERN         6   \n",
            "2    536365    84406B       CREAM CUPID HEARTS COAT HANGER         8   \n",
            "3    536365    84029G  KNITTED UNION FLAG HOT WATER BOTTLE         6   \n",
            "4    536365    84029E       RED WOOLLY HOTTIE WHITE HEART.         6   \n",
            "\n",
            "          InvoiceDate  UnitPrice  CustomerID         Country  TotalPrice  \\\n",
            "0 2010-12-01 08:26:00       2.55     17850.0  United Kingdom       15.30   \n",
            "1 2010-12-01 08:26:00       3.39     17850.0  United Kingdom       20.34   \n",
            "2 2010-12-01 08:26:00       2.75     17850.0  United Kingdom       22.00   \n",
            "3 2010-12-01 08:26:00       3.39     17850.0  United Kingdom       20.34   \n",
            "4 2010-12-01 08:26:00       3.39     17850.0  United Kingdom       20.34   \n",
            "\n",
            "   HighValue  DiscountedPrice PriceCategory  \n",
            "0      False            2.295           Low  \n",
            "1       True            3.051           Low  \n",
            "2       True            2.475           Low  \n",
            "3       True            3.051           Low  \n",
            "4       True            3.051           Low  \n"
          ]
        }
      ],
      "source": [
        "print(df_new.head())"
      ]
    },
    {
      "cell_type": "code",
      "execution_count": 80,
      "metadata": {},
      "outputs": [
        {
          "name": "stdout",
          "output_type": "stream",
          "text": [
            "       InvoiceNo StockCode                          Description  Quantity  \\\n",
            "0         536365    85123A   WHITE HANGING HEART T-LIGHT HOLDER         6   \n",
            "1         536365     71053                  WHITE METAL LANTERN         6   \n",
            "2         536365    84406B       CREAM CUPID HEARTS COAT HANGER         8   \n",
            "3         536365    84029G  KNITTED UNION FLAG HOT WATER BOTTLE         6   \n",
            "4         536365    84029E       RED WOOLLY HOTTIE WHITE HEART.         6   \n",
            "...          ...       ...                                  ...       ...   \n",
            "541889    581585     22466       FAIRY TALE COTTAGE NIGHT LIGHT        12   \n",
            "541890    581586     22061  LARGE CAKE STAND  HANGING STRAWBERY         8   \n",
            "541891    581586     23275     SET OF 3 HANGING OWLS OLLIE BEAK        24   \n",
            "541892    581586     21217        RED RETROSPOT ROUND CAKE TINS        24   \n",
            "541893    581586     20685                DOORMAT RED RETROSPOT        10   \n",
            "\n",
            "               InvoiceDate  UnitPrice  CustomerID         Country  TotalPrice  \\\n",
            "0      2010-12-01 08:26:00       2.55     17850.0  United Kingdom       15.30   \n",
            "1      2010-12-01 08:26:00       3.39     17850.0  United Kingdom       20.34   \n",
            "2      2010-12-01 08:26:00       2.75     17850.0  United Kingdom       22.00   \n",
            "3      2010-12-01 08:26:00       3.39     17850.0  United Kingdom       20.34   \n",
            "4      2010-12-01 08:26:00       3.39     17850.0  United Kingdom       20.34   \n",
            "...                    ...        ...         ...             ...         ...   \n",
            "541889 2011-12-09 12:31:00       1.95     15804.0  United Kingdom       23.40   \n",
            "541890 2011-12-09 12:49:00       2.95     13113.0  United Kingdom       23.60   \n",
            "541891 2011-12-09 12:49:00       1.25     13113.0  United Kingdom       30.00   \n",
            "541892 2011-12-09 12:49:00       8.95     13113.0  United Kingdom      214.80   \n",
            "541893 2011-12-09 12:49:00       7.08     13113.0  United Kingdom       70.80   \n",
            "\n",
            "        HighValue  DiscountedPrice PriceCategory  \n",
            "0           False            2.295           Low  \n",
            "1            True            3.051           Low  \n",
            "2            True            2.475           Low  \n",
            "3            True            3.051           Low  \n",
            "4            True            3.051           Low  \n",
            "...           ...              ...           ...  \n",
            "541889       True            1.755           Low  \n",
            "541890       True            2.655           Low  \n",
            "541891       True            1.125           Low  \n",
            "541892       True            8.055        Medium  \n",
            "541893       True            6.372        Medium  \n",
            "\n",
            "[495478 rows x 12 columns]\n"
          ]
        }
      ],
      "source": [
        "#filtrar ventas en UK\n",
        "uk_sales = df_new[df_new['Country'] =='United Kingdom' ]\n",
        "\n",
        "print(uk_sales)"
      ]
    },
    {
      "cell_type": "code",
      "execution_count": 81,
      "metadata": {},
      "outputs": [
        {
          "name": "stdout",
          "output_type": "stream",
          "text": [
            "       InvoiceNo StockCode                      Description  Quantity  \\\n",
            "9         536367     84879    ASSORTED COLOUR BIRD ORNAMENT        32   \n",
            "26        536370     22728        ALARM CLOCK BAKELIKE PINK        24   \n",
            "27        536370     22727        ALARM CLOCK BAKELIKE RED         24   \n",
            "28        536370     22726       ALARM CLOCK BAKELIKE GREEN        12   \n",
            "29        536370     21724  PANDA AND BUNNIES STICKER SHEET        12   \n",
            "...          ...       ...                              ...       ...   \n",
            "541894    581587     22631         CIRCUS PARADE LUNCH BOX         12   \n",
            "541895    581587     22556   PLASTERS IN TIN CIRCUS PARADE         12   \n",
            "541896    581587     22555        PLASTERS IN TIN STRONGMAN        12   \n",
            "541902    581587     22629              SPACEBOY LUNCH BOX         12   \n",
            "541904    581587     22613      PACK OF 20 SPACEBOY NAPKINS        12   \n",
            "\n",
            "               InvoiceDate  UnitPrice  CustomerID         Country  TotalPrice  \\\n",
            "9      2010-12-01 08:34:00       1.69     13047.0  United Kingdom       54.08   \n",
            "26     2010-12-01 08:45:00       3.75     12583.0          France       90.00   \n",
            "27     2010-12-01 08:45:00       3.75     12583.0          France       90.00   \n",
            "28     2010-12-01 08:45:00       3.75     12583.0          France       45.00   \n",
            "29     2010-12-01 08:45:00       0.85     12583.0          France       10.20   \n",
            "...                    ...        ...         ...             ...         ...   \n",
            "541894 2011-12-09 12:50:00       1.95     12680.0          France       23.40   \n",
            "541895 2011-12-09 12:50:00       1.65     12680.0          France       19.80   \n",
            "541896 2011-12-09 12:50:00       1.65     12680.0          France       19.80   \n",
            "541902 2011-12-09 12:50:00       1.95     12680.0          France       23.40   \n",
            "541904 2011-12-09 12:50:00       0.85     12680.0          France       10.20   \n",
            "\n",
            "        HighValue  DiscountedPrice PriceCategory  \n",
            "9            True            1.521           Low  \n",
            "26           True            3.375           Low  \n",
            "27           True            3.375           Low  \n",
            "28           True            3.375           Low  \n",
            "29          False            0.765           Low  \n",
            "...           ...              ...           ...  \n",
            "541894       True            1.755           Low  \n",
            "541895       True            1.485           Low  \n",
            "541896       True            1.485           Low  \n",
            "541902       True            1.755           Low  \n",
            "541904      False            0.765           Low  \n",
            "\n",
            "[132631 rows x 12 columns]\n"
          ]
        }
      ],
      "source": [
        "high_quantity_sales = df_new[df_new['Quantity']>10]\n",
        "print(high_quantity_sales)"
      ]
    },
    {
      "cell_type": "code",
      "execution_count": 82,
      "metadata": {},
      "outputs": [
        {
          "name": "stdout",
          "output_type": "stream",
          "text": [
            "       InvoiceNo StockCode                     Description  Quantity  \\\n",
            "181       536387     22466   FAIRY TALE COTTAGE NIGHTLIGHT       432   \n",
            "182       536387     21731   RED TOADSTOOL LED NIGHT LIGHT       432   \n",
            "730       536437     17021          NAMASTE SWAGAT INCENSE       600   \n",
            "870       536477     21137        BLACK RECORD COVER FRAME       480   \n",
            "2364      536584    84029E  RED WOOLLY HOTTIE WHITE HEART.       384   \n",
            "...          ...       ...                             ...       ...   \n",
            "540060    581457     22189         CREAM HEART CARD HOLDER       324   \n",
            "540061    581457     23543             WALL ART KEEP CALM        698   \n",
            "540070    581458     22197                  POPCORN HOLDER      1500   \n",
            "540071    581459     22197                  POPCORN HOLDER      1200   \n",
            "540421    581483     23843     PAPER CRAFT , LITTLE BIRDIE     80995   \n",
            "\n",
            "               InvoiceDate  UnitPrice  CustomerID         Country  TotalPrice  \\\n",
            "181    2010-12-01 09:58:00       1.45     16029.0  United Kingdom      626.40   \n",
            "182    2010-12-01 09:58:00       1.25     16029.0  United Kingdom      540.00   \n",
            "730    2010-12-01 12:12:00       0.24     13694.0  United Kingdom      144.00   \n",
            "870    2010-12-01 12:27:00       3.39     16210.0  United Kingdom     1627.20   \n",
            "2364   2010-12-01 16:22:00       2.95     13777.0  United Kingdom     1132.80   \n",
            "...                    ...        ...         ...             ...         ...   \n",
            "540060 2011-12-08 18:43:00       3.39     18102.0  United Kingdom     1098.36   \n",
            "540061 2011-12-08 18:43:00       4.15     18102.0  United Kingdom     2896.70   \n",
            "540070 2011-12-08 18:45:00       0.72     17949.0  United Kingdom     1080.00   \n",
            "540071 2011-12-08 18:46:00       0.72     17949.0  United Kingdom      864.00   \n",
            "540421 2011-12-09 09:15:00       2.08     16446.0  United Kingdom   168469.60   \n",
            "\n",
            "        HighValue  DiscountedPrice PriceCategory  \n",
            "181          True            1.305           Low  \n",
            "182          True            1.125           Low  \n",
            "730          True            0.216           Low  \n",
            "870          True            3.051           Low  \n",
            "2364         True            2.655           Low  \n",
            "...           ...              ...           ...  \n",
            "540060       True            3.051           Low  \n",
            "540061       True            3.735           Low  \n",
            "540070       True            0.648           Low  \n",
            "540071       True            0.648           Low  \n",
            "540421       True            1.872           Low  \n",
            "\n",
            "[777 rows x 12 columns]\n"
          ]
        }
      ],
      "source": [
        "uk_sales_high = df_new[(df_new['Country'] =='United Kingdom')& (df_new['Quantity']>300)]\n",
        "\n",
        "print(uk_sales_high)"
      ]
    },
    {
      "cell_type": "code",
      "execution_count": 83,
      "metadata": {},
      "outputs": [
        {
          "name": "stdout",
          "output_type": "stream",
          "text": [
            "       InvoiceNo StockCode                      Description  Quantity  \\\n",
            "42481     539993     22386          JUMBO BAG PINK POLKADOT        10   \n",
            "42482     539993     21499               BLUE POLKADOT WRAP        25   \n",
            "42483     539993     21498              RED RETROSPOT WRAP         25   \n",
            "42484     539993     22379         RECYCLING BAG RETROSPOT          5   \n",
            "42485     539993     20718        RED RETROSPOT SHOPPER BAG        10   \n",
            "...          ...       ...                              ...       ...   \n",
            "541904    581587     22613      PACK OF 20 SPACEBOY NAPKINS        12   \n",
            "541905    581587     22899     CHILDREN'S APRON DOLLY GIRL          6   \n",
            "541906    581587     23254    CHILDRENS CUTLERY DOLLY GIRL          4   \n",
            "541907    581587     23255  CHILDRENS CUTLERY CIRCUS PARADE         4   \n",
            "541908    581587     22138    BAKING SET 9 PIECE RETROSPOT          3   \n",
            "\n",
            "               InvoiceDate  UnitPrice  CustomerID         Country  TotalPrice  \\\n",
            "42481  2011-01-04 10:00:00       1.95     13313.0  United Kingdom       19.50   \n",
            "42482  2011-01-04 10:00:00       0.42     13313.0  United Kingdom       10.50   \n",
            "42483  2011-01-04 10:00:00       0.42     13313.0  United Kingdom       10.50   \n",
            "42484  2011-01-04 10:00:00       2.10     13313.0  United Kingdom       10.50   \n",
            "42485  2011-01-04 10:00:00       1.25     13313.0  United Kingdom       12.50   \n",
            "...                    ...        ...         ...             ...         ...   \n",
            "541904 2011-12-09 12:50:00       0.85     12680.0          France       10.20   \n",
            "541905 2011-12-09 12:50:00       2.10     12680.0          France       12.60   \n",
            "541906 2011-12-09 12:50:00       4.15     12680.0          France       16.60   \n",
            "541907 2011-12-09 12:50:00       4.15     12680.0          France       16.60   \n",
            "541908 2011-12-09 12:50:00       4.95     12680.0          France       14.85   \n",
            "\n",
            "        HighValue  DiscountedPrice PriceCategory  \n",
            "42481        True            1.755           Low  \n",
            "42482       False            0.378           Low  \n",
            "42483       False            0.378           Low  \n",
            "42484       False            1.890           Low  \n",
            "42485       False            1.125           Low  \n",
            "...           ...              ...           ...  \n",
            "541904      False            0.765           Low  \n",
            "541905      False            1.890           Low  \n",
            "541906       True            3.735           Low  \n",
            "541907       True            3.735           Low  \n",
            "541908      False            4.455           Low  \n",
            "\n",
            "[499428 rows x 12 columns]\n"
          ]
        }
      ],
      "source": [
        "sales_2011 = df_new[df_new['InvoiceDate'].dt.year==2011]\n",
        "print(sales_2011)"
      ]
    },
    {
      "cell_type": "code",
      "execution_count": 84,
      "metadata": {},
      "outputs": [
        {
          "name": "stdout",
          "output_type": "stream",
          "text": [
            "      InvoiceNo StockCode                          Description  Quantity  \\\n",
            "0        536365    85123A   WHITE HANGING HEART T-LIGHT HOLDER         6   \n",
            "1        536365     71053                  WHITE METAL LANTERN         6   \n",
            "2        536365    84406B       CREAM CUPID HEARTS COAT HANGER         8   \n",
            "3        536365    84029G  KNITTED UNION FLAG HOT WATER BOTTLE         6   \n",
            "4        536365    84029E       RED WOOLLY HOTTIE WHITE HEART.         6   \n",
            "...         ...       ...                                  ...       ...   \n",
            "42476    539991     21618       4 WILDFLOWER BOTANICAL CANDLES         1   \n",
            "42477    539991     72741                GRAND CHOCOLATECANDLE         4   \n",
            "42478    539992     21470        FLOWER VINE RAFFIA FOOD COVER         1   \n",
            "42479    539992     22258              FELT FARM ANIMAL RABBIT         1   \n",
            "42480    539992     21155                RED RETROSPOT PEG BAG         1   \n",
            "\n",
            "              InvoiceDate  UnitPrice  CustomerID         Country  TotalPrice  \\\n",
            "0     2010-12-01 08:26:00       2.55     17850.0  United Kingdom       15.30   \n",
            "1     2010-12-01 08:26:00       3.39     17850.0  United Kingdom       20.34   \n",
            "2     2010-12-01 08:26:00       2.75     17850.0  United Kingdom       22.00   \n",
            "3     2010-12-01 08:26:00       3.39     17850.0  United Kingdom       20.34   \n",
            "4     2010-12-01 08:26:00       3.39     17850.0  United Kingdom       20.34   \n",
            "...                   ...        ...         ...             ...         ...   \n",
            "42476 2010-12-23 16:49:00       1.25         NaN  United Kingdom        1.25   \n",
            "42477 2010-12-23 16:49:00       1.45         NaN  United Kingdom        5.80   \n",
            "42478 2010-12-23 17:41:00       3.75         NaN  United Kingdom        3.75   \n",
            "42479 2010-12-23 17:41:00       1.25         NaN  United Kingdom        1.25   \n",
            "42480 2010-12-23 17:41:00       2.10         NaN  United Kingdom        2.10   \n",
            "\n",
            "       HighValue  DiscountedPrice PriceCategory  \n",
            "0          False            2.295           Low  \n",
            "1           True            3.051           Low  \n",
            "2           True            2.475           Low  \n",
            "3           True            3.051           Low  \n",
            "4           True            3.051           Low  \n",
            "...          ...              ...           ...  \n",
            "42476      False            1.125           Low  \n",
            "42477      False            1.305           Low  \n",
            "42478      False            3.375           Low  \n",
            "42479      False            1.125           Low  \n",
            "42480      False            1.890           Low  \n",
            "\n",
            "[42481 rows x 12 columns]\n"
          ]
        }
      ],
      "source": [
        "sales_2010 = df_new[df_new['InvoiceDate'].dt.year==2010]\n",
        "print(sales_2010)"
      ]
    },
    {
      "cell_type": "code",
      "execution_count": 85,
      "metadata": {},
      "outputs": [
        {
          "name": "stdout",
          "output_type": "stream",
          "text": [
            "      InvoiceNo StockCode                          Description  Quantity  \\\n",
            "0        536365    85123A   WHITE HANGING HEART T-LIGHT HOLDER         6   \n",
            "1        536365     71053                  WHITE METAL LANTERN         6   \n",
            "2        536365    84406B       CREAM CUPID HEARTS COAT HANGER         8   \n",
            "3        536365    84029G  KNITTED UNION FLAG HOT WATER BOTTLE         6   \n",
            "4        536365    84029E       RED WOOLLY HOTTIE WHITE HEART.         6   \n",
            "...         ...       ...                                  ...       ...   \n",
            "42476    539991     21618       4 WILDFLOWER BOTANICAL CANDLES         1   \n",
            "42477    539991     72741                GRAND CHOCOLATECANDLE         4   \n",
            "42478    539992     21470        FLOWER VINE RAFFIA FOOD COVER         1   \n",
            "42479    539992     22258              FELT FARM ANIMAL RABBIT         1   \n",
            "42480    539992     21155                RED RETROSPOT PEG BAG         1   \n",
            "\n",
            "              InvoiceDate  UnitPrice  CustomerID         Country  TotalPrice  \\\n",
            "0     2010-12-01 08:26:00       2.55     17850.0  United Kingdom       15.30   \n",
            "1     2010-12-01 08:26:00       3.39     17850.0  United Kingdom       20.34   \n",
            "2     2010-12-01 08:26:00       2.75     17850.0  United Kingdom       22.00   \n",
            "3     2010-12-01 08:26:00       3.39     17850.0  United Kingdom       20.34   \n",
            "4     2010-12-01 08:26:00       3.39     17850.0  United Kingdom       20.34   \n",
            "...                   ...        ...         ...             ...         ...   \n",
            "42476 2010-12-23 16:49:00       1.25         NaN  United Kingdom        1.25   \n",
            "42477 2010-12-23 16:49:00       1.45         NaN  United Kingdom        5.80   \n",
            "42478 2010-12-23 17:41:00       3.75         NaN  United Kingdom        3.75   \n",
            "42479 2010-12-23 17:41:00       1.25         NaN  United Kingdom        1.25   \n",
            "42480 2010-12-23 17:41:00       2.10         NaN  United Kingdom        2.10   \n",
            "\n",
            "       HighValue  DiscountedPrice PriceCategory  \n",
            "0          False            2.295           Low  \n",
            "1           True            3.051           Low  \n",
            "2           True            2.475           Low  \n",
            "3           True            3.051           Low  \n",
            "4           True            3.051           Low  \n",
            "...          ...              ...           ...  \n",
            "42476      False            1.125           Low  \n",
            "42477      False            1.305           Low  \n",
            "42478      False            3.375           Low  \n",
            "42479      False            1.125           Low  \n",
            "42480      False            1.890           Low  \n",
            "\n",
            "[42481 rows x 12 columns]\n"
          ]
        }
      ],
      "source": [
        "sales_dic_2010 = df_new[(df_new['InvoiceDate'].dt.year==2010) &(df_new['InvoiceDate'].dt.month==12)]\n",
        "print(sales_dic_2010)"
      ]
    },
    {
      "cell_type": "markdown",
      "metadata": {},
      "source": [
        "## PIVOT TABLE\n"
      ]
    },
    {
      "cell_type": "code",
      "execution_count": 89,
      "metadata": {},
      "outputs": [
        {
          "name": "stdout",
          "output_type": "stream",
          "text": [
            "                   sum                                                        \\\n",
            "StockCode        10002 10120 10123C 10124A 10124G  10125  10133  10135 11001   \n",
            "Country                                                                        \n",
            "Australia          NaN   NaN    NaN    NaN    NaN    NaN    NaN    NaN   NaN   \n",
            "Austria            NaN   NaN    NaN    NaN    NaN    NaN    NaN    NaN   NaN   \n",
            "Bahrain            NaN   NaN    NaN    NaN    NaN    NaN    NaN    NaN   NaN   \n",
            "Belgium            NaN   NaN    NaN    NaN    NaN    NaN    NaN    NaN   NaN   \n",
            "Channel Islands    NaN   NaN    NaN    NaN    NaN    NaN    NaN    NaN   NaN   \n",
            "Cyprus             NaN   NaN    NaN    NaN    NaN    NaN    NaN    NaN   NaN   \n",
            "Denmark            NaN   NaN    NaN    NaN    NaN    NaN    NaN    NaN   NaN   \n",
            "EIRE              12.0   NaN    NaN    NaN    NaN    NaN    NaN    NaN  16.0   \n",
            "Finland            NaN   NaN    NaN    NaN    NaN    NaN    NaN    NaN   NaN   \n",
            "France            96.0   NaN    NaN    NaN    NaN    NaN    NaN    NaN   NaN   \n",
            "Germany            NaN   NaN    NaN    NaN    NaN    NaN    NaN    NaN   NaN   \n",
            "Iceland            NaN   NaN    NaN    NaN    NaN    NaN    NaN    NaN   NaN   \n",
            "Israel             NaN   NaN    NaN    NaN    NaN    NaN    NaN    NaN   NaN   \n",
            "Italy              NaN   NaN    NaN    NaN    NaN    NaN    NaN    NaN   NaN   \n",
            "Japan              NaN   NaN    NaN    NaN    NaN    NaN    NaN    NaN   NaN   \n",
            "Lithuania          NaN   NaN    NaN    NaN    NaN    NaN    NaN    NaN   NaN   \n",
            "Netherlands        NaN   NaN    NaN    NaN    NaN    NaN    NaN    NaN   NaN   \n",
            "Norway             NaN   NaN    NaN    NaN    NaN    NaN    NaN    NaN   NaN   \n",
            "Poland             NaN   NaN    NaN    NaN    NaN    NaN    NaN    NaN   NaN   \n",
            "Portugal           NaN   NaN    NaN    NaN    NaN    NaN   20.0    NaN   NaN   \n",
            "Spain              NaN   NaN    NaN    NaN    NaN    NaN    NaN    NaN   NaN   \n",
            "Sweden             NaN   NaN    NaN    NaN    NaN    NaN    NaN    NaN   NaN   \n",
            "Switzerland        NaN   NaN    NaN    NaN    NaN    NaN    NaN    NaN   NaN   \n",
            "United Kingdom   143.0  16.0    1.0    4.0    5.0  154.0  110.0  411.0  57.0   \n",
            "\n",
            "                       ...     mean                                   \\\n",
            "StockCode       15034  ... DCGS0003 DCGS0070 DCGS0076  DOT         M   \n",
            "Country                ...                                             \n",
            "Australia         NaN  ...      NaN      NaN      NaN  NaN       NaN   \n",
            "Austria           NaN  ...      NaN      NaN      NaN  NaN       NaN   \n",
            "Bahrain           NaN  ...      NaN      NaN      NaN  NaN       NaN   \n",
            "Belgium           NaN  ...      NaN      NaN      NaN  NaN       NaN   \n",
            "Channel Islands   NaN  ...      NaN      NaN      NaN  NaN       NaN   \n",
            "Cyprus            NaN  ...      NaN      NaN      NaN  NaN       NaN   \n",
            "Denmark           NaN  ...      NaN      NaN      NaN  NaN       NaN   \n",
            "EIRE              NaN  ...      NaN      NaN      NaN  NaN       NaN   \n",
            "Finland           NaN  ...      NaN      NaN      NaN  NaN       NaN   \n",
            "France            NaN  ...      NaN      NaN      NaN  NaN       NaN   \n",
            "Germany           NaN  ...      NaN      NaN      NaN  NaN       NaN   \n",
            "Iceland           NaN  ...      NaN      NaN      NaN  NaN       NaN   \n",
            "Israel            NaN  ...      NaN      NaN      NaN  NaN       NaN   \n",
            "Italy             NaN  ...      NaN      NaN      NaN  NaN       NaN   \n",
            "Japan             NaN  ...      NaN      NaN      NaN  NaN       NaN   \n",
            "Lithuania         NaN  ...      NaN      NaN      NaN  NaN       NaN   \n",
            "Netherlands       NaN  ...      NaN      NaN      NaN  NaN       NaN   \n",
            "Norway            NaN  ...      NaN      NaN      NaN  NaN       NaN   \n",
            "Poland            NaN  ...      NaN      NaN      NaN  NaN       NaN   \n",
            "Portugal          NaN  ...      NaN      NaN      NaN  NaN       NaN   \n",
            "Spain             NaN  ...      NaN      NaN      NaN  NaN       NaN   \n",
            "Sweden            NaN  ...      NaN      NaN      NaN  NaN       NaN   \n",
            "Switzerland       NaN  ...      NaN      NaN      NaN  NaN       NaN   \n",
            "United Kingdom   45.0  ...      1.0      1.0      1.5  1.0  4.897436   \n",
            "\n",
            "                                                               \n",
            "StockCode            POST    S gift_0001_40 gift_0001_50    m  \n",
            "Country                                                        \n",
            "Australia             NaN  NaN          NaN          NaN  NaN  \n",
            "Austria          3.000000  NaN          NaN          NaN  NaN  \n",
            "Bahrain               NaN  NaN          NaN          NaN  NaN  \n",
            "Belgium          2.600000  NaN          NaN          NaN  NaN  \n",
            "Channel Islands       NaN  NaN          NaN          NaN  NaN  \n",
            "Cyprus                NaN  NaN          NaN          NaN  NaN  \n",
            "Denmark          8.000000  NaN          NaN          NaN  NaN  \n",
            "EIRE                  NaN  NaN          NaN          NaN  NaN  \n",
            "Finland          6.000000  NaN          NaN          NaN  NaN  \n",
            "France           3.058824  NaN          NaN          NaN  NaN  \n",
            "Germany          4.000000  NaN          NaN          NaN  NaN  \n",
            "Iceland               NaN  NaN          NaN          NaN  NaN  \n",
            "Israel                NaN  NaN          NaN          NaN  NaN  \n",
            "Italy            2.500000  NaN          NaN          NaN  NaN  \n",
            "Japan                 NaN  NaN          NaN          NaN  NaN  \n",
            "Lithuania             NaN  NaN          NaN          NaN  NaN  \n",
            "Netherlands      1.000000  NaN          NaN          NaN  NaN  \n",
            "Norway                NaN  NaN          NaN          NaN  NaN  \n",
            "Poland                NaN  NaN          NaN          NaN  NaN  \n",
            "Portugal         2.333333  NaN          NaN          NaN  NaN  \n",
            "Spain            5.000000  NaN          NaN          NaN  NaN  \n",
            "Sweden                NaN  NaN          NaN          NaN  NaN  \n",
            "Switzerland      2.000000  NaN          NaN          NaN  NaN  \n",
            "United Kingdom  -0.600000 -1.0          1.0          1.0  1.0  \n",
            "\n",
            "[24 rows x 5644 columns]\n"
          ]
        }
      ],
      "source": [
        "pivot_table = pd.pivot_table(sales_2010, values=\"Quantity\",index='Country', columns=\"StockCode\",aggfunc=['sum','mean'])\n",
        "print(pivot_table)"
      ]
    },
    {
      "cell_type": "code",
      "execution_count": 90,
      "metadata": {},
      "outputs": [
        {
          "name": "stdout",
          "output_type": "stream",
          "text": [
            "     A  B  C\n",
            "0  foo  1  4\n",
            "1  bar  2  5\n",
            "2  baz  3  6\n"
          ]
        }
      ],
      "source": [
        "df = pd.DataFrame({\n",
        "    'A': [\"foo\", 'bar','baz'],\n",
        "    'B': [1,2,3],\n",
        "    'C':[4,5,6]\n",
        "})\n",
        "print(df)"
      ]
    },
    {
      "cell_type": "code",
      "execution_count": 91,
      "metadata": {},
      "outputs": [
        {
          "name": "stdout",
          "output_type": "stream",
          "text": [
            "0  A    foo\n",
            "   B      1\n",
            "   C      4\n",
            "1  A    bar\n",
            "   B      2\n",
            "   C      5\n",
            "2  A    baz\n",
            "   B      3\n",
            "   C      6\n",
            "dtype: object\n"
          ]
        }
      ],
      "source": [
        "df_stack = df.stack()\n",
        "print(df_stack)"
      ]
    },
    {
      "cell_type": "code",
      "execution_count": 93,
      "metadata": {},
      "outputs": [
        {
          "name": "stdout",
          "output_type": "stream",
          "text": [
            "     A  B  C\n",
            "0  foo  1  4\n",
            "1  bar  2  5\n",
            "2  baz  3  6\n"
          ]
        }
      ],
      "source": [
        "df_unstacked = df_stack.unstack()\n",
        "print(df_unstacked)"
      ]
    },
    {
      "cell_type": "markdown",
      "metadata": {},
      "source": [
        "## Uniones"
      ]
    },
    {
      "cell_type": "code",
      "execution_count": 94,
      "metadata": {},
      "outputs": [
        {
          "name": "stdout",
          "output_type": "stream",
          "text": [
            "  key  value1\n",
            "0   A       1\n",
            "1   B       2\n",
            "2   C       3\n",
            "  key  value2\n",
            "0   B       4\n",
            "1   C       5\n",
            "2   D       6\n"
          ]
        },
        {
          "data": {
            "text/plain": [
              "\"\\n# Ejercicios con concat()\\ndf3 = pd.DataFrame({\\n  'A': ['A0', 'A1', 'A2'],\\n  'B': ['B0', 'B1', 'B2'],\\n})\\n\\ndf4 = pd.DataFrame({\\n  'A': ['A3', 'A4', 'A5'],\\n  'B': ['B3', 'B4', 'B5'],\\n}) \\n\\n# Ejercicios con join()\\ndf5 = pd.DataFrame({\\n    'A': ['A0', 'A1', 'A2'],\\n    'B': ['B0', 'B1', 'B2']\\n  }, \\n  index = ['K0', 'K1', 'K2']\\n) \\n\\ndf6 = pd.DataFrame({\\n    'C': ['C0', 'C1', 'C2'],\\n    'D': ['DO', 'D1', 'D2']\\n  }, \\n  index = ['K0', 'K2', 'K3']\\n)\\n\""
            ]
          },
          "execution_count": 94,
          "metadata": {},
          "output_type": "execute_result"
        }
      ],
      "source": [
        "# Ejercicios con merge()\n",
        "df1 = pd.DataFrame({\n",
        "  'key': ['A', 'B', 'C'],\n",
        "  'value1': [1,2,3]\n",
        "})\n",
        "\n",
        "df2 = pd.DataFrame({\n",
        "  'key': ['B', 'C', 'D'],\n",
        "  'value2': [4,5,6]\n",
        "})\n",
        "\n",
        "print(df1)\n",
        "print(df2)\n",
        "\"\"\"\n",
        "\n",
        "\n",
        "\n"
      ]
    },
    {
      "cell_type": "code",
      "execution_count": 95,
      "metadata": {},
      "outputs": [
        {
          "name": "stdout",
          "output_type": "stream",
          "text": [
            "  key  value1  value2\n",
            "0   B       2       4\n",
            "1   C       3       5\n"
          ]
        }
      ],
      "source": [
        "ineer_merged = pd.merge(df1,df2, on = 'key', how='inner')\n",
        "print(ineer_merged)"
      ]
    },
    {
      "cell_type": "code",
      "execution_count": 96,
      "metadata": {},
      "outputs": [
        {
          "name": "stdout",
          "output_type": "stream",
          "text": [
            "  key  value1  value2\n",
            "0   A     1.0     NaN\n",
            "1   B     2.0     4.0\n",
            "2   C     3.0     5.0\n",
            "3   D     NaN     6.0\n"
          ]
        }
      ],
      "source": [
        "outer_merged = pd.merge(df1,df2, on='key', how='outer')\n",
        "print(outer_merged)"
      ]
    },
    {
      "cell_type": "code",
      "execution_count": 98,
      "metadata": {},
      "outputs": [
        {
          "name": "stdout",
          "output_type": "stream",
          "text": [
            "  key  value1  value2\n",
            "0   A       1     NaN\n",
            "1   B       2     4.0\n",
            "2   C       3     5.0\n"
          ]
        }
      ],
      "source": [
        "left_merged =pd.merge(df1, df2, on='key', how = 'left')\n",
        "print(left_merged)"
      ]
    },
    {
      "cell_type": "code",
      "execution_count": 99,
      "metadata": {},
      "outputs": [
        {
          "name": "stdout",
          "output_type": "stream",
          "text": [
            "  key  value1  value2\n",
            "0   B     2.0       4\n",
            "1   C     3.0       5\n",
            "2   D     NaN       6\n"
          ]
        }
      ],
      "source": [
        "right_merged =pd.merge(df1, df2, on='key', how = 'right')\n",
        "print(right_merged)"
      ]
    },
    {
      "cell_type": "markdown",
      "metadata": {},
      "source": [
        "## CONCATC"
      ]
    },
    {
      "cell_type": "markdown",
      "metadata": {},
      "source": [
        "# Ejercicios con concat()\n",
        "df3 = pd.DataFrame({\n",
        "  'A': ['A0', 'A1', 'A2'],\n",
        "  'B': ['B0', 'B1', 'B2'],\n",
        "})\n",
        "\n",
        "df4 = pd.DataFrame({\n",
        "  'A': ['A3', 'A4', 'A5'],\n",
        "  'B': ['B3', 'B4', 'B5'],\n",
        "}) "
      ]
    },
    {
      "cell_type": "code",
      "execution_count": 100,
      "metadata": {},
      "outputs": [],
      "source": [
        "# Ejercicios con concat()\n",
        "df3 = pd.DataFrame({\n",
        "  'A': ['A0', 'A1', 'A2'],\n",
        "  'B': ['B0', 'B1', 'B2'],\n",
        "})\n",
        "\n",
        "df4 = pd.DataFrame({\n",
        "  'A': ['A3', 'A4', 'A5'],\n",
        "  'B': ['B3', 'B4', 'B5'],\n",
        "}) "
      ]
    },
    {
      "cell_type": "code",
      "execution_count": 101,
      "metadata": {},
      "outputs": [
        {
          "name": "stdout",
          "output_type": "stream",
          "text": [
            "    A   B\n",
            "0  A0  B0\n",
            "1  A1  B1\n",
            "2  A2  B2\n",
            "    A   B\n",
            "0  A3  B3\n",
            "1  A4  B4\n",
            "2  A5  B5\n"
          ]
        }
      ],
      "source": [
        "print(df3)\n",
        "print(df4)\n"
      ]
    },
    {
      "cell_type": "code",
      "execution_count": 102,
      "metadata": {},
      "outputs": [
        {
          "name": "stdout",
          "output_type": "stream",
          "text": [
            "    A   B\n",
            "0  A0  B0\n",
            "1  A1  B1\n",
            "2  A2  B2\n",
            "0  A3  B3\n",
            "1  A4  B4\n",
            "2  A5  B5\n"
          ]
        }
      ],
      "source": [
        "vertical_concar = pd.concat([df3,df4])\n",
        "print(vertical_concar)"
      ]
    },
    {
      "cell_type": "code",
      "execution_count": 103,
      "metadata": {},
      "outputs": [
        {
          "name": "stdout",
          "output_type": "stream",
          "text": [
            "    A   B   A   B\n",
            "0  A0  B0  A3  B3\n",
            "1  A1  B1  A4  B4\n",
            "2  A2  B2  A5  B5\n"
          ]
        }
      ],
      "source": [
        "horizontal_concar = pd.concat([df3,df4], axis = 1)\n",
        "print(horizontal_concar)"
      ]
    },
    {
      "cell_type": "code",
      "execution_count": 104,
      "metadata": {},
      "outputs": [],
      "source": [
        "\n",
        "# Ejercicios con join()\n",
        "df5 = pd.DataFrame({\n",
        "    'A': ['A0', 'A1', 'A2'],\n",
        "    'B': ['B0', 'B1', 'B2']\n",
        "  }, \n",
        "  index = ['K0', 'K1', 'K2']\n",
        ") \n",
        "\n",
        "df6 = pd.DataFrame({\n",
        "    'C': ['C0', 'C1', 'C2'],\n",
        "    'D': ['DO', 'D1', 'D2']\n",
        "  }, \n",
        "  index = ['K0', 'K2', 'K3']\n",
        ")\n"
      ]
    },
    {
      "cell_type": "code",
      "execution_count": 105,
      "metadata": {},
      "outputs": [
        {
          "name": "stdout",
          "output_type": "stream",
          "text": [
            "     A   B\n",
            "K0  A0  B0\n",
            "K1  A1  B1\n",
            "K2  A2  B2\n",
            "     A   B\n",
            "K0  A0  B0\n",
            "K1  A1  B1\n",
            "K2  A2  B2\n"
          ]
        }
      ],
      "source": [
        "print(df5)\n",
        "print(df5)"
      ]
    },
    {
      "cell_type": "code",
      "execution_count": 107,
      "metadata": {},
      "outputs": [
        {
          "name": "stdout",
          "output_type": "stream",
          "text": [
            "     A   B   C   D\n",
            "K0  A0  B0  C0  DO\n",
            "K2  A2  B2  C1  D1\n"
          ]
        }
      ],
      "source": [
        "joined = df5.join(df6, how='inner')\n",
        "print(joined)"
      ]
    },
    {
      "cell_type": "code",
      "execution_count": null,
      "metadata": {},
      "outputs": [],
      "source": []
    }
  ],
  "metadata": {
    "colab": {
      "provenance": []
    },
    "kernelspec": {
      "display_name": ".venv",
      "language": "python",
      "name": "python3"
    },
    "language_info": {
      "codemirror_mode": {
        "name": "ipython",
        "version": 3
      },
      "file_extension": ".py",
      "mimetype": "text/x-python",
      "name": "python",
      "nbconvert_exporter": "python",
      "pygments_lexer": "ipython3",
      "version": "3.10.6"
    }
  },
  "nbformat": 4,
  "nbformat_minor": 0
}
