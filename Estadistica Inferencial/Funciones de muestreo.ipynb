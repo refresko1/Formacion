{
 "cells": [
  {
   "cell_type": "code",
   "execution_count": 1,
   "metadata": {},
   "outputs": [],
   "source": [
    "import pandas as pd \n",
    "import numpy as np \n",
    "import random\n",
    "import io"
   ]
  },
  {
   "cell_type": "markdown",
   "metadata": {},
   "source": [
    "### leemos la base de datos a trabajar en nuestra ruta de origen"
   ]
  },
  {
   "cell_type": "code",
   "execution_count": 2,
   "metadata": {},
   "outputs": [
    {
     "name": "stdout",
     "output_type": "stream",
     "text": [
      "   id                  geo_point_2d  \\\n",
      "0   0   19.424781053,-99.1327537959   \n",
      "1   1  19.4346139576,-99.1413808393   \n",
      "2   2  19.4340695945,-99.1306348409   \n",
      "3   3      19.42489472,-99.12073393   \n",
      "4   4      19.42358238,-99.12451093   \n",
      "\n",
      "                                           geo_shape   clave_cat  \\\n",
      "0  {\"type\": \"Polygon\", \"coordinates\": [[[-99.1332...  307_130_11   \n",
      "1  {\"type\": \"MultiPoint\", \"coordinates\": [[-99.14...  002_008_01   \n",
      "2  {\"type\": \"MultiPoint\", \"coordinates\": [[-99.13...  006_002_12   \n",
      "3  {\"type\": \"MultiPoint\", \"coordinates\": [[-99.12...  323_102_06   \n",
      "4  {\"type\": \"MultiPoint\", \"coordinates\": [[-99.12...  323_115_12   \n",
      "\n",
      "            delegacion perimetro     tipo  \\\n",
      "0           Cuauhtémoc         B  Mercado   \n",
      "1            Cuautémoc         A    Museo   \n",
      "2            Cuautémoc         A    Museo   \n",
      "3  Venustiano Carranza         B    Hotel   \n",
      "4  Venustiano Carranza         B    Hotel   \n",
      "\n",
      "                                              nom_id  \n",
      "0                                        Pino Suárez  \n",
      "1  Museo Nacional de Arquitectura Palacio de Bell...  \n",
      "2                                       Santa Teresa  \n",
      "3                                           Balbuena  \n",
      "4                                               real  \n"
     ]
    }
   ],
   "source": [
    "encondata = pd.read_csv('econdata.csv')\n",
    "print(encondata.head())"
   ]
  },
  {
   "cell_type": "code",
   "execution_count": 3,
   "metadata": {},
   "outputs": [
    {
     "data": {
      "text/plain": [
       "(230, 8)"
      ]
     },
     "execution_count": 3,
     "metadata": {},
     "output_type": "execute_result"
    }
   ],
   "source": [
    "encondata.shape"
   ]
  },
  {
   "cell_type": "markdown",
   "metadata": {},
   "source": [
    "### funciones de muestreo:"
   ]
  },
  {
   "cell_type": "markdown",
   "metadata": {},
   "source": [
    "### 1) muestreo aleatorio simple"
   ]
  },
  {
   "cell_type": "code",
   "execution_count": 27,
   "metadata": {},
   "outputs": [
    {
     "name": "stdout",
     "output_type": "stream",
     "text": [
      "      id                  geo_point_2d  \\\n",
      "73    73  19.4218384283,-99.1267852296   \n",
      "194  194  19.4288786806,-99.1456731565   \n",
      "63    63  19.4339116282,-99.1468371035   \n",
      "72    72  19.4454901265,-99.1471012862   \n",
      "82    82   19.4220369889,-99.120775543   \n",
      "229  229  19.4346765421,-99.1318394918   \n",
      "170  170      19.43162145,-99.13535842   \n",
      "15    15       19.42413788,-99.1324515   \n",
      "\n",
      "                                             geo_shape   clave_cat  \\\n",
      "73   {\"type\": \"MultiPoint\", \"coordinates\": [[-99.12...  007_005_07   \n",
      "194  {\"type\": \"MultiPoint\", \"coordinates\": [[-99.14...  002_060_04   \n",
      "63   {\"type\": \"MultiPoint\", \"coordinates\": [[-99.14...  002_015_07   \n",
      "72   {\"type\": \"MultiPoint\", \"coordinates\": [[-99.14...  003_046_14   \n",
      "82   {\"type\": \"MultiPoint\", \"coordinates\": [[-99.12...  423_013_18   \n",
      "229  {\"type\": \"MultiPoint\", \"coordinates\": [[-99.13...  005_145_14   \n",
      "170  {\"type\": \"MultiPoint\", \"coordinates\": [[-99.13...  001_028_11   \n",
      "15   {\"type\": \"MultiPoint\", \"coordinates\": [[-99.13...  307_153_11   \n",
      "\n",
      "              delegacion perimetro   tipo                   nom_id  \\\n",
      "73             Cuautémoc         B  Hotel                     Jaen   \n",
      "194            Cuautémoc         B  Hotel  San Diego, S.A. DE C.V.   \n",
      "63             Cuautémoc         B  Hotel                   Calvin   \n",
      "72             Cuautémoc         B  Hotel                   Atoyac   \n",
      "82   Venustiano Carranza         B  Hotel                  Cordoba   \n",
      "229            Cuautémoc         A  Museo             Templo Mayor   \n",
      "170            Cuautémoc         A  Hotel               NH Hoteles   \n",
      "15             Cuautémoc         B  Hotel                San Lucas   \n",
      "\n",
      "                 estratificado  \n",
      "73             Cuautémoc,Hotel  \n",
      "194            Cuautémoc,Hotel  \n",
      "63             Cuautémoc,Hotel  \n",
      "72             Cuautémoc,Hotel  \n",
      "82   Venustiano Carranza,Hotel  \n",
      "229            Cuautémoc,Museo  \n",
      "170            Cuautémoc,Hotel  \n",
      "15             Cuautémoc,Hotel  \n"
     ]
    }
   ],
   "source": [
    "aleatorio_8 = encondata.sample(n=8)\n",
    "print(aleatorio_8)"
   ]
  },
  {
   "cell_type": "code",
   "execution_count": 28,
   "metadata": {},
   "outputs": [
    {
     "name": "stdout",
     "output_type": "stream",
     "text": [
      "(58, 9)\n"
     ]
    }
   ],
   "source": [
    "prop_25= encondata.sample(frac=.25)\n",
    "prop_25.head()\n",
    "print(prop_25.shape)"
   ]
  },
  {
   "cell_type": "markdown",
   "metadata": {},
   "source": [
    "### 2) muestreo sistematico"
   ]
  },
  {
   "cell_type": "code",
   "execution_count": 29,
   "metadata": {},
   "outputs": [
    {
     "name": "stdout",
     "output_type": "stream",
     "text": [
      "      id                  geo_point_2d  \\\n",
      "0      0   19.424781053,-99.1327537959   \n",
      "3      3      19.42489472,-99.12073393   \n",
      "6      6      19.43553422,-99.12324801   \n",
      "9      9  19.4407152937,-99.1498060057   \n",
      "12    12      19.43990186,-99.14813347   \n",
      "..   ...                           ...   \n",
      "216  216  19.4247697438,-99.1249707246   \n",
      "219  219  19.4234096295,-99.1438351156   \n",
      "222  222   19.4397905042,-99.134628735   \n",
      "225  225      19.43094655,-99.12455418   \n",
      "228  228  19.4406567734,-99.1394531646   \n",
      "\n",
      "                                             geo_shape   clave_cat  \\\n",
      "0    {\"type\": \"Polygon\", \"coordinates\": [[[-99.1332...  307_130_11   \n",
      "3    {\"type\": \"MultiPoint\", \"coordinates\": [[-99.12...  323_102_06   \n",
      "6    {\"type\": \"MultiPoint\", \"coordinates\": [[-99.12...  318_116_11   \n",
      "9    {\"type\": \"MultiPoint\", \"coordinates\": [[-99.14...  012_146_22   \n",
      "12   {\"type\": \"MultiPoint\", \"coordinates\": [[-99.14...  003_079_16   \n",
      "..                                                 ...         ...   \n",
      "216  {\"type\": \"Polygon\", \"coordinates\": [[[-99.1250...  323_118_37   \n",
      "219  {\"type\": \"MultiPoint\", \"coordinates\": [[-99.14...  002_118_03   \n",
      "222  {\"type\": \"MultiPoint\", \"coordinates\": [[-99.13...  004_063_10   \n",
      "225  {\"type\": \"MultiPoint\", \"coordinates\": [[-99.12...  323_027_04   \n",
      "228  {\"type\": \"MultiPoint\", \"coordinates\": [[-99.13...  004_069_01   \n",
      "\n",
      "              delegacion perimetro     tipo                  nom_id  \\\n",
      "0             Cuauhtémoc         B  Mercado             Pino Suárez   \n",
      "3    Venustiano Carranza         B    Hotel                Balbuena   \n",
      "6    Venustiano Carranza         B    Hotel    San Antonio Tomatlan   \n",
      "9              Cuautémoc         B    Hotel                 Detroit   \n",
      "12             Cuautémoc         B    Hotel                  La Paz   \n",
      "..                   ...       ...      ...                     ...   \n",
      "216  Venustiano Carranza         B  Mercado  Lamininas de La Merced   \n",
      "219            Cuautémoc         B    Hotel          Prado Floresta   \n",
      "222            Cuautémoc         A    Hotel                  Ladero   \n",
      "225  Venustiano Carranza         B    Hotel           Gran Veracruz   \n",
      "228            Cuautémoc         B    Museo        Tequila y Mescal   \n",
      "\n",
      "                   estratificado  \n",
      "0             Cuauhtémoc,Mercado  \n",
      "3      Venustiano Carranza,Hotel  \n",
      "6      Venustiano Carranza,Hotel  \n",
      "9                Cuautémoc,Hotel  \n",
      "12               Cuautémoc,Hotel  \n",
      "..                           ...  \n",
      "216  Venustiano Carranza,Mercado  \n",
      "219              Cuautémoc,Hotel  \n",
      "222              Cuautémoc,Hotel  \n",
      "225    Venustiano Carranza,Hotel  \n",
      "228              Cuautémoc,Museo  \n",
      "\n",
      "[77 rows x 9 columns]\n"
     ]
    }
   ],
   "source": [
    "def systematic_sampling(encondata,step):\n",
    "    indexes = np.arange(0,len(encondata),step=step)\n",
    "    systematic_sample = encondata.iloc[indexes]\n",
    "    return systematic_sample\n",
    "\n",
    "systematic_sample = systematic_sampling(encondata, 3)\n",
    "print(systematic_sample)"
   ]
  },
  {
   "cell_type": "markdown",
   "metadata": {},
   "source": [
    "### 3) Muestreo estratificado:"
   ]
  },
  {
   "cell_type": "code",
   "execution_count": 30,
   "metadata": {},
   "outputs": [
    {
     "data": {
      "text/plain": [
       "estratificado\n",
       "Cuautémoc,Hotel                0.643478\n",
       "Cuautémoc,Museo                0.156522\n",
       "Venustiano Carranza,Hotel      0.078261\n",
       "Cuauhtémoc,Mercado             0.073913\n",
       "Venustiano Carranza,Mercado    0.047826\n",
       "Name: count, dtype: float64"
      ]
     },
     "execution_count": 30,
     "metadata": {},
     "output_type": "execute_result"
    }
   ],
   "source": [
    "encondata[\"estratificado\"] = encondata['delegacion'] + \",\" + encondata['tipo']\n",
    "(encondata['estratificado'].value_counts()/len(encondata)).sort_values(ascending=False)"
   ]
  },
  {
   "cell_type": "markdown",
   "metadata": {},
   "source": [
    "Nuestros datos dicen que la proporcion es la siguiente:\n",
    "1) hoteles en cuathemoc 0.5\n",
    "2) Museos en cuathemoc 0.2\n",
    "3) Hoteles en venustiana 0.1\n",
    "4) mercados en cuathemos 0.1\n",
    "5) mercados en carranza 0.1"
   ]
  },
  {
   "cell_type": "code",
   "execution_count": 31,
   "metadata": {},
   "outputs": [],
   "source": [
    "def data_estratificada (encondata, nombres_Columnas_estrat, Valores_estrat, proporcion_estrat, random_state = None):\n",
    "    df_estrat = pd.DataFrame(columns=encondata.columns)\n",
    "    pos =-1\n",
    "    for i in range (len (Valores_estrat)):\n",
    "        pos += 1\n",
    "        if pos == len(Valores_estrat) -1:\n",
    "            ratio_len = len(encondata)-len(df_estrat)\n",
    "\n",
    "        else:\n",
    "            ratio_len = int(len(encondata)*proporcion_estrat[i])\n",
    "    \n",
    "\n",
    "        df_filtered = encondata[encondata[nombres_Columnas_estrat]==Valores_estrat[i]]\n",
    "        df_tem = df_filtered.sample(replace=True,n=ratio_len, random_state=random_state)\n",
    "\n",
    "        df_estrat = pd.concat([df_estrat, df_tem])\n",
    "    return df_estrat\n"
   ]
  },
  {
   "cell_type": "code",
   "execution_count": 32,
   "metadata": {},
   "outputs": [],
   "source": [
    "valores_estrat = ['Cuautémoc,Hotel', 'Cuautémoc,Museo','Venustiano Carranza,Hotel','Cuauhtémoc,Mercado','Venustiano Carranza,Mercado' ]\n",
    "prop_estrat=[0.5,0.2,0.1,0.1,0.1]\n",
    "df_estraf = data_estratificada(encondata,'estratificado',valores_estrat, prop_estrat,random_state=42)"
   ]
  },
  {
   "cell_type": "code",
   "execution_count": 33,
   "metadata": {},
   "outputs": [
    {
     "data": {
      "text/html": [
       "<div>\n",
       "<style scoped>\n",
       "    .dataframe tbody tr th:only-of-type {\n",
       "        vertical-align: middle;\n",
       "    }\n",
       "\n",
       "    .dataframe tbody tr th {\n",
       "        vertical-align: top;\n",
       "    }\n",
       "\n",
       "    .dataframe thead th {\n",
       "        text-align: right;\n",
       "    }\n",
       "</style>\n",
       "<table border=\"1\" class=\"dataframe\">\n",
       "  <thead>\n",
       "    <tr style=\"text-align: right;\">\n",
       "      <th></th>\n",
       "      <th>id</th>\n",
       "      <th>geo_point_2d</th>\n",
       "      <th>geo_shape</th>\n",
       "      <th>clave_cat</th>\n",
       "      <th>delegacion</th>\n",
       "      <th>perimetro</th>\n",
       "      <th>tipo</th>\n",
       "      <th>nom_id</th>\n",
       "      <th>estratificado</th>\n",
       "    </tr>\n",
       "  </thead>\n",
       "  <tbody>\n",
       "    <tr>\n",
       "      <th>164</th>\n",
       "      <td>164</td>\n",
       "      <td>19.4388741511,-99.1413308257</td>\n",
       "      <td>{\"type\": \"MultiPoint\", \"coordinates\": [[-99.14...</td>\n",
       "      <td>003_113_03</td>\n",
       "      <td>Cuautémoc</td>\n",
       "      <td>B</td>\n",
       "      <td>Hotel</td>\n",
       "      <td>Dos Naciones</td>\n",
       "      <td>Cuautémoc,Hotel</td>\n",
       "    </tr>\n",
       "    <tr>\n",
       "      <th>142</th>\n",
       "      <td>142</td>\n",
       "      <td>19.4263681354,-99.1327278126</td>\n",
       "      <td>{\"type\": \"MultiPoint\", \"coordinates\": [[-99.13...</td>\n",
       "      <td>006_127_14</td>\n",
       "      <td>Cuautémoc</td>\n",
       "      <td>A</td>\n",
       "      <td>Hotel</td>\n",
       "      <td>Ambar</td>\n",
       "      <td>Cuautémoc,Hotel</td>\n",
       "    </tr>\n",
       "    <tr>\n",
       "      <th>27</th>\n",
       "      <td>27</td>\n",
       "      <td>19.4348360773,-99.1463945583</td>\n",
       "      <td>{\"type\": \"MultiPoint\", \"coordinates\": [[-99.14...</td>\n",
       "      <td>002_016_01</td>\n",
       "      <td>Cuautémoc</td>\n",
       "      <td>B</td>\n",
       "      <td>Hotel</td>\n",
       "      <td>Hilton Centro Histórico</td>\n",
       "      <td>Cuautémoc,Hotel</td>\n",
       "    </tr>\n",
       "    <tr>\n",
       "      <th>168</th>\n",
       "      <td>168</td>\n",
       "      <td>19.4349726565,-99.147766133</td>\n",
       "      <td>{\"type\": \"MultiPoint\", \"coordinates\": [[-99.14...</td>\n",
       "      <td>002_014_23</td>\n",
       "      <td>Cuautémoc</td>\n",
       "      <td>B</td>\n",
       "      <td>Hotel</td>\n",
       "      <td>One Alameda</td>\n",
       "      <td>Cuautémoc,Hotel</td>\n",
       "    </tr>\n",
       "    <tr>\n",
       "      <th>113</th>\n",
       "      <td>113</td>\n",
       "      <td>19.43374405,-99.13550135</td>\n",
       "      <td>{\"type\": \"MultiPoint\", \"coordinates\": [[-99.13...</td>\n",
       "      <td>001_012_13</td>\n",
       "      <td>Cuautémoc</td>\n",
       "      <td>A</td>\n",
       "      <td>Hotel</td>\n",
       "      <td>San Antonio</td>\n",
       "      <td>Cuautémoc,Hotel</td>\n",
       "    </tr>\n",
       "    <tr>\n",
       "      <th>...</th>\n",
       "      <td>...</td>\n",
       "      <td>...</td>\n",
       "      <td>...</td>\n",
       "      <td>...</td>\n",
       "      <td>...</td>\n",
       "      <td>...</td>\n",
       "      <td>...</td>\n",
       "      <td>...</td>\n",
       "      <td>...</td>\n",
       "    </tr>\n",
       "    <tr>\n",
       "      <th>128</th>\n",
       "      <td>128</td>\n",
       "      <td>19.4270781084,-99.1210175514</td>\n",
       "      <td>{\"type\": \"Polygon\", \"coordinates\": [[[-99.1214...</td>\n",
       "      <td>323_061_04(123)</td>\n",
       "      <td>Venustiano Carranza</td>\n",
       "      <td>B</td>\n",
       "      <td>Mercado</td>\n",
       "      <td>San Ciprian</td>\n",
       "      <td>Venustiano Carranza,Mercado</td>\n",
       "    </tr>\n",
       "    <tr>\n",
       "      <th>37</th>\n",
       "      <td>37</td>\n",
       "      <td>19.4271233834,-99.125111772</td>\n",
       "      <td>{\"type\": \"Polygon\", \"coordinates\": [[[-99.1251...</td>\n",
       "      <td>323_065_01</td>\n",
       "      <td>Venustiano Carranza</td>\n",
       "      <td>B</td>\n",
       "      <td>Mercado</td>\n",
       "      <td>Dulceria</td>\n",
       "      <td>Venustiano Carranza,Mercado</td>\n",
       "    </tr>\n",
       "    <tr>\n",
       "      <th>163</th>\n",
       "      <td>163</td>\n",
       "      <td>19.4265454033,-99.1224859032</td>\n",
       "      <td>{\"type\": \"Polygon\", \"coordinates\": [[[-99.1231...</td>\n",
       "      <td>323_063_05</td>\n",
       "      <td>Venustiano Carranza</td>\n",
       "      <td>B</td>\n",
       "      <td>Mercado</td>\n",
       "      <td>NaN</td>\n",
       "      <td>Venustiano Carranza,Mercado</td>\n",
       "    </tr>\n",
       "    <tr>\n",
       "      <th>156</th>\n",
       "      <td>156</td>\n",
       "      <td>19.4255480371,-99.1249308096</td>\n",
       "      <td>{\"type\": \"Polygon\", \"coordinates\": [[[-99.1253...</td>\n",
       "      <td>323_138_04 (3)</td>\n",
       "      <td>Venustiano Carranza</td>\n",
       "      <td>B</td>\n",
       "      <td>Mercado</td>\n",
       "      <td>Mariscos</td>\n",
       "      <td>Venustiano Carranza,Mercado</td>\n",
       "    </tr>\n",
       "    <tr>\n",
       "      <th>37</th>\n",
       "      <td>37</td>\n",
       "      <td>19.4271233834,-99.125111772</td>\n",
       "      <td>{\"type\": \"Polygon\", \"coordinates\": [[[-99.1251...</td>\n",
       "      <td>323_065_01</td>\n",
       "      <td>Venustiano Carranza</td>\n",
       "      <td>B</td>\n",
       "      <td>Mercado</td>\n",
       "      <td>Dulceria</td>\n",
       "      <td>Venustiano Carranza,Mercado</td>\n",
       "    </tr>\n",
       "  </tbody>\n",
       "</table>\n",
       "<p>230 rows × 9 columns</p>\n",
       "</div>"
      ],
      "text/plain": [
       "      id                  geo_point_2d  \\\n",
       "164  164  19.4388741511,-99.1413308257   \n",
       "142  142  19.4263681354,-99.1327278126   \n",
       "27    27  19.4348360773,-99.1463945583   \n",
       "168  168   19.4349726565,-99.147766133   \n",
       "113  113      19.43374405,-99.13550135   \n",
       "..   ...                           ...   \n",
       "128  128  19.4270781084,-99.1210175514   \n",
       "37    37   19.4271233834,-99.125111772   \n",
       "163  163  19.4265454033,-99.1224859032   \n",
       "156  156  19.4255480371,-99.1249308096   \n",
       "37    37   19.4271233834,-99.125111772   \n",
       "\n",
       "                                             geo_shape        clave_cat  \\\n",
       "164  {\"type\": \"MultiPoint\", \"coordinates\": [[-99.14...       003_113_03   \n",
       "142  {\"type\": \"MultiPoint\", \"coordinates\": [[-99.13...       006_127_14   \n",
       "27   {\"type\": \"MultiPoint\", \"coordinates\": [[-99.14...       002_016_01   \n",
       "168  {\"type\": \"MultiPoint\", \"coordinates\": [[-99.14...       002_014_23   \n",
       "113  {\"type\": \"MultiPoint\", \"coordinates\": [[-99.13...       001_012_13   \n",
       "..                                                 ...              ...   \n",
       "128  {\"type\": \"Polygon\", \"coordinates\": [[[-99.1214...  323_061_04(123)   \n",
       "37   {\"type\": \"Polygon\", \"coordinates\": [[[-99.1251...       323_065_01   \n",
       "163  {\"type\": \"Polygon\", \"coordinates\": [[[-99.1231...       323_063_05   \n",
       "156  {\"type\": \"Polygon\", \"coordinates\": [[[-99.1253...   323_138_04 (3)   \n",
       "37   {\"type\": \"Polygon\", \"coordinates\": [[[-99.1251...       323_065_01   \n",
       "\n",
       "              delegacion perimetro     tipo                   nom_id  \\\n",
       "164            Cuautémoc         B    Hotel             Dos Naciones   \n",
       "142            Cuautémoc         A    Hotel                    Ambar   \n",
       "27             Cuautémoc         B    Hotel  Hilton Centro Histórico   \n",
       "168            Cuautémoc         B    Hotel              One Alameda   \n",
       "113            Cuautémoc         A    Hotel              San Antonio   \n",
       "..                   ...       ...      ...                      ...   \n",
       "128  Venustiano Carranza         B  Mercado              San Ciprian   \n",
       "37   Venustiano Carranza         B  Mercado                 Dulceria   \n",
       "163  Venustiano Carranza         B  Mercado                      NaN   \n",
       "156  Venustiano Carranza         B  Mercado                 Mariscos   \n",
       "37   Venustiano Carranza         B  Mercado                 Dulceria   \n",
       "\n",
       "                   estratificado  \n",
       "164              Cuautémoc,Hotel  \n",
       "142              Cuautémoc,Hotel  \n",
       "27               Cuautémoc,Hotel  \n",
       "168              Cuautémoc,Hotel  \n",
       "113              Cuautémoc,Hotel  \n",
       "..                           ...  \n",
       "128  Venustiano Carranza,Mercado  \n",
       "37   Venustiano Carranza,Mercado  \n",
       "163  Venustiano Carranza,Mercado  \n",
       "156  Venustiano Carranza,Mercado  \n",
       "37   Venustiano Carranza,Mercado  \n",
       "\n",
       "[230 rows x 9 columns]"
      ]
     },
     "execution_count": 33,
     "metadata": {},
     "output_type": "execute_result"
    }
   ],
   "source": [
    "df_estraf"
   ]
  },
  {
   "cell_type": "markdown",
   "metadata": {},
   "source": [
    "## CALCULO DE LA VARIANZA Y DESV STANDARD\n"
   ]
  },
  {
   "cell_type": "code",
   "execution_count": 62,
   "metadata": {},
   "outputs": [
    {
     "name": "stdout",
     "output_type": "stream",
     "text": [
      "26.0\n",
      "218.93999999999997\n",
      "43.788\n",
      "6.617250184177714\n"
     ]
    }
   ],
   "source": [
    "import math\n",
    "#edades = [28,24,25,23,38,52]\n",
    "edades = [28,24,28,24,28,24]\n",
    "promedio = np.mean(edades)\n",
    "print(promedio)\n",
    "total = 0\n",
    "for a in edades:\n",
    "    total += pow(a-31.7,2)\n",
    "\n",
    "varianza =total /((len(edades)-1))\n",
    "print(total)\n",
    "print(varianza)\n",
    "desv = math.sqrt(varianza)\n",
    "print(desv)\n"
   ]
  },
  {
   "cell_type": "code",
   "execution_count": 64,
   "metadata": {},
   "outputs": [],
   "source": [
    "import pandas as pd \n",
    "import numpy as np\n",
    "import matplotlib.pyplot as plt\n",
    "import seaborn as sns"
   ]
  },
  {
   "cell_type": "code",
   "execution_count": 76,
   "metadata": {},
   "outputs": [],
   "source": [
    "url = 'https://archive.ics.uci.edu/ml/machine-learning-databases/iris/iris.data'\n",
    "names = ['sepal-length', 'sepal-width', 'petal-length','petal-width','class']\n",
    "iris = pd.read_csv(url, names=names)"
   ]
  },
  {
   "cell_type": "markdown",
   "metadata": {},
   "source": [
    "### leemos la base de datos "
   ]
  },
  {
   "cell_type": "code",
   "execution_count": 77,
   "metadata": {},
   "outputs": [
    {
     "data": {
      "text/plain": [
       "<bound method NDFrame.head of      sepal-length  sepal-width  petal-length  petal-width           class\n",
       "0             5.1          3.5           1.4          0.2     Iris-setosa\n",
       "1             4.9          3.0           1.4          0.2     Iris-setosa\n",
       "2             4.7          3.2           1.3          0.2     Iris-setosa\n",
       "3             4.6          3.1           1.5          0.2     Iris-setosa\n",
       "4             5.0          3.6           1.4          0.2     Iris-setosa\n",
       "..            ...          ...           ...          ...             ...\n",
       "145           6.7          3.0           5.2          2.3  Iris-virginica\n",
       "146           6.3          2.5           5.0          1.9  Iris-virginica\n",
       "147           6.5          3.0           5.2          2.0  Iris-virginica\n",
       "148           6.2          3.4           5.4          2.3  Iris-virginica\n",
       "149           5.9          3.0           5.1          1.8  Iris-virginica\n",
       "\n",
       "[150 rows x 5 columns]>"
      ]
     },
     "execution_count": 77,
     "metadata": {},
     "output_type": "execute_result"
    }
   ],
   "source": [
    "iris.head"
   ]
  },
  {
   "cell_type": "code",
   "execution_count": 78,
   "metadata": {},
   "outputs": [
    {
     "data": {
      "text/plain": [
       "(array([ 1.,  3.,  1.,  4.,  2.,  5.,  6., 10.,  9.,  4.,  1.,  6.,  7.,\n",
       "         6.,  8.,  7.,  3.,  6.,  6., 13.,  0.,  7.,  5.,  2., 11.,  0.,\n",
       "         4.,  2.,  0.,  4.,  0.,  1.,  1.,  4.,  0.,  1.]),\n",
       " array([4.3, 4.4, 4.5, 4.6, 4.7, 4.8, 4.9, 5. , 5.1, 5.2, 5.3, 5.4, 5.5,\n",
       "        5.6, 5.7, 5.8, 5.9, 6. , 6.1, 6.2, 6.3, 6.4, 6.5, 6.6, 6.7, 6.8,\n",
       "        6.9, 7. , 7.1, 7.2, 7.3, 7.4, 7.5, 7.6, 7.7, 7.8, 7.9]),\n",
       " <BarContainer object of 36 artists>)"
      ]
     },
     "execution_count": 78,
     "metadata": {},
     "output_type": "execute_result"
    },
    {
     "data": {
      "image/png": "[encoded data removed]",
      "text/plain": [
       "<Figure size 640x480 with 1 Axes>"
      ]
     },
     "metadata": {},
     "output_type": "display_data"
    }
   ],
   "source": [
    "plt.hist(iris['sepal-length'], color='orange', bins=int(180/5))"
   ]
  },
  {
   "cell_type": "code",
   "execution_count": 82,
   "metadata": {},
   "outputs": [
    {
     "data": {
      "text/plain": [
       "<seaborn.axisgrid.FacetGrid at 0x1ec3c4fde10>"
      ]
     },
     "execution_count": 82,
     "metadata": {},
     "output_type": "execute_result"
    },
    {
     "data": {
      "image/png": "[encoded data removed]",
      "text/plain": [
       "<Figure size 500x500 with 1 Axes>"
      ]
     },
     "metadata": {},
     "output_type": "display_data"
    }
   ],
   "source": [
    "sns.displot(iris['sepal-length'],  kde=True, bins=int(180/5), color ='orange')"
   ]
  },
  {
   "attachments": {
    "image.png": {
     "image/png": "[encoded data removed]"
    }
   },
   "cell_type": "markdown",
   "metadata": {},
   "source": [
    "### CALCULO de la varianza de todo el dataset\n",
    " ![image.png](attachment:image.png)"
   ]
  },
  {
   "cell_type": "code",
   "execution_count": 83,
   "metadata": {},
   "outputs": [
    {
     "data": {
      "text/plain": [
       "0.6856935123042507"
      ]
     },
     "execution_count": 83,
     "metadata": {},
     "output_type": "execute_result"
    }
   ],
   "source": [
    "iris['sepal-length'].var()"
   ]
  },
  {
   "attachments": {
    "image.png": {
     "image/png": "[encoded data removed]"
    }
   },
   "cell_type": "markdown",
   "metadata": {},
   "source": [
    "### Calculo de la desviacion Estandar de todo el dataset\n",
    "![image.png](attachment:image.png)\n"
   ]
  },
  {
   "cell_type": "code",
   "execution_count": 84,
   "metadata": {},
   "outputs": [
    {
     "data": {
      "text/plain": [
       "0.828066127977863"
      ]
     },
     "execution_count": 84,
     "metadata": {},
     "output_type": "execute_result"
    }
   ],
   "source": [
    "iris['sepal-length'].std()"
   ]
  },
  {
   "cell_type": "code",
   "execution_count": 85,
   "metadata": {},
   "outputs": [
    {
     "data": {
      "text/plain": [
       "5.843333333333334"
      ]
     },
     "execution_count": 85,
     "metadata": {},
     "output_type": "execute_result"
    }
   ],
   "source": [
    "iris['sepal-length'].mean()"
   ]
  },
  {
   "cell_type": "markdown",
   "metadata": {},
   "source": [
    "### Creacion de una muestra mediante un muestreo aleatorio simple"
   ]
  },
  {
   "cell_type": "code",
   "execution_count": 86,
   "metadata": {},
   "outputs": [
    {
     "data": {
      "text/html": [
       "<div>\n",
       "<style scoped>\n",
       "    .dataframe tbody tr th:only-of-type {\n",
       "        vertical-align: middle;\n",
       "    }\n",
       "\n",
       "    .dataframe tbody tr th {\n",
       "        vertical-align: top;\n",
       "    }\n",
       "\n",
       "    .dataframe thead th {\n",
       "        text-align: right;\n",
       "    }\n",
       "</style>\n",
       "<table border=\"1\" class=\"dataframe\">\n",
       "  <thead>\n",
       "    <tr style=\"text-align: right;\">\n",
       "      <th></th>\n",
       "      <th>sepal-length</th>\n",
       "      <th>sepal-width</th>\n",
       "      <th>petal-length</th>\n",
       "      <th>petal-width</th>\n",
       "      <th>class</th>\n",
       "    </tr>\n",
       "  </thead>\n",
       "  <tbody>\n",
       "    <tr>\n",
       "      <th>89</th>\n",
       "      <td>5.5</td>\n",
       "      <td>2.5</td>\n",
       "      <td>4.0</td>\n",
       "      <td>1.3</td>\n",
       "      <td>Iris-versicolor</td>\n",
       "    </tr>\n",
       "    <tr>\n",
       "      <th>143</th>\n",
       "      <td>6.8</td>\n",
       "      <td>3.2</td>\n",
       "      <td>5.9</td>\n",
       "      <td>2.3</td>\n",
       "      <td>Iris-virginica</td>\n",
       "    </tr>\n",
       "    <tr>\n",
       "      <th>52</th>\n",
       "      <td>6.9</td>\n",
       "      <td>3.1</td>\n",
       "      <td>4.9</td>\n",
       "      <td>1.5</td>\n",
       "      <td>Iris-versicolor</td>\n",
       "    </tr>\n",
       "    <tr>\n",
       "      <th>85</th>\n",
       "      <td>6.0</td>\n",
       "      <td>3.4</td>\n",
       "      <td>4.5</td>\n",
       "      <td>1.6</td>\n",
       "      <td>Iris-versicolor</td>\n",
       "    </tr>\n",
       "    <tr>\n",
       "      <th>133</th>\n",
       "      <td>6.3</td>\n",
       "      <td>2.8</td>\n",
       "      <td>5.1</td>\n",
       "      <td>1.5</td>\n",
       "      <td>Iris-virginica</td>\n",
       "    </tr>\n",
       "    <tr>\n",
       "      <th>...</th>\n",
       "      <td>...</td>\n",
       "      <td>...</td>\n",
       "      <td>...</td>\n",
       "      <td>...</td>\n",
       "      <td>...</td>\n",
       "    </tr>\n",
       "    <tr>\n",
       "      <th>67</th>\n",
       "      <td>5.8</td>\n",
       "      <td>2.7</td>\n",
       "      <td>4.1</td>\n",
       "      <td>1.0</td>\n",
       "      <td>Iris-versicolor</td>\n",
       "    </tr>\n",
       "    <tr>\n",
       "      <th>11</th>\n",
       "      <td>4.8</td>\n",
       "      <td>3.4</td>\n",
       "      <td>1.6</td>\n",
       "      <td>0.2</td>\n",
       "      <td>Iris-setosa</td>\n",
       "    </tr>\n",
       "    <tr>\n",
       "      <th>114</th>\n",
       "      <td>5.8</td>\n",
       "      <td>2.8</td>\n",
       "      <td>5.1</td>\n",
       "      <td>2.4</td>\n",
       "      <td>Iris-virginica</td>\n",
       "    </tr>\n",
       "    <tr>\n",
       "      <th>4</th>\n",
       "      <td>5.0</td>\n",
       "      <td>3.6</td>\n",
       "      <td>1.4</td>\n",
       "      <td>0.2</td>\n",
       "      <td>Iris-setosa</td>\n",
       "    </tr>\n",
       "    <tr>\n",
       "      <th>95</th>\n",
       "      <td>5.7</td>\n",
       "      <td>3.0</td>\n",
       "      <td>4.2</td>\n",
       "      <td>1.2</td>\n",
       "      <td>Iris-versicolor</td>\n",
       "    </tr>\n",
       "  </tbody>\n",
       "</table>\n",
       "<p>75 rows × 5 columns</p>\n",
       "</div>"
      ],
      "text/plain": [
       "     sepal-length  sepal-width  petal-length  petal-width            class\n",
       "89            5.5          2.5           4.0          1.3  Iris-versicolor\n",
       "143           6.8          3.2           5.9          2.3   Iris-virginica\n",
       "52            6.9          3.1           4.9          1.5  Iris-versicolor\n",
       "85            6.0          3.4           4.5          1.6  Iris-versicolor\n",
       "133           6.3          2.8           5.1          1.5   Iris-virginica\n",
       "..            ...          ...           ...          ...              ...\n",
       "67            5.8          2.7           4.1          1.0  Iris-versicolor\n",
       "11            4.8          3.4           1.6          0.2      Iris-setosa\n",
       "114           5.8          2.8           5.1          2.4   Iris-virginica\n",
       "4             5.0          3.6           1.4          0.2      Iris-setosa\n",
       "95            5.7          3.0           4.2          1.2  Iris-versicolor\n",
       "\n",
       "[75 rows x 5 columns]"
      ]
     },
     "execution_count": 86,
     "metadata": {},
     "output_type": "execute_result"
    }
   ],
   "source": [
    "muestra = iris.sample(frac=0.5)\n",
    "muestra"
   ]
  },
  {
   "cell_type": "markdown",
   "metadata": {},
   "source": [
    "### CALCULO  DE LA VARIANZA de la muestra\n"
   ]
  },
  {
   "cell_type": "code",
   "execution_count": 87,
   "metadata": {},
   "outputs": [
    {
     "data": {
      "text/plain": [
       "0.6071279279279278"
      ]
     },
     "execution_count": 87,
     "metadata": {},
     "output_type": "execute_result"
    }
   ],
   "source": [
    "muestra['sepal-length'].var()"
   ]
  },
  {
   "cell_type": "markdown",
   "metadata": {},
   "source": [
    "### CALCULO  DE LA DESVIACION STANDARD de la muestra\n"
   ]
  },
  {
   "cell_type": "code",
   "execution_count": 88,
   "metadata": {},
   "outputs": [
    {
     "data": {
      "text/plain": [
       "0.7791841425028668"
      ]
     },
     "execution_count": 88,
     "metadata": {},
     "output_type": "execute_result"
    }
   ],
   "source": [
    "muestra['sepal-length'].std()"
   ]
  },
  {
   "cell_type": "code",
   "execution_count": 89,
   "metadata": {},
   "outputs": [
    {
     "data": {
      "text/plain": [
       "5.750666666666667"
      ]
     },
     "execution_count": 89,
     "metadata": {},
     "output_type": "execute_result"
    }
   ],
   "source": [
    "muestra['sepal-length'].mean()"
   ]
  },
  {
   "cell_type": "code",
   "execution_count": 90,
   "metadata": {},
   "outputs": [
    {
     "data": {
      "text/plain": [
       "(array([1., 1., 2., 2., 3., 3., 5., 4., 4., 0., 2., 5., 5., 3., 4., 2., 5.,\n",
       "        2., 0., 4., 4., 1., 2., 3., 2., 2., 0., 1., 1., 0., 0., 0., 0., 1.,\n",
       "        0., 1.]),\n",
       " array([4.4       , 4.49722222, 4.59444444, 4.69166667, 4.78888889,\n",
       "        4.88611111, 4.98333333, 5.08055556, 5.17777778, 5.275     ,\n",
       "        5.37222222, 5.46944444, 5.56666667, 5.66388889, 5.76111111,\n",
       "        5.85833333, 5.95555556, 6.05277778, 6.15      , 6.24722222,\n",
       "        6.34444444, 6.44166667, 6.53888889, 6.63611111, 6.73333333,\n",
       "        6.83055556, 6.92777778, 7.025     , 7.12222222, 7.21944444,\n",
       "        7.31666667, 7.41388889, 7.51111111, 7.60833333, 7.70555556,\n",
       "        7.80277778, 7.9       ]),\n",
       " <BarContainer object of 36 artists>)"
      ]
     },
     "execution_count": 90,
     "metadata": {},
     "output_type": "execute_result"
    },
    {
     "data": {
      "image/png": "[encoded data removed]",
      "text/plain": [
       "<Figure size 640x480 with 1 Axes>"
      ]
     },
     "metadata": {},
     "output_type": "display_data"
    }
   ],
   "source": [
    "plt.hist(muestra['sepal-length'], color='orange', bins=int(180/5))"
   ]
  },
  {
   "cell_type": "markdown",
   "metadata": {},
   "source": [
    "## CALCULO INTERVALOS DE CONFIANZA"
   ]
  },
  {
   "cell_type": "code",
   "execution_count": 1,
   "metadata": {},
   "outputs": [],
   "source": [
    "import pandas as pd\n",
    "import numpy as np \n",
    "import seaborn as sns \n",
    "import scipy.stats as st "
   ]
  },
  {
   "cell_type": "code",
   "execution_count": 2,
   "metadata": {},
   "outputs": [],
   "source": [
    "np.random.seed(20)\n",
    "\n",
    "var1 = np.random.randint(0,10,10) #Dias de Vacaciones\n",
    "var2 = var1 + np.random.normal(0,1,10) #dinero gastado\n"
   ]
  },
  {
   "cell_type": "code",
   "execution_count": 3,
   "metadata": {},
   "outputs": [
    {
     "name": "stdout",
     "output_type": "stream",
     "text": [
      "[3 9 4 6 7 2 0 6 8 5]\n",
      "----------\n",
      "[1.91516741 9.55969629 4.93946935 5.02151896 7.50309684 2.40641447\n",
      " 0.32346101 5.50658912 7.20798321 4.15763207]\n"
     ]
    }
   ],
   "source": [
    "print(var1)\n",
    "print(\"--\"*5)\n",
    "print(var2)"
   ]
  },
  {
   "cell_type": "code",
   "execution_count": 4,
   "metadata": {},
   "outputs": [
    {
     "data": {
      "image/png": "[encoded data removed]",
      "text/plain": [
       "<Figure size 640x480 with 1 Axes>"
      ]
     },
     "metadata": {},
     "output_type": "display_data"
    }
   ],
   "source": [
    "#Visualizacion de resultados con un intervalo de confianza de un 80%\n",
    "\n",
    "grafico = sns.regplot(x=var1, y=var2, ci=80)\n",
    "\n"
   ]
  },
  {
   "cell_type": "code",
   "execution_count": 5,
   "metadata": {},
   "outputs": [
    {
     "data": {
      "text/plain": [
       "[(3, 1.9151674126826672),\n",
       " (9, 9.559696289403918),\n",
       " (4, 4.939469349856077),\n",
       " (6, 5.021518957881304),\n",
       " (7, 7.503096840109191),\n",
       " (2, 2.406414468894801),\n",
       " (0, 0.3234610099156434),\n",
       " (6, 5.50658911809112),\n",
       " (8, 7.207983209222818),\n",
       " (5, 4.157632065861516)]"
      ]
     },
     "execution_count": 5,
     "metadata": {},
     "output_type": "execute_result"
    }
   ],
   "source": [
    "tupla = list(zip(var1, var2))\n",
    "tupla"
   ]
  },
  {
   "cell_type": "code",
   "execution_count": 6,
   "metadata": {},
   "outputs": [
    {
     "data": {
      "text/html": [
       "<div>\n",
       "<style scoped>\n",
       "    .dataframe tbody tr th:only-of-type {\n",
       "        vertical-align: middle;\n",
       "    }\n",
       "\n",
       "    .dataframe tbody tr th {\n",
       "        vertical-align: top;\n",
       "    }\n",
       "\n",
       "    .dataframe thead th {\n",
       "        text-align: right;\n",
       "    }\n",
       "</style>\n",
       "<table border=\"1\" class=\"dataframe\">\n",
       "  <thead>\n",
       "    <tr style=\"text-align: right;\">\n",
       "      <th></th>\n",
       "      <th>Dias vacaciones</th>\n",
       "      <th>Dinero Gastado</th>\n",
       "    </tr>\n",
       "  </thead>\n",
       "  <tbody>\n",
       "    <tr>\n",
       "      <th>0</th>\n",
       "      <td>3</td>\n",
       "      <td>1.915167</td>\n",
       "    </tr>\n",
       "    <tr>\n",
       "      <th>1</th>\n",
       "      <td>9</td>\n",
       "      <td>9.559696</td>\n",
       "    </tr>\n",
       "    <tr>\n",
       "      <th>2</th>\n",
       "      <td>4</td>\n",
       "      <td>4.939469</td>\n",
       "    </tr>\n",
       "    <tr>\n",
       "      <th>3</th>\n",
       "      <td>6</td>\n",
       "      <td>5.021519</td>\n",
       "    </tr>\n",
       "    <tr>\n",
       "      <th>4</th>\n",
       "      <td>7</td>\n",
       "      <td>7.503097</td>\n",
       "    </tr>\n",
       "    <tr>\n",
       "      <th>5</th>\n",
       "      <td>2</td>\n",
       "      <td>2.406414</td>\n",
       "    </tr>\n",
       "    <tr>\n",
       "      <th>6</th>\n",
       "      <td>0</td>\n",
       "      <td>0.323461</td>\n",
       "    </tr>\n",
       "    <tr>\n",
       "      <th>7</th>\n",
       "      <td>6</td>\n",
       "      <td>5.506589</td>\n",
       "    </tr>\n",
       "    <tr>\n",
       "      <th>8</th>\n",
       "      <td>8</td>\n",
       "      <td>7.207983</td>\n",
       "    </tr>\n",
       "    <tr>\n",
       "      <th>9</th>\n",
       "      <td>5</td>\n",
       "      <td>4.157632</td>\n",
       "    </tr>\n",
       "  </tbody>\n",
       "</table>\n",
       "</div>"
      ],
      "text/plain": [
       "   Dias vacaciones  Dinero Gastado\n",
       "0                3        1.915167\n",
       "1                9        9.559696\n",
       "2                4        4.939469\n",
       "3                6        5.021519\n",
       "4                7        7.503097\n",
       "5                2        2.406414\n",
       "6                0        0.323461\n",
       "7                6        5.506589\n",
       "8                8        7.207983\n",
       "9                5        4.157632"
      ]
     },
     "execution_count": 6,
     "metadata": {},
     "output_type": "execute_result"
    }
   ],
   "source": [
    "tabla = pd.DataFrame(tupla, columns=['Dias vacaciones','Dinero Gastado'])\n",
    "tabla"
   ]
  },
  {
   "cell_type": "code",
   "execution_count": 7,
   "metadata": {},
   "outputs": [
    {
     "data": {
      "text/plain": [
       "(array([2.93201634, 2.92062172]), array([6.92208653, 6.93348116]))"
      ]
     },
     "execution_count": 7,
     "metadata": {},
     "output_type": "execute_result"
    }
   ],
   "source": [
    "# 95 de intervalo de confianza\n",
    "st.t.interval(confidence=0.95, df=len(tabla)-1, loc=np.mean(tabla), scale=st.sem(tabla))\n"
   ]
  },
  {
   "cell_type": "markdown",
   "metadata": {},
   "source": [
    "## TIPOS DE PRUEBAS DE HIPOTESIS"
   ]
  },
  {
   "cell_type": "code",
   "execution_count": 37,
   "metadata": {},
   "outputs": [],
   "source": [
    "import pandas as pd\n",
    "import numpy as np \n",
    "import seaborn as sns \n",
    "import scipy.stats as st\n",
    "from scipy.stats import f_oneway\n",
    "from scipy.stats import ttest_ind"
   ]
  },
  {
   "cell_type": "code",
   "execution_count": 9,
   "metadata": {},
   "outputs": [],
   "source": [
    "url = 'https://archive.ics.uci.edu/ml/machine-learning-databases/iris/iris.data'\n",
    "names = ['sepal-length', 'sepal-width', 'petal-length','petal-width','class']\n",
    "iris = pd.read_csv(url, names=names)"
   ]
  },
  {
   "cell_type": "code",
   "execution_count": 14,
   "metadata": {},
   "outputs": [
    {
     "data": {
      "text/html": [
       "<div>\n",
       "<style scoped>\n",
       "    .dataframe tbody tr th:only-of-type {\n",
       "        vertical-align: middle;\n",
       "    }\n",
       "\n",
       "    .dataframe tbody tr th {\n",
       "        vertical-align: top;\n",
       "    }\n",
       "\n",
       "    .dataframe thead th {\n",
       "        text-align: right;\n",
       "    }\n",
       "</style>\n",
       "<table border=\"1\" class=\"dataframe\">\n",
       "  <thead>\n",
       "    <tr style=\"text-align: right;\">\n",
       "      <th></th>\n",
       "      <th>sepal-length</th>\n",
       "      <th>sepal-width</th>\n",
       "      <th>petal-length</th>\n",
       "      <th>petal-width</th>\n",
       "      <th>class</th>\n",
       "    </tr>\n",
       "  </thead>\n",
       "  <tbody>\n",
       "    <tr>\n",
       "      <th>0</th>\n",
       "      <td>5.1</td>\n",
       "      <td>3.5</td>\n",
       "      <td>1.4</td>\n",
       "      <td>0.2</td>\n",
       "      <td>Iris-setosa</td>\n",
       "    </tr>\n",
       "    <tr>\n",
       "      <th>1</th>\n",
       "      <td>4.9</td>\n",
       "      <td>3.0</td>\n",
       "      <td>1.4</td>\n",
       "      <td>0.2</td>\n",
       "      <td>Iris-setosa</td>\n",
       "    </tr>\n",
       "    <tr>\n",
       "      <th>2</th>\n",
       "      <td>4.7</td>\n",
       "      <td>3.2</td>\n",
       "      <td>1.3</td>\n",
       "      <td>0.2</td>\n",
       "      <td>Iris-setosa</td>\n",
       "    </tr>\n",
       "    <tr>\n",
       "      <th>3</th>\n",
       "      <td>4.6</td>\n",
       "      <td>3.1</td>\n",
       "      <td>1.5</td>\n",
       "      <td>0.2</td>\n",
       "      <td>Iris-setosa</td>\n",
       "    </tr>\n",
       "    <tr>\n",
       "      <th>4</th>\n",
       "      <td>5.0</td>\n",
       "      <td>3.6</td>\n",
       "      <td>1.4</td>\n",
       "      <td>0.2</td>\n",
       "      <td>Iris-setosa</td>\n",
       "    </tr>\n",
       "  </tbody>\n",
       "</table>\n",
       "</div>"
      ],
      "text/plain": [
       "   sepal-length  sepal-width  petal-length  petal-width        class\n",
       "0           5.1          3.5           1.4          0.2  Iris-setosa\n",
       "1           4.9          3.0           1.4          0.2  Iris-setosa\n",
       "2           4.7          3.2           1.3          0.2  Iris-setosa\n",
       "3           4.6          3.1           1.5          0.2  Iris-setosa\n",
       "4           5.0          3.6           1.4          0.2  Iris-setosa"
      ]
     },
     "execution_count": 14,
     "metadata": {},
     "output_type": "execute_result"
    }
   ],
   "source": [
    "iris.head()"
   ]
  },
  {
   "attachments": {
    "image.png": {
     "image/png": "[encoded data removed]"
    }
   },
   "cell_type": "markdown",
   "metadata": {},
   "source": [
    "### TIPOS DE PRUEBAS\n",
    "#### Distribucion T de Student\n",
    "![image.png](attachment:image.png)"
   ]
  },
  {
   "cell_type": "code",
   "execution_count": 16,
   "metadata": {},
   "outputs": [],
   "source": [
    "se_length =iris['sepal-length'].std()/np.sqrt(10)\n",
    "se_width = iris['sepal-width'].std()/np.sqrt(10)"
   ]
  },
  {
   "attachments": {
    "image.png": {
     "image/png": "[encoded data removed]"
    }
   },
   "cell_type": "markdown",
   "metadata": {},
   "source": [
    "![image.png](attachment:image.png)"
   ]
  },
  {
   "cell_type": "code",
   "execution_count": 17,
   "metadata": {},
   "outputs": [],
   "source": [
    "sed = np.sqrt((se_length**2)+(se_width**2))"
   ]
  },
  {
   "attachments": {
    "image.png": {
     "image/png": "[encoded data removed]"
    }
   },
   "cell_type": "markdown",
   "metadata": {},
   "source": [
    "![image.png](attachment:image.png)"
   ]
  },
  {
   "cell_type": "code",
   "execution_count": 36,
   "metadata": {},
   "outputs": [
    {
     "data": {
      "text/plain": [
       "9.436693738890318"
      ]
     },
     "execution_count": 36,
     "metadata": {},
     "output_type": "execute_result"
    }
   ],
   "source": [
    "t_stat = (iris['sepal-length'].mean()-iris['sepal-width'].mean())/sed\n",
    "t_stat"
   ]
  },
  {
   "cell_type": "code",
   "execution_count": 39,
   "metadata": {},
   "outputs": [
    {
     "data": {
      "text/plain": [
       "TtestResult(statistic=36.548157693982006, pvalue=3.987838114848222e-112, df=298.0)"
      ]
     },
     "execution_count": 39,
     "metadata": {},
     "output_type": "execute_result"
    }
   ],
   "source": [
    "p = ttest_ind(iris['sepal-length'], iris['sepal-width'])\n",
    "p"
   ]
  },
  {
   "cell_type": "markdown",
   "metadata": {},
   "source": [
    "### b) correlacion y coeficiente de pearson"
   ]
  },
  {
   "cell_type": "code",
   "execution_count": 42,
   "metadata": {},
   "outputs": [
    {
     "data": {
      "text/plain": [
       "-0.1093692499506493"
      ]
     },
     "execution_count": 42,
     "metadata": {},
     "output_type": "execute_result"
    }
   ],
   "source": [
    "corr_Normal = iris['sepal-length'].corr(iris['sepal-width'])\n",
    "corr_Normal"
   ]
  },
  {
   "cell_type": "code",
   "execution_count": 43,
   "metadata": {},
   "outputs": [
    {
     "data": {
      "text/plain": [
       "PearsonRResult(statistic=-0.10936924995064938, pvalue=0.18276521527136963)"
      ]
     },
     "execution_count": 43,
     "metadata": {},
     "output_type": "execute_result"
    }
   ],
   "source": [
    "corr_pearson = st.pearsonr(iris['sepal-length'], iris['sepal-width'])\n",
    "corr_pearson"
   ]
  },
  {
   "cell_type": "markdown",
   "metadata": {},
   "source": [
    "### C) analisis de la varianza (ANOVA)"
   ]
  },
  {
   "cell_type": "code",
   "execution_count": 45,
   "metadata": {},
   "outputs": [
    {
     "data": {
      "text/plain": [
       "F_onewayResult(statistic=1335.7678308241748, pvalue=3.98783811484836e-112)"
      ]
     },
     "execution_count": 45,
     "metadata": {},
     "output_type": "execute_result"
    }
   ],
   "source": [
    "anova = f_oneway(iris['sepal-length'],iris['sepal-width'])\n",
    "anova"
   ]
  },
  {
   "cell_type": "markdown",
   "metadata": {},
   "source": [
    "# Boostrapping"
   ]
  },
  {
   "cell_type": "code",
   "execution_count": 52,
   "metadata": {},
   "outputs": [],
   "source": [
    "import pandas as pd\n",
    "import numpy as np\n",
    "import random\n",
    "import matplotlib.pyplot as plt"
   ]
  },
  {
   "cell_type": "code",
   "execution_count": 50,
   "metadata": {},
   "outputs": [
    {
     "data": {
      "text/plain": [
       "array([33.0931369 , 32.60607959, 33.94170992, ..., 32.42063636,\n",
       "       33.61238865, 32.41187128])"
      ]
     },
     "execution_count": 50,
     "metadata": {},
     "output_type": "execute_result"
    }
   ],
   "source": [
    "data = np.random.normal(loc=34, size=10000)\n",
    "data"
   ]
  },
  {
   "cell_type": "code",
   "execution_count": 51,
   "metadata": {},
   "outputs": [
    {
     "data": {
      "text/plain": [
       "33.99596502846017"
      ]
     },
     "execution_count": 51,
     "metadata": {},
     "output_type": "execute_result"
    }
   ],
   "source": [
    "data.mean()"
   ]
  },
  {
   "cell_type": "markdown",
   "metadata": {},
   "source": [
    "### iniciamos boostrappinig para calcular el promedio de edades"
   ]
  },
  {
   "cell_type": "code",
   "execution_count": 56,
   "metadata": {},
   "outputs": [
    {
     "name": "stdout",
     "output_type": "stream",
     "text": [
      "[34.65525625483215, 33.75444208449982, 34.587978833192146, 34.7763435369415, 35.08453008857193]\n",
      "[35.15575612095602, 34.427790319319975, 34.329862458711034, 33.338839061791745, 33.50213797145134]\n",
      "[32.90011500584299, 33.75789165028844, 33.485148985652124, 35.11972353520614, 33.823104707499766]\n",
      "[33.84335832345394, 34.82404834338121, 33.1771206013119, 32.6147195347319, 33.30313963405423]\n",
      "[33.99733563935071, 35.428728510603754, 33.080476682067875, 34.84606718787224, 35.40298767366123]\n",
      "[33.67004603843043, 34.40865875710882, 36.09319107960279, 32.74141246082331, 33.86452943925245]\n",
      "[34.752822908421024, 34.810238364811454, 34.35085408370709, 33.55279287965626, 35.22365772284565]\n",
      "[34.847994262965926, 34.034902867009386, 34.34677111121591, 33.738012533158, 33.218698963875326]\n",
      "[33.22101305941271, 34.565771566713984, 34.54687039990197, 33.09738360867675, 33.4863073332853]\n",
      "[33.269406766566256, 34.489183444148885, 33.097779181712596, 33.46014975088721, 34.42843005910231]\n",
      "[34.33917571980469, 32.093106727129154, 33.931548644964764, 32.86079143050372, 33.52679952225492]\n",
      "[32.181427262286526, 32.91155445654202, 36.34591715213173, 34.25872703976567, 35.243881788258356]\n",
      "[34.103234241945174, 34.30638893891791, 32.468763909045535, 36.52620721424668, 33.24833908687911]\n",
      "[35.04224727837079, 32.82557173600162, 34.77384727080608, 34.64613558983796, 32.2352137869357]\n",
      "[34.01111981784632, 32.78151514868491, 33.43736894068715, 35.28512330125728, 32.33144851814278]\n",
      "[33.95524881652773, 34.02837930087032, 34.709706838686444, 34.59355482605123, 34.640232548973614]\n",
      "[34.551185520897846, 33.18888376917415, 34.03389211686953, 33.47784563623038, 34.33272895092588]\n",
      "[35.686405198984986, 34.61475935363621, 33.79572928217196, 34.40851960180909, 35.18579405170166]\n",
      "[33.327090832308095, 34.63805709862595, 33.25610587598023, 32.67562324294786, 34.5070178598622]\n",
      "[35.36424239266708, 33.945756704834565, 34.600909023456246, 33.735828471336376, 34.351411376431024]\n",
      "[34.00213856457856, 33.056309414401, 34.78214459368783, 32.20284723970945, 33.89489841615489]\n",
      "[32.37210905252111, 33.2877400939261, 30.76244745281679, 33.76810042633729, 34.58033282963914]\n",
      "[35.268505862714804, 32.70054289413349, 32.936868819766836, 32.525398077655076, 33.180013044107774]\n",
      "[36.479317559443395, 35.30494943346081, 31.289994631325946, 33.985092686718, 35.0298133591992]\n",
      "[33.05444484785457, 32.76586831836167, 33.81407230805822, 34.10967891085219, 34.05977744585927]\n",
      "[34.22543689689275, 34.603232037319685, 36.5695623915274, 34.24051555009965, 33.915066361990256]\n",
      "[34.31715552817385, 32.358435547872695, 35.29477098238544, 35.23982292303308, 34.144773978802895]\n",
      "[33.49778690071381, 34.33917571980469, 34.618883926210486, 35.217145939469276, 33.55617769054333]\n",
      "[33.28227576907114, 34.44089062754545, 32.36812731345174, 34.24194380324958, 33.45189025736151]\n",
      "[34.681288164416955, 33.28227576907114, 35.38528989482874, 33.680418828389705, 32.37991966661832]\n",
      "[34.07390270496067, 34.592664455387045, 32.32324520559467, 36.216097592394306, 35.22675808489573]\n",
      "[34.660739331643605, 34.86443961780317, 34.5221430791509, 33.8925352469299, 33.245553835692014]\n",
      "[32.8864986512956, 33.949617325349365, 34.59189650413685, 35.23453226330676, 32.35983026981595]\n",
      "[33.40693600086535, 34.798100888183406, 34.3345126390298, 33.76325436221784, 35.044270695869166]\n",
      "[32.96208280993024, 36.081435421791895, 35.67469582193784, 33.66626536397146, 33.288709694527405]\n",
      "[33.8787326880128, 35.095480553471525, 33.92675209435125, 36.25775613135012, 33.90079923342988]\n",
      "[33.8999836458473, 34.16238643990839, 34.38846613227885, 34.548004057556504, 33.96533132203486]\n",
      "[33.80539763506065, 34.73588719044261, 34.9404570522707, 33.46542376801974, 33.14003129953066]\n",
      "[35.01634548382821, 32.74586511731237, 32.52410015223811, 33.222403337628705, 34.74301726640737]\n",
      "[34.660739331643605, 34.73489916010891, 34.46245689299711, 34.07902299420861, 34.54661860212628]\n"
     ]
    },
    {
     "data": {
      "text/plain": [
       "[34.57171015960752,\n",
       " 34.150877186446024,\n",
       " 33.81719677689789,\n",
       " 33.55247728738664,\n",
       " 34.55111913871117,\n",
       " 34.15556755504356,\n",
       " 34.538073191888294,\n",
       " 34.037275947644915,\n",
       " 33.783469193598144,\n",
       " 33.74898984048345,\n",
       " 33.350284408931444,\n",
       " 34.18830153979686,\n",
       " 34.13058667820688,\n",
       " 33.90460313239043,\n",
       " 33.569315145323685,\n",
       " 34.38542446622186,\n",
       " 33.91690719881956,\n",
       " 34.73824149766078,\n",
       " 33.68077898194487,\n",
       " 34.399629593745054,\n",
       " 33.58766764570635,\n",
       " 32.954145971048085,\n",
       " 33.32226573967559,\n",
       " 34.41783353402947,\n",
       " 33.56076836619718,\n",
       " 34.71076264756594,\n",
       " 34.27099179205359,\n",
       " 34.245834035348324,\n",
       " 33.55702555413588,\n",
       " 33.88183846466497,\n",
       " 34.48653360864648,\n",
       " 34.23708222224392,\n",
       " 33.804475002780904,\n",
       " 34.269414917233114,\n",
       " 34.334637822431766,\n",
       " 34.61190414012312,\n",
       " 34.19283431952518,\n",
       " 34.017439389064876,\n",
       " 33.65034627148295,\n",
       " 34.496747396216904]"
      ]
     },
     "execution_count": 56,
     "metadata": {},
     "output_type": "execute_result"
    }
   ],
   "source": [
    "promedio = []\n",
    "for i in range(40):\n",
    "    muestra = random.sample(data.tolist(),5)\n",
    "    print(muestra)\n",
    "    prom = np.mean(muestra)\n",
    "    promedio.append(prom)\n",
    "\n",
    "promedio"
   ]
  },
  {
   "cell_type": "code",
   "execution_count": 55,
   "metadata": {},
   "outputs": [
    {
     "data": {
      "text/plain": [
       "33.877749792540996"
      ]
     },
     "execution_count": 55,
     "metadata": {},
     "output_type": "execute_result"
    }
   ],
   "source": [
    "np.mean(promedio)"
   ]
  },
  {
   "cell_type": "code",
   "execution_count": 57,
   "metadata": {},
   "outputs": [
    {
     "name": "stdout",
     "output_type": "stream",
     "text": [
      "Índices seleccionados: [ 663 2892 9541 2707 6520]\n",
      "Valores seleccionados: [34.72614118 35.84035971 34.51632814 34.95479405 33.08418352]\n",
      "Índices seleccionados: [3959 8276 2433 8795 4477]\n",
      "Valores seleccionados: [34.9056506  33.18502559 33.97307628 33.90198159 35.07396636]\n",
      "Índices seleccionados: [7012 7225  552 2782 4034]\n",
      "Valores seleccionados: [33.15045079 34.30277864 34.94326836 33.94556799 34.44089063]\n",
      "Índices seleccionados: [8629 2854 8589 8966 6425]\n",
      "Valores seleccionados: [32.62755688 34.58033283 31.31562418 33.98509269 33.7284964 ]\n",
      "Índices seleccionados: [ 704 1357 1891 5671 1614]\n",
      "Valores seleccionados: [34.97437675 34.13334876 33.82554947 34.30711432 32.88316181]\n",
      "Índices seleccionados: [9304  644 8528 6417 8089]\n",
      "Valores seleccionados: [36.09587346 33.99674792 33.0308462  34.41223854 33.18580134]\n",
      "Índices seleccionados: [2359 2605 2841 2685 2348]\n",
      "Valores seleccionados: [34.95547334 34.56509003 33.14370403 32.8037842  32.22623467]\n",
      "Índices seleccionados: [ 748 7043 5020 6189 8867]\n",
      "Valores seleccionados: [34.86985348 32.5011803  35.63051756 35.05809538 34.08005346]\n",
      "Índices seleccionados: [3992 5105 3893 3722 1962]\n",
      "Valores seleccionados: [33.4134577  33.76852442 34.2522461  31.95602764 35.0372846 ]\n",
      "Índices seleccionados: [1885 3720 5923 4380 9693]\n",
      "Valores seleccionados: [34.14738711 35.11811379 34.08271793 34.46856524 32.83696545]\n",
      "Índices seleccionados: [4775 5257 9509 8422 5708]\n",
      "Valores seleccionados: [34.77473097 33.29197999 35.22675808 33.40920341 33.88787153]\n",
      "Índices seleccionados: [7245 4706 9842 1431 1020]\n",
      "Valores seleccionados: [33.6316604  34.21492296 31.85178901 34.89168204 33.09153375]\n",
      "Índices seleccionados: [ 645 9651 3455 4743 7526]\n",
      "Valores seleccionados: [33.06768698 33.31718633 32.9677935  31.97232787 32.67362466]\n",
      "Índices seleccionados: [8236 2390  912 4180 2760]\n",
      "Valores seleccionados: [34.24266689 35.375182   34.88889276 34.40779015 32.47363691]\n",
      "Índices seleccionados: [9314 8649  602  910 1139]\n",
      "Valores seleccionados: [35.36450813 33.29490962 34.38186563 33.5243632  33.02206731]\n",
      "Índices seleccionados: [8613 3388 5298 1876 4378]\n",
      "Valores seleccionados: [33.58064848 35.1644726  33.22834195 34.16314709 33.45189026]\n",
      "Índices seleccionados: [ 745 5426 4362 9662 9823]\n",
      "Valores seleccionados: [33.85304651 34.34379919 34.95515634 33.4526251  35.08686901]\n",
      "Índices seleccionados: [ 204 2347 6654 9413 5922]\n",
      "Valores seleccionados: [35.64753624 35.96380226 35.60704161 34.40958962 33.46626501]\n",
      "Índices seleccionados: [4620 9841 4610  145 2855]\n",
      "Valores seleccionados: [32.72610196 34.40479192 36.28816516 33.21753717 32.81736129]\n",
      "Índices seleccionados: [7385 2451 7327 1426 7174]\n",
      "Valores seleccionados: [33.52420018 33.866081   33.56809451 35.68316007 35.79202213]\n",
      "Índices seleccionados: [3972 7736  775 4228 1059]\n",
      "Valores seleccionados: [32.52744117 34.57419671 32.72138907 33.87427725 34.7755785 ]\n",
      "Índices seleccionados: [4768 2895 7375 5783 3201]\n",
      "Valores seleccionados: [35.8791202  33.89189935 33.30026551 33.66957798 33.24578352]\n",
      "Índices seleccionados: [8666 3498 3783 8246  153]\n",
      "Valores seleccionados: [32.39632044 33.70717835 33.73894758 31.84338476 31.14931926]\n",
      "Índices seleccionados: [6663 8205 1030  364 8448]\n",
      "Valores seleccionados: [34.07033963 35.99777106 33.66757342 33.25701656 33.99572866]\n",
      "Índices seleccionados: [4546 9851 3451 8682 5057]\n",
      "Valores seleccionados: [33.76635449 32.9080308  32.91390708 33.036298   34.9533748 ]\n",
      "Índices seleccionados: [4986 7221 9559  499 9780]\n",
      "Valores seleccionados: [33.50491344 32.78514974 34.14838838 35.67938504 34.01592559]\n",
      "Índices seleccionados: [5551 3005 1453 7877  196]\n",
      "Valores seleccionados: [34.01154085 35.22863439 36.90825551 33.89050322 34.50358783]\n",
      "Índices seleccionados: [5129 5802 2022 1109  915]\n",
      "Valores seleccionados: [35.18772346 33.56403903 34.9019416  32.54324346 32.9068581 ]\n",
      "Índices seleccionados: [3567 2854 8474 4901 6691]\n",
      "Valores seleccionados: [33.75468485 34.58033283 31.83984371 34.53218506 34.40704689]\n",
      "Índices seleccionados: [2723 3553 9591 2374 4600]\n",
      "Valores seleccionados: [34.37849559 32.80745404 32.65050038 34.09085485 33.2858737 ]\n",
      "Índices seleccionados: [3629 1238 6505 3105 2057]\n",
      "Valores seleccionados: [34.00851847 33.84449998 34.30215344 34.17517256 33.37049457]\n",
      "Índices seleccionados: [2272  995 7739 5304 5650]\n",
      "Valores seleccionados: [32.79554584 32.92545574 34.58269324 35.26575504 32.43071719]\n",
      "Índices seleccionados: [9682 3081 1422 7953 7033]\n",
      "Valores seleccionados: [34.10605742 34.565847   33.55510031 34.34677111 33.52950862]\n",
      "Índices seleccionados: [8602 9477 2762 4390 1002]\n",
      "Valores seleccionados: [32.82373311 33.63940719 32.85413173 32.11324307 34.88930806]\n",
      "Índices seleccionados: [5760 1086 4674 7274 9031]\n",
      "Valores seleccionados: [33.93338872 34.69276623 33.92586023 33.05113144 32.98294371]\n",
      "Índices seleccionados: [6251 2768 1390 4055 4523]\n",
      "Valores seleccionados: [35.00058665 33.28857136 32.90607401 34.75902102 35.34589935]\n",
      "Índices seleccionados: [ 386 1919 8784 6468 9135]\n",
      "Valores seleccionados: [35.92085204 34.87190269 32.90429267 35.54469362 34.67617592]\n",
      "Índices seleccionados: [5995 7163 4493 1204 2752]\n",
      "Valores seleccionados: [34.87240447 35.64650384 32.44632002 32.66435116 32.87139652]\n",
      "Índices seleccionados: [8714 3838 4373 5393 5102]\n",
      "Valores seleccionados: [33.67635789 34.26410921 34.3288936  33.15114921 33.32185806]\n",
      "Índices seleccionados: [1392 3355 7176 5397 4789]\n",
      "Valores seleccionados: [33.73238679 31.87175647 31.84876683 35.32527793 35.85651515]\n"
     ]
    }
   ],
   "source": [
    "# Lista para almacenar promedios\n",
    "promedio = []\n",
    "\n",
    "for i in range(40):\n",
    "    indices = np.random.choice(len(data), size=5, replace=False)  # Obtener 5 índices aleatorios\n",
    "    muestra = data[indices]  # Extraer valores usando los índices\n",
    "    print(f\"Índices seleccionados: {indices}\")\n",
    "    print(f\"Valores seleccionados: {muestra}\")\n",
    "    \n",
    "    prom = np.mean(muestra)\n",
    "    promedio.append(prom)"
   ]
  },
  {
   "cell_type": "markdown",
   "metadata": {},
   "source": [
    "### VALIDACION CRUZADA EN PYTHON"
   ]
  },
  {
   "cell_type": "code",
   "execution_count": null,
   "metadata": {},
   "outputs": [],
   "source": [
    "import pandas as pd\n",
    "import numpy as np"
   ]
  },
  {
   "cell_type": "code",
   "execution_count": 62,
   "metadata": {},
   "outputs": [
    {
     "data": {
      "text/html": [
       "<div>\n",
       "<style scoped>\n",
       "    .dataframe tbody tr th:only-of-type {\n",
       "        vertical-align: middle;\n",
       "    }\n",
       "\n",
       "    .dataframe tbody tr th {\n",
       "        vertical-align: top;\n",
       "    }\n",
       "\n",
       "    .dataframe thead th {\n",
       "        text-align: right;\n",
       "    }\n",
       "</style>\n",
       "<table border=\"1\" class=\"dataframe\">\n",
       "  <thead>\n",
       "    <tr style=\"text-align: right;\">\n",
       "      <th></th>\n",
       "      <th>id</th>\n",
       "      <th>diagnosis</th>\n",
       "      <th>radius_mean</th>\n",
       "      <th>texture_mean</th>\n",
       "      <th>perimeter_mean</th>\n",
       "      <th>area_mean</th>\n",
       "      <th>smoothness_mean</th>\n",
       "      <th>compactness_mean</th>\n",
       "      <th>concavity_mean</th>\n",
       "      <th>concave points_mean</th>\n",
       "      <th>...</th>\n",
       "      <th>radius_worst</th>\n",
       "      <th>texture_worst</th>\n",
       "      <th>perimeter_worst</th>\n",
       "      <th>area_worst</th>\n",
       "      <th>smoothness_worst</th>\n",
       "      <th>compactness_worst</th>\n",
       "      <th>concavity_worst</th>\n",
       "      <th>concave points_worst</th>\n",
       "      <th>symmetry_worst</th>\n",
       "      <th>fractal_dimension_worst</th>\n",
       "    </tr>\n",
       "  </thead>\n",
       "  <tbody>\n",
       "    <tr>\n",
       "      <th>0</th>\n",
       "      <td>842302</td>\n",
       "      <td>M</td>\n",
       "      <td>17.990</td>\n",
       "      <td>10.38</td>\n",
       "      <td>122.80</td>\n",
       "      <td>1001.0</td>\n",
       "      <td>0.11840</td>\n",
       "      <td>0.27760</td>\n",
       "      <td>0.30010</td>\n",
       "      <td>0.14710</td>\n",
       "      <td>...</td>\n",
       "      <td>25.38</td>\n",
       "      <td>17.33</td>\n",
       "      <td>184.60</td>\n",
       "      <td>2019.0</td>\n",
       "      <td>0.1622</td>\n",
       "      <td>0.6656</td>\n",
       "      <td>0.71190</td>\n",
       "      <td>0.26540</td>\n",
       "      <td>0.4601</td>\n",
       "      <td>0.11890</td>\n",
       "    </tr>\n",
       "    <tr>\n",
       "      <th>1</th>\n",
       "      <td>842517</td>\n",
       "      <td>M</td>\n",
       "      <td>20.570</td>\n",
       "      <td>17.77</td>\n",
       "      <td>132.90</td>\n",
       "      <td>1326.0</td>\n",
       "      <td>0.08474</td>\n",
       "      <td>0.07864</td>\n",
       "      <td>0.08690</td>\n",
       "      <td>0.07017</td>\n",
       "      <td>...</td>\n",
       "      <td>24.99</td>\n",
       "      <td>23.41</td>\n",
       "      <td>158.80</td>\n",
       "      <td>1956.0</td>\n",
       "      <td>0.1238</td>\n",
       "      <td>0.1866</td>\n",
       "      <td>0.24160</td>\n",
       "      <td>0.18600</td>\n",
       "      <td>0.2750</td>\n",
       "      <td>0.08902</td>\n",
       "    </tr>\n",
       "    <tr>\n",
       "      <th>2</th>\n",
       "      <td>84300903</td>\n",
       "      <td>M</td>\n",
       "      <td>19.690</td>\n",
       "      <td>21.25</td>\n",
       "      <td>130.00</td>\n",
       "      <td>1203.0</td>\n",
       "      <td>0.10960</td>\n",
       "      <td>0.15990</td>\n",
       "      <td>0.19740</td>\n",
       "      <td>0.12790</td>\n",
       "      <td>...</td>\n",
       "      <td>23.57</td>\n",
       "      <td>25.53</td>\n",
       "      <td>152.50</td>\n",
       "      <td>1709.0</td>\n",
       "      <td>0.1444</td>\n",
       "      <td>0.4245</td>\n",
       "      <td>0.45040</td>\n",
       "      <td>0.24300</td>\n",
       "      <td>0.3613</td>\n",
       "      <td>0.08758</td>\n",
       "    </tr>\n",
       "    <tr>\n",
       "      <th>3</th>\n",
       "      <td>84348301</td>\n",
       "      <td>M</td>\n",
       "      <td>11.420</td>\n",
       "      <td>20.38</td>\n",
       "      <td>77.58</td>\n",
       "      <td>386.1</td>\n",
       "      <td>0.14250</td>\n",
       "      <td>0.28390</td>\n",
       "      <td>0.24140</td>\n",
       "      <td>0.10520</td>\n",
       "      <td>...</td>\n",
       "      <td>14.91</td>\n",
       "      <td>26.50</td>\n",
       "      <td>98.87</td>\n",
       "      <td>567.7</td>\n",
       "      <td>0.2098</td>\n",
       "      <td>0.8663</td>\n",
       "      <td>0.68690</td>\n",
       "      <td>0.25750</td>\n",
       "      <td>0.6638</td>\n",
       "      <td>0.17300</td>\n",
       "    </tr>\n",
       "    <tr>\n",
       "      <th>4</th>\n",
       "      <td>84358402</td>\n",
       "      <td>M</td>\n",
       "      <td>20.290</td>\n",
       "      <td>14.34</td>\n",
       "      <td>135.10</td>\n",
       "      <td>1297.0</td>\n",
       "      <td>0.10030</td>\n",
       "      <td>0.13280</td>\n",
       "      <td>0.19800</td>\n",
       "      <td>0.10430</td>\n",
       "      <td>...</td>\n",
       "      <td>22.54</td>\n",
       "      <td>16.67</td>\n",
       "      <td>152.20</td>\n",
       "      <td>1575.0</td>\n",
       "      <td>0.1374</td>\n",
       "      <td>0.2050</td>\n",
       "      <td>0.40000</td>\n",
       "      <td>0.16250</td>\n",
       "      <td>0.2364</td>\n",
       "      <td>0.07678</td>\n",
       "    </tr>\n",
       "    <tr>\n",
       "      <th>5</th>\n",
       "      <td>843786</td>\n",
       "      <td>M</td>\n",
       "      <td>12.450</td>\n",
       "      <td>15.70</td>\n",
       "      <td>82.57</td>\n",
       "      <td>477.1</td>\n",
       "      <td>0.12780</td>\n",
       "      <td>0.17000</td>\n",
       "      <td>0.15780</td>\n",
       "      <td>0.08089</td>\n",
       "      <td>...</td>\n",
       "      <td>15.47</td>\n",
       "      <td>23.75</td>\n",
       "      <td>103.40</td>\n",
       "      <td>741.6</td>\n",
       "      <td>0.1791</td>\n",
       "      <td>0.5249</td>\n",
       "      <td>0.53550</td>\n",
       "      <td>0.17410</td>\n",
       "      <td>0.3985</td>\n",
       "      <td>0.12440</td>\n",
       "    </tr>\n",
       "    <tr>\n",
       "      <th>6</th>\n",
       "      <td>844359</td>\n",
       "      <td>M</td>\n",
       "      <td>18.250</td>\n",
       "      <td>19.98</td>\n",
       "      <td>119.60</td>\n",
       "      <td>1040.0</td>\n",
       "      <td>0.09463</td>\n",
       "      <td>0.10900</td>\n",
       "      <td>0.11270</td>\n",
       "      <td>0.07400</td>\n",
       "      <td>...</td>\n",
       "      <td>22.88</td>\n",
       "      <td>27.66</td>\n",
       "      <td>153.20</td>\n",
       "      <td>1606.0</td>\n",
       "      <td>0.1442</td>\n",
       "      <td>0.2576</td>\n",
       "      <td>0.37840</td>\n",
       "      <td>0.19320</td>\n",
       "      <td>0.3063</td>\n",
       "      <td>0.08368</td>\n",
       "    </tr>\n",
       "    <tr>\n",
       "      <th>7</th>\n",
       "      <td>84458202</td>\n",
       "      <td>M</td>\n",
       "      <td>13.710</td>\n",
       "      <td>20.83</td>\n",
       "      <td>90.20</td>\n",
       "      <td>577.9</td>\n",
       "      <td>0.11890</td>\n",
       "      <td>0.16450</td>\n",
       "      <td>0.09366</td>\n",
       "      <td>0.05985</td>\n",
       "      <td>...</td>\n",
       "      <td>17.06</td>\n",
       "      <td>28.14</td>\n",
       "      <td>110.60</td>\n",
       "      <td>897.0</td>\n",
       "      <td>0.1654</td>\n",
       "      <td>0.3682</td>\n",
       "      <td>0.26780</td>\n",
       "      <td>0.15560</td>\n",
       "      <td>0.3196</td>\n",
       "      <td>0.11510</td>\n",
       "    </tr>\n",
       "    <tr>\n",
       "      <th>8</th>\n",
       "      <td>844981</td>\n",
       "      <td>M</td>\n",
       "      <td>13.000</td>\n",
       "      <td>21.82</td>\n",
       "      <td>87.50</td>\n",
       "      <td>519.8</td>\n",
       "      <td>0.12730</td>\n",
       "      <td>0.19320</td>\n",
       "      <td>0.18590</td>\n",
       "      <td>0.09353</td>\n",
       "      <td>...</td>\n",
       "      <td>15.49</td>\n",
       "      <td>30.73</td>\n",
       "      <td>106.20</td>\n",
       "      <td>739.3</td>\n",
       "      <td>0.1703</td>\n",
       "      <td>0.5401</td>\n",
       "      <td>0.53900</td>\n",
       "      <td>0.20600</td>\n",
       "      <td>0.4378</td>\n",
       "      <td>0.10720</td>\n",
       "    </tr>\n",
       "    <tr>\n",
       "      <th>9</th>\n",
       "      <td>84501001</td>\n",
       "      <td>M</td>\n",
       "      <td>12.460</td>\n",
       "      <td>24.04</td>\n",
       "      <td>83.97</td>\n",
       "      <td>475.9</td>\n",
       "      <td>0.11860</td>\n",
       "      <td>0.23960</td>\n",
       "      <td>0.22730</td>\n",
       "      <td>0.08543</td>\n",
       "      <td>...</td>\n",
       "      <td>15.09</td>\n",
       "      <td>40.68</td>\n",
       "      <td>97.65</td>\n",
       "      <td>711.4</td>\n",
       "      <td>0.1853</td>\n",
       "      <td>1.0580</td>\n",
       "      <td>1.10500</td>\n",
       "      <td>0.22100</td>\n",
       "      <td>0.4366</td>\n",
       "      <td>0.20750</td>\n",
       "    </tr>\n",
       "    <tr>\n",
       "      <th>10</th>\n",
       "      <td>845636</td>\n",
       "      <td>M</td>\n",
       "      <td>16.020</td>\n",
       "      <td>23.24</td>\n",
       "      <td>102.70</td>\n",
       "      <td>797.8</td>\n",
       "      <td>0.08206</td>\n",
       "      <td>0.06669</td>\n",
       "      <td>0.03299</td>\n",
       "      <td>0.03323</td>\n",
       "      <td>...</td>\n",
       "      <td>19.19</td>\n",
       "      <td>33.88</td>\n",
       "      <td>123.80</td>\n",
       "      <td>1150.0</td>\n",
       "      <td>0.1181</td>\n",
       "      <td>0.1551</td>\n",
       "      <td>0.14590</td>\n",
       "      <td>0.09975</td>\n",
       "      <td>0.2948</td>\n",
       "      <td>0.08452</td>\n",
       "    </tr>\n",
       "    <tr>\n",
       "      <th>11</th>\n",
       "      <td>84610002</td>\n",
       "      <td>M</td>\n",
       "      <td>15.780</td>\n",
       "      <td>17.89</td>\n",
       "      <td>103.60</td>\n",
       "      <td>781.0</td>\n",
       "      <td>0.09710</td>\n",
       "      <td>0.12920</td>\n",
       "      <td>0.09954</td>\n",
       "      <td>0.06606</td>\n",
       "      <td>...</td>\n",
       "      <td>20.42</td>\n",
       "      <td>27.28</td>\n",
       "      <td>136.50</td>\n",
       "      <td>1299.0</td>\n",
       "      <td>0.1396</td>\n",
       "      <td>0.5609</td>\n",
       "      <td>0.39650</td>\n",
       "      <td>0.18100</td>\n",
       "      <td>0.3792</td>\n",
       "      <td>0.10480</td>\n",
       "    </tr>\n",
       "    <tr>\n",
       "      <th>12</th>\n",
       "      <td>846226</td>\n",
       "      <td>M</td>\n",
       "      <td>19.170</td>\n",
       "      <td>24.80</td>\n",
       "      <td>132.40</td>\n",
       "      <td>1123.0</td>\n",
       "      <td>0.09740</td>\n",
       "      <td>0.24580</td>\n",
       "      <td>0.20650</td>\n",
       "      <td>0.11180</td>\n",
       "      <td>...</td>\n",
       "      <td>20.96</td>\n",
       "      <td>29.94</td>\n",
       "      <td>151.70</td>\n",
       "      <td>1332.0</td>\n",
       "      <td>0.1037</td>\n",
       "      <td>0.3903</td>\n",
       "      <td>0.36390</td>\n",
       "      <td>0.17670</td>\n",
       "      <td>0.3176</td>\n",
       "      <td>0.10230</td>\n",
       "    </tr>\n",
       "    <tr>\n",
       "      <th>13</th>\n",
       "      <td>846381</td>\n",
       "      <td>M</td>\n",
       "      <td>15.850</td>\n",
       "      <td>23.95</td>\n",
       "      <td>103.70</td>\n",
       "      <td>782.7</td>\n",
       "      <td>0.08401</td>\n",
       "      <td>0.10020</td>\n",
       "      <td>0.09938</td>\n",
       "      <td>0.05364</td>\n",
       "      <td>...</td>\n",
       "      <td>16.84</td>\n",
       "      <td>27.66</td>\n",
       "      <td>112.00</td>\n",
       "      <td>876.5</td>\n",
       "      <td>0.1131</td>\n",
       "      <td>0.1924</td>\n",
       "      <td>0.23220</td>\n",
       "      <td>0.11190</td>\n",
       "      <td>0.2809</td>\n",
       "      <td>0.06287</td>\n",
       "    </tr>\n",
       "    <tr>\n",
       "      <th>14</th>\n",
       "      <td>84667401</td>\n",
       "      <td>M</td>\n",
       "      <td>13.730</td>\n",
       "      <td>22.61</td>\n",
       "      <td>93.60</td>\n",
       "      <td>578.3</td>\n",
       "      <td>0.11310</td>\n",
       "      <td>0.22930</td>\n",
       "      <td>0.21280</td>\n",
       "      <td>0.08025</td>\n",
       "      <td>...</td>\n",
       "      <td>15.03</td>\n",
       "      <td>32.01</td>\n",
       "      <td>108.80</td>\n",
       "      <td>697.7</td>\n",
       "      <td>0.1651</td>\n",
       "      <td>0.7725</td>\n",
       "      <td>0.69430</td>\n",
       "      <td>0.22080</td>\n",
       "      <td>0.3596</td>\n",
       "      <td>0.14310</td>\n",
       "    </tr>\n",
       "    <tr>\n",
       "      <th>15</th>\n",
       "      <td>84799002</td>\n",
       "      <td>M</td>\n",
       "      <td>14.540</td>\n",
       "      <td>27.54</td>\n",
       "      <td>96.73</td>\n",
       "      <td>658.8</td>\n",
       "      <td>0.11390</td>\n",
       "      <td>0.15950</td>\n",
       "      <td>0.16390</td>\n",
       "      <td>0.07364</td>\n",
       "      <td>...</td>\n",
       "      <td>17.46</td>\n",
       "      <td>37.13</td>\n",
       "      <td>124.10</td>\n",
       "      <td>943.2</td>\n",
       "      <td>0.1678</td>\n",
       "      <td>0.6577</td>\n",
       "      <td>0.70260</td>\n",
       "      <td>0.17120</td>\n",
       "      <td>0.4218</td>\n",
       "      <td>0.13410</td>\n",
       "    </tr>\n",
       "    <tr>\n",
       "      <th>16</th>\n",
       "      <td>848406</td>\n",
       "      <td>M</td>\n",
       "      <td>14.680</td>\n",
       "      <td>20.13</td>\n",
       "      <td>94.74</td>\n",
       "      <td>684.5</td>\n",
       "      <td>0.09867</td>\n",
       "      <td>0.07200</td>\n",
       "      <td>0.07395</td>\n",
       "      <td>0.05259</td>\n",
       "      <td>...</td>\n",
       "      <td>19.07</td>\n",
       "      <td>30.88</td>\n",
       "      <td>123.40</td>\n",
       "      <td>1138.0</td>\n",
       "      <td>0.1464</td>\n",
       "      <td>0.1871</td>\n",
       "      <td>0.29140</td>\n",
       "      <td>0.16090</td>\n",
       "      <td>0.3029</td>\n",
       "      <td>0.08216</td>\n",
       "    </tr>\n",
       "    <tr>\n",
       "      <th>17</th>\n",
       "      <td>84862001</td>\n",
       "      <td>M</td>\n",
       "      <td>16.130</td>\n",
       "      <td>20.68</td>\n",
       "      <td>108.10</td>\n",
       "      <td>798.8</td>\n",
       "      <td>0.11700</td>\n",
       "      <td>0.20220</td>\n",
       "      <td>0.17220</td>\n",
       "      <td>0.10280</td>\n",
       "      <td>...</td>\n",
       "      <td>20.96</td>\n",
       "      <td>31.48</td>\n",
       "      <td>136.80</td>\n",
       "      <td>1315.0</td>\n",
       "      <td>0.1789</td>\n",
       "      <td>0.4233</td>\n",
       "      <td>0.47840</td>\n",
       "      <td>0.20730</td>\n",
       "      <td>0.3706</td>\n",
       "      <td>0.11420</td>\n",
       "    </tr>\n",
       "    <tr>\n",
       "      <th>18</th>\n",
       "      <td>849014</td>\n",
       "      <td>M</td>\n",
       "      <td>19.810</td>\n",
       "      <td>22.15</td>\n",
       "      <td>130.00</td>\n",
       "      <td>1260.0</td>\n",
       "      <td>0.09831</td>\n",
       "      <td>0.10270</td>\n",
       "      <td>0.14790</td>\n",
       "      <td>0.09498</td>\n",
       "      <td>...</td>\n",
       "      <td>27.32</td>\n",
       "      <td>30.88</td>\n",
       "      <td>186.80</td>\n",
       "      <td>2398.0</td>\n",
       "      <td>0.1512</td>\n",
       "      <td>0.3150</td>\n",
       "      <td>0.53720</td>\n",
       "      <td>0.23880</td>\n",
       "      <td>0.2768</td>\n",
       "      <td>0.07615</td>\n",
       "    </tr>\n",
       "    <tr>\n",
       "      <th>19</th>\n",
       "      <td>8510426</td>\n",
       "      <td>B</td>\n",
       "      <td>13.540</td>\n",
       "      <td>14.36</td>\n",
       "      <td>87.46</td>\n",
       "      <td>566.3</td>\n",
       "      <td>0.09779</td>\n",
       "      <td>0.08129</td>\n",
       "      <td>0.06664</td>\n",
       "      <td>0.04781</td>\n",
       "      <td>...</td>\n",
       "      <td>15.11</td>\n",
       "      <td>19.26</td>\n",
       "      <td>99.70</td>\n",
       "      <td>711.2</td>\n",
       "      <td>0.1440</td>\n",
       "      <td>0.1773</td>\n",
       "      <td>0.23900</td>\n",
       "      <td>0.12880</td>\n",
       "      <td>0.2977</td>\n",
       "      <td>0.07259</td>\n",
       "    </tr>\n",
       "    <tr>\n",
       "      <th>20</th>\n",
       "      <td>8510653</td>\n",
       "      <td>B</td>\n",
       "      <td>13.080</td>\n",
       "      <td>15.71</td>\n",
       "      <td>85.63</td>\n",
       "      <td>520.0</td>\n",
       "      <td>0.10750</td>\n",
       "      <td>0.12700</td>\n",
       "      <td>0.04568</td>\n",
       "      <td>0.03110</td>\n",
       "      <td>...</td>\n",
       "      <td>14.50</td>\n",
       "      <td>20.49</td>\n",
       "      <td>96.09</td>\n",
       "      <td>630.5</td>\n",
       "      <td>0.1312</td>\n",
       "      <td>0.2776</td>\n",
       "      <td>0.18900</td>\n",
       "      <td>0.07283</td>\n",
       "      <td>0.3184</td>\n",
       "      <td>0.08183</td>\n",
       "    </tr>\n",
       "    <tr>\n",
       "      <th>21</th>\n",
       "      <td>8510824</td>\n",
       "      <td>B</td>\n",
       "      <td>9.504</td>\n",
       "      <td>12.44</td>\n",
       "      <td>60.34</td>\n",
       "      <td>273.9</td>\n",
       "      <td>0.10240</td>\n",
       "      <td>0.06492</td>\n",
       "      <td>0.02956</td>\n",
       "      <td>0.02076</td>\n",
       "      <td>...</td>\n",
       "      <td>10.23</td>\n",
       "      <td>15.66</td>\n",
       "      <td>65.13</td>\n",
       "      <td>314.9</td>\n",
       "      <td>0.1324</td>\n",
       "      <td>0.1148</td>\n",
       "      <td>0.08867</td>\n",
       "      <td>0.06227</td>\n",
       "      <td>0.2450</td>\n",
       "      <td>0.07773</td>\n",
       "    </tr>\n",
       "    <tr>\n",
       "      <th>22</th>\n",
       "      <td>8511133</td>\n",
       "      <td>M</td>\n",
       "      <td>15.340</td>\n",
       "      <td>14.26</td>\n",
       "      <td>102.50</td>\n",
       "      <td>704.4</td>\n",
       "      <td>0.10730</td>\n",
       "      <td>0.21350</td>\n",
       "      <td>0.20770</td>\n",
       "      <td>0.09756</td>\n",
       "      <td>...</td>\n",
       "      <td>18.07</td>\n",
       "      <td>19.08</td>\n",
       "      <td>125.10</td>\n",
       "      <td>980.9</td>\n",
       "      <td>0.1390</td>\n",
       "      <td>0.5954</td>\n",
       "      <td>0.63050</td>\n",
       "      <td>0.23930</td>\n",
       "      <td>0.4667</td>\n",
       "      <td>0.09946</td>\n",
       "    </tr>\n",
       "    <tr>\n",
       "      <th>23</th>\n",
       "      <td>851509</td>\n",
       "      <td>M</td>\n",
       "      <td>21.160</td>\n",
       "      <td>23.04</td>\n",
       "      <td>137.20</td>\n",
       "      <td>1404.0</td>\n",
       "      <td>0.09428</td>\n",
       "      <td>0.10220</td>\n",
       "      <td>0.10970</td>\n",
       "      <td>0.08632</td>\n",
       "      <td>...</td>\n",
       "      <td>29.17</td>\n",
       "      <td>35.59</td>\n",
       "      <td>188.00</td>\n",
       "      <td>2615.0</td>\n",
       "      <td>0.1401</td>\n",
       "      <td>0.2600</td>\n",
       "      <td>0.31550</td>\n",
       "      <td>0.20090</td>\n",
       "      <td>0.2822</td>\n",
       "      <td>0.07526</td>\n",
       "    </tr>\n",
       "    <tr>\n",
       "      <th>24</th>\n",
       "      <td>852552</td>\n",
       "      <td>M</td>\n",
       "      <td>16.650</td>\n",
       "      <td>21.38</td>\n",
       "      <td>110.00</td>\n",
       "      <td>904.6</td>\n",
       "      <td>0.11210</td>\n",
       "      <td>0.14570</td>\n",
       "      <td>0.15250</td>\n",
       "      <td>0.09170</td>\n",
       "      <td>...</td>\n",
       "      <td>26.46</td>\n",
       "      <td>31.56</td>\n",
       "      <td>177.00</td>\n",
       "      <td>2215.0</td>\n",
       "      <td>0.1805</td>\n",
       "      <td>0.3578</td>\n",
       "      <td>0.46950</td>\n",
       "      <td>0.20950</td>\n",
       "      <td>0.3613</td>\n",
       "      <td>0.09564</td>\n",
       "    </tr>\n",
       "    <tr>\n",
       "      <th>25</th>\n",
       "      <td>852631</td>\n",
       "      <td>M</td>\n",
       "      <td>17.140</td>\n",
       "      <td>16.40</td>\n",
       "      <td>116.00</td>\n",
       "      <td>912.7</td>\n",
       "      <td>0.11860</td>\n",
       "      <td>0.22760</td>\n",
       "      <td>0.22290</td>\n",
       "      <td>0.14010</td>\n",
       "      <td>...</td>\n",
       "      <td>22.25</td>\n",
       "      <td>21.40</td>\n",
       "      <td>152.40</td>\n",
       "      <td>1461.0</td>\n",
       "      <td>0.1545</td>\n",
       "      <td>0.3949</td>\n",
       "      <td>0.38530</td>\n",
       "      <td>0.25500</td>\n",
       "      <td>0.4066</td>\n",
       "      <td>0.10590</td>\n",
       "    </tr>\n",
       "    <tr>\n",
       "      <th>26</th>\n",
       "      <td>852763</td>\n",
       "      <td>M</td>\n",
       "      <td>14.580</td>\n",
       "      <td>21.53</td>\n",
       "      <td>97.41</td>\n",
       "      <td>644.8</td>\n",
       "      <td>0.10540</td>\n",
       "      <td>0.18680</td>\n",
       "      <td>0.14250</td>\n",
       "      <td>0.08783</td>\n",
       "      <td>...</td>\n",
       "      <td>17.62</td>\n",
       "      <td>33.21</td>\n",
       "      <td>122.40</td>\n",
       "      <td>896.9</td>\n",
       "      <td>0.1525</td>\n",
       "      <td>0.6643</td>\n",
       "      <td>0.55390</td>\n",
       "      <td>0.27010</td>\n",
       "      <td>0.4264</td>\n",
       "      <td>0.12750</td>\n",
       "    </tr>\n",
       "    <tr>\n",
       "      <th>27</th>\n",
       "      <td>852781</td>\n",
       "      <td>M</td>\n",
       "      <td>18.610</td>\n",
       "      <td>20.25</td>\n",
       "      <td>122.10</td>\n",
       "      <td>1094.0</td>\n",
       "      <td>0.09440</td>\n",
       "      <td>0.10660</td>\n",
       "      <td>0.14900</td>\n",
       "      <td>0.07731</td>\n",
       "      <td>...</td>\n",
       "      <td>21.31</td>\n",
       "      <td>27.26</td>\n",
       "      <td>139.90</td>\n",
       "      <td>1403.0</td>\n",
       "      <td>0.1338</td>\n",
       "      <td>0.2117</td>\n",
       "      <td>0.34460</td>\n",
       "      <td>0.14900</td>\n",
       "      <td>0.2341</td>\n",
       "      <td>0.07421</td>\n",
       "    </tr>\n",
       "    <tr>\n",
       "      <th>28</th>\n",
       "      <td>852973</td>\n",
       "      <td>M</td>\n",
       "      <td>15.300</td>\n",
       "      <td>25.27</td>\n",
       "      <td>102.40</td>\n",
       "      <td>732.4</td>\n",
       "      <td>0.10820</td>\n",
       "      <td>0.16970</td>\n",
       "      <td>0.16830</td>\n",
       "      <td>0.08751</td>\n",
       "      <td>...</td>\n",
       "      <td>20.27</td>\n",
       "      <td>36.71</td>\n",
       "      <td>149.30</td>\n",
       "      <td>1269.0</td>\n",
       "      <td>0.1641</td>\n",
       "      <td>0.6110</td>\n",
       "      <td>0.63350</td>\n",
       "      <td>0.20240</td>\n",
       "      <td>0.4027</td>\n",
       "      <td>0.09876</td>\n",
       "    </tr>\n",
       "    <tr>\n",
       "      <th>29</th>\n",
       "      <td>853201</td>\n",
       "      <td>M</td>\n",
       "      <td>17.570</td>\n",
       "      <td>15.05</td>\n",
       "      <td>115.00</td>\n",
       "      <td>955.1</td>\n",
       "      <td>0.09847</td>\n",
       "      <td>0.11570</td>\n",
       "      <td>0.09875</td>\n",
       "      <td>0.07953</td>\n",
       "      <td>...</td>\n",
       "      <td>20.01</td>\n",
       "      <td>19.52</td>\n",
       "      <td>134.90</td>\n",
       "      <td>1227.0</td>\n",
       "      <td>0.1255</td>\n",
       "      <td>0.2812</td>\n",
       "      <td>0.24890</td>\n",
       "      <td>0.14560</td>\n",
       "      <td>0.2756</td>\n",
       "      <td>0.07919</td>\n",
       "    </tr>\n",
       "  </tbody>\n",
       "</table>\n",
       "<p>30 rows × 32 columns</p>\n",
       "</div>"
      ],
      "text/plain": [
       "          id diagnosis  radius_mean  texture_mean  perimeter_mean  area_mean  \\\n",
       "0     842302         M       17.990         10.38          122.80     1001.0   \n",
       "1     842517         M       20.570         17.77          132.90     1326.0   \n",
       "2   84300903         M       19.690         21.25          130.00     1203.0   \n",
       "3   84348301         M       11.420         20.38           77.58      386.1   \n",
       "4   84358402         M       20.290         14.34          135.10     1297.0   \n",
       "5     843786         M       12.450         15.70           82.57      477.1   \n",
       "6     844359         M       18.250         19.98          119.60     1040.0   \n",
       "7   84458202         M       13.710         20.83           90.20      577.9   \n",
       "8     844981         M       13.000         21.82           87.50      519.8   \n",
       "9   84501001         M       12.460         24.04           83.97      475.9   \n",
       "10    845636         M       16.020         23.24          102.70      797.8   \n",
       "11  84610002         M       15.780         17.89          103.60      781.0   \n",
       "12    846226         M       19.170         24.80          132.40     1123.0   \n",
       "13    846381         M       15.850         23.95          103.70      782.7   \n",
       "14  84667401         M       13.730         22.61           93.60      578.3   \n",
       "15  84799002         M       14.540         27.54           96.73      658.8   \n",
       "16    848406         M       14.680         20.13           94.74      684.5   \n",
       "17  84862001         M       16.130         20.68          108.10      798.8   \n",
       "18    849014         M       19.810         22.15          130.00     1260.0   \n",
       "19   8510426         B       13.540         14.36           87.46      566.3   \n",
       "20   8510653         B       13.080         15.71           85.63      520.0   \n",
       "21   8510824         B        9.504         12.44           60.34      273.9   \n",
       "22   8511133         M       15.340         14.26          102.50      704.4   \n",
       "23    851509         M       21.160         23.04          137.20     1404.0   \n",
       "24    852552         M       16.650         21.38          110.00      904.6   \n",
       "25    852631         M       17.140         16.40          116.00      912.7   \n",
       "26    852763         M       14.580         21.53           97.41      644.8   \n",
       "27    852781         M       18.610         20.25          122.10     1094.0   \n",
       "28    852973         M       15.300         25.27          102.40      732.4   \n",
       "29    853201         M       17.570         15.05          115.00      955.1   \n",
       "\n",
       "    smoothness_mean  compactness_mean  concavity_mean  concave points_mean  \\\n",
       "0           0.11840           0.27760         0.30010              0.14710   \n",
       "1           0.08474           0.07864         0.08690              0.07017   \n",
       "2           0.10960           0.15990         0.19740              0.12790   \n",
       "3           0.14250           0.28390         0.24140              0.10520   \n",
       "4           0.10030           0.13280         0.19800              0.10430   \n",
       "5           0.12780           0.17000         0.15780              0.08089   \n",
       "6           0.09463           0.10900         0.11270              0.07400   \n",
       "7           0.11890           0.16450         0.09366              0.05985   \n",
       "8           0.12730           0.19320         0.18590              0.09353   \n",
       "9           0.11860           0.23960         0.22730              0.08543   \n",
       "10          0.08206           0.06669         0.03299              0.03323   \n",
       "11          0.09710           0.12920         0.09954              0.06606   \n",
       "12          0.09740           0.24580         0.20650              0.11180   \n",
       "13          0.08401           0.10020         0.09938              0.05364   \n",
       "14          0.11310           0.22930         0.21280              0.08025   \n",
       "15          0.11390           0.15950         0.16390              0.07364   \n",
       "16          0.09867           0.07200         0.07395              0.05259   \n",
       "17          0.11700           0.20220         0.17220              0.10280   \n",
       "18          0.09831           0.10270         0.14790              0.09498   \n",
       "19          0.09779           0.08129         0.06664              0.04781   \n",
       "20          0.10750           0.12700         0.04568              0.03110   \n",
       "21          0.10240           0.06492         0.02956              0.02076   \n",
       "22          0.10730           0.21350         0.20770              0.09756   \n",
       "23          0.09428           0.10220         0.10970              0.08632   \n",
       "24          0.11210           0.14570         0.15250              0.09170   \n",
       "25          0.11860           0.22760         0.22290              0.14010   \n",
       "26          0.10540           0.18680         0.14250              0.08783   \n",
       "27          0.09440           0.10660         0.14900              0.07731   \n",
       "28          0.10820           0.16970         0.16830              0.08751   \n",
       "29          0.09847           0.11570         0.09875              0.07953   \n",
       "\n",
       "    ...  radius_worst  texture_worst  perimeter_worst  area_worst  \\\n",
       "0   ...         25.38          17.33           184.60      2019.0   \n",
       "1   ...         24.99          23.41           158.80      1956.0   \n",
       "2   ...         23.57          25.53           152.50      1709.0   \n",
       "3   ...         14.91          26.50            98.87       567.7   \n",
       "4   ...         22.54          16.67           152.20      1575.0   \n",
       "5   ...         15.47          23.75           103.40       741.6   \n",
       "6   ...         22.88          27.66           153.20      1606.0   \n",
       "7   ...         17.06          28.14           110.60       897.0   \n",
       "8   ...         15.49          30.73           106.20       739.3   \n",
       "9   ...         15.09          40.68            97.65       711.4   \n",
       "10  ...         19.19          33.88           123.80      1150.0   \n",
       "11  ...         20.42          27.28           136.50      1299.0   \n",
       "12  ...         20.96          29.94           151.70      1332.0   \n",
       "13  ...         16.84          27.66           112.00       876.5   \n",
       "14  ...         15.03          32.01           108.80       697.7   \n",
       "15  ...         17.46          37.13           124.10       943.2   \n",
       "16  ...         19.07          30.88           123.40      1138.0   \n",
       "17  ...         20.96          31.48           136.80      1315.0   \n",
       "18  ...         27.32          30.88           186.80      2398.0   \n",
       "19  ...         15.11          19.26            99.70       711.2   \n",
       "20  ...         14.50          20.49            96.09       630.5   \n",
       "21  ...         10.23          15.66            65.13       314.9   \n",
       "22  ...         18.07          19.08           125.10       980.9   \n",
       "23  ...         29.17          35.59           188.00      2615.0   \n",
       "24  ...         26.46          31.56           177.00      2215.0   \n",
       "25  ...         22.25          21.40           152.40      1461.0   \n",
       "26  ...         17.62          33.21           122.40       896.9   \n",
       "27  ...         21.31          27.26           139.90      1403.0   \n",
       "28  ...         20.27          36.71           149.30      1269.0   \n",
       "29  ...         20.01          19.52           134.90      1227.0   \n",
       "\n",
       "    smoothness_worst  compactness_worst  concavity_worst  \\\n",
       "0             0.1622             0.6656          0.71190   \n",
       "1             0.1238             0.1866          0.24160   \n",
       "2             0.1444             0.4245          0.45040   \n",
       "3             0.2098             0.8663          0.68690   \n",
       "4             0.1374             0.2050          0.40000   \n",
       "5             0.1791             0.5249          0.53550   \n",
       "6             0.1442             0.2576          0.37840   \n",
       "7             0.1654             0.3682          0.26780   \n",
       "8             0.1703             0.5401          0.53900   \n",
       "9             0.1853             1.0580          1.10500   \n",
       "10            0.1181             0.1551          0.14590   \n",
       "11            0.1396             0.5609          0.39650   \n",
       "12            0.1037             0.3903          0.36390   \n",
       "13            0.1131             0.1924          0.23220   \n",
       "14            0.1651             0.7725          0.69430   \n",
       "15            0.1678             0.6577          0.70260   \n",
       "16            0.1464             0.1871          0.29140   \n",
       "17            0.1789             0.4233          0.47840   \n",
       "18            0.1512             0.3150          0.53720   \n",
       "19            0.1440             0.1773          0.23900   \n",
       "20            0.1312             0.2776          0.18900   \n",
       "21            0.1324             0.1148          0.08867   \n",
       "22            0.1390             0.5954          0.63050   \n",
       "23            0.1401             0.2600          0.31550   \n",
       "24            0.1805             0.3578          0.46950   \n",
       "25            0.1545             0.3949          0.38530   \n",
       "26            0.1525             0.6643          0.55390   \n",
       "27            0.1338             0.2117          0.34460   \n",
       "28            0.1641             0.6110          0.63350   \n",
       "29            0.1255             0.2812          0.24890   \n",
       "\n",
       "    concave points_worst  symmetry_worst  fractal_dimension_worst  \n",
       "0                0.26540          0.4601                  0.11890  \n",
       "1                0.18600          0.2750                  0.08902  \n",
       "2                0.24300          0.3613                  0.08758  \n",
       "3                0.25750          0.6638                  0.17300  \n",
       "4                0.16250          0.2364                  0.07678  \n",
       "5                0.17410          0.3985                  0.12440  \n",
       "6                0.19320          0.3063                  0.08368  \n",
       "7                0.15560          0.3196                  0.11510  \n",
       "8                0.20600          0.4378                  0.10720  \n",
       "9                0.22100          0.4366                  0.20750  \n",
       "10               0.09975          0.2948                  0.08452  \n",
       "11               0.18100          0.3792                  0.10480  \n",
       "12               0.17670          0.3176                  0.10230  \n",
       "13               0.11190          0.2809                  0.06287  \n",
       "14               0.22080          0.3596                  0.14310  \n",
       "15               0.17120          0.4218                  0.13410  \n",
       "16               0.16090          0.3029                  0.08216  \n",
       "17               0.20730          0.3706                  0.11420  \n",
       "18               0.23880          0.2768                  0.07615  \n",
       "19               0.12880          0.2977                  0.07259  \n",
       "20               0.07283          0.3184                  0.08183  \n",
       "21               0.06227          0.2450                  0.07773  \n",
       "22               0.23930          0.4667                  0.09946  \n",
       "23               0.20090          0.2822                  0.07526  \n",
       "24               0.20950          0.3613                  0.09564  \n",
       "25               0.25500          0.4066                  0.10590  \n",
       "26               0.27010          0.4264                  0.12750  \n",
       "27               0.14900          0.2341                  0.07421  \n",
       "28               0.20240          0.4027                  0.09876  \n",
       "29               0.14560          0.2756                  0.07919  \n",
       "\n",
       "[30 rows x 32 columns]"
      ]
     },
     "execution_count": 62,
     "metadata": {},
     "output_type": "execute_result"
    }
   ],
   "source": [
    "cancerdata  = pd.read_csv('cancerdata.csv')\n",
    "df = pd.DataFrame(cancerdata)\n",
    "df.head(30)"
   ]
  },
  {
   "cell_type": "code",
   "execution_count": 63,
   "metadata": {},
   "outputs": [],
   "source": [
    "X = df.iloc[:,2:]\n",
    "Y = df.iloc[:,1]"
   ]
  },
  {
   "cell_type": "code",
   "execution_count": 64,
   "metadata": {},
   "outputs": [
    {
     "data": {
      "text/html": [
       "<div>\n",
       "<style scoped>\n",
       "    .dataframe tbody tr th:only-of-type {\n",
       "        vertical-align: middle;\n",
       "    }\n",
       "\n",
       "    .dataframe tbody tr th {\n",
       "        vertical-align: top;\n",
       "    }\n",
       "\n",
       "    .dataframe thead th {\n",
       "        text-align: right;\n",
       "    }\n",
       "</style>\n",
       "<table border=\"1\" class=\"dataframe\">\n",
       "  <thead>\n",
       "    <tr style=\"text-align: right;\">\n",
       "      <th></th>\n",
       "      <th>radius_mean</th>\n",
       "      <th>texture_mean</th>\n",
       "      <th>perimeter_mean</th>\n",
       "      <th>area_mean</th>\n",
       "      <th>smoothness_mean</th>\n",
       "      <th>compactness_mean</th>\n",
       "      <th>concavity_mean</th>\n",
       "      <th>concave points_mean</th>\n",
       "      <th>symmetry_mean</th>\n",
       "      <th>fractal_dimension_mean</th>\n",
       "      <th>...</th>\n",
       "      <th>radius_worst</th>\n",
       "      <th>texture_worst</th>\n",
       "      <th>perimeter_worst</th>\n",
       "      <th>area_worst</th>\n",
       "      <th>smoothness_worst</th>\n",
       "      <th>compactness_worst</th>\n",
       "      <th>concavity_worst</th>\n",
       "      <th>concave points_worst</th>\n",
       "      <th>symmetry_worst</th>\n",
       "      <th>fractal_dimension_worst</th>\n",
       "    </tr>\n",
       "  </thead>\n",
       "  <tbody>\n",
       "    <tr>\n",
       "      <th>0</th>\n",
       "      <td>17.99</td>\n",
       "      <td>10.38</td>\n",
       "      <td>122.80</td>\n",
       "      <td>1001.0</td>\n",
       "      <td>0.11840</td>\n",
       "      <td>0.27760</td>\n",
       "      <td>0.3001</td>\n",
       "      <td>0.14710</td>\n",
       "      <td>0.2419</td>\n",
       "      <td>0.07871</td>\n",
       "      <td>...</td>\n",
       "      <td>25.38</td>\n",
       "      <td>17.33</td>\n",
       "      <td>184.60</td>\n",
       "      <td>2019.0</td>\n",
       "      <td>0.1622</td>\n",
       "      <td>0.6656</td>\n",
       "      <td>0.7119</td>\n",
       "      <td>0.2654</td>\n",
       "      <td>0.4601</td>\n",
       "      <td>0.11890</td>\n",
       "    </tr>\n",
       "    <tr>\n",
       "      <th>1</th>\n",
       "      <td>20.57</td>\n",
       "      <td>17.77</td>\n",
       "      <td>132.90</td>\n",
       "      <td>1326.0</td>\n",
       "      <td>0.08474</td>\n",
       "      <td>0.07864</td>\n",
       "      <td>0.0869</td>\n",
       "      <td>0.07017</td>\n",
       "      <td>0.1812</td>\n",
       "      <td>0.05667</td>\n",
       "      <td>...</td>\n",
       "      <td>24.99</td>\n",
       "      <td>23.41</td>\n",
       "      <td>158.80</td>\n",
       "      <td>1956.0</td>\n",
       "      <td>0.1238</td>\n",
       "      <td>0.1866</td>\n",
       "      <td>0.2416</td>\n",
       "      <td>0.1860</td>\n",
       "      <td>0.2750</td>\n",
       "      <td>0.08902</td>\n",
       "    </tr>\n",
       "    <tr>\n",
       "      <th>2</th>\n",
       "      <td>19.69</td>\n",
       "      <td>21.25</td>\n",
       "      <td>130.00</td>\n",
       "      <td>1203.0</td>\n",
       "      <td>0.10960</td>\n",
       "      <td>0.15990</td>\n",
       "      <td>0.1974</td>\n",
       "      <td>0.12790</td>\n",
       "      <td>0.2069</td>\n",
       "      <td>0.05999</td>\n",
       "      <td>...</td>\n",
       "      <td>23.57</td>\n",
       "      <td>25.53</td>\n",
       "      <td>152.50</td>\n",
       "      <td>1709.0</td>\n",
       "      <td>0.1444</td>\n",
       "      <td>0.4245</td>\n",
       "      <td>0.4504</td>\n",
       "      <td>0.2430</td>\n",
       "      <td>0.3613</td>\n",
       "      <td>0.08758</td>\n",
       "    </tr>\n",
       "    <tr>\n",
       "      <th>3</th>\n",
       "      <td>11.42</td>\n",
       "      <td>20.38</td>\n",
       "      <td>77.58</td>\n",
       "      <td>386.1</td>\n",
       "      <td>0.14250</td>\n",
       "      <td>0.28390</td>\n",
       "      <td>0.2414</td>\n",
       "      <td>0.10520</td>\n",
       "      <td>0.2597</td>\n",
       "      <td>0.09744</td>\n",
       "      <td>...</td>\n",
       "      <td>14.91</td>\n",
       "      <td>26.50</td>\n",
       "      <td>98.87</td>\n",
       "      <td>567.7</td>\n",
       "      <td>0.2098</td>\n",
       "      <td>0.8663</td>\n",
       "      <td>0.6869</td>\n",
       "      <td>0.2575</td>\n",
       "      <td>0.6638</td>\n",
       "      <td>0.17300</td>\n",
       "    </tr>\n",
       "    <tr>\n",
       "      <th>4</th>\n",
       "      <td>20.29</td>\n",
       "      <td>14.34</td>\n",
       "      <td>135.10</td>\n",
       "      <td>1297.0</td>\n",
       "      <td>0.10030</td>\n",
       "      <td>0.13280</td>\n",
       "      <td>0.1980</td>\n",
       "      <td>0.10430</td>\n",
       "      <td>0.1809</td>\n",
       "      <td>0.05883</td>\n",
       "      <td>...</td>\n",
       "      <td>22.54</td>\n",
       "      <td>16.67</td>\n",
       "      <td>152.20</td>\n",
       "      <td>1575.0</td>\n",
       "      <td>0.1374</td>\n",
       "      <td>0.2050</td>\n",
       "      <td>0.4000</td>\n",
       "      <td>0.1625</td>\n",
       "      <td>0.2364</td>\n",
       "      <td>0.07678</td>\n",
       "    </tr>\n",
       "  </tbody>\n",
       "</table>\n",
       "<p>5 rows × 30 columns</p>\n",
       "</div>"
      ],
      "text/plain": [
       "   radius_mean  texture_mean  perimeter_mean  area_mean  smoothness_mean  \\\n",
       "0        17.99         10.38          122.80     1001.0          0.11840   \n",
       "1        20.57         17.77          132.90     1326.0          0.08474   \n",
       "2        19.69         21.25          130.00     1203.0          0.10960   \n",
       "3        11.42         20.38           77.58      386.1          0.14250   \n",
       "4        20.29         14.34          135.10     1297.0          0.10030   \n",
       "\n",
       "   compactness_mean  concavity_mean  concave points_mean  symmetry_mean  \\\n",
       "0           0.27760          0.3001              0.14710         0.2419   \n",
       "1           0.07864          0.0869              0.07017         0.1812   \n",
       "2           0.15990          0.1974              0.12790         0.2069   \n",
       "3           0.28390          0.2414              0.10520         0.2597   \n",
       "4           0.13280          0.1980              0.10430         0.1809   \n",
       "\n",
       "   fractal_dimension_mean  ...  radius_worst  texture_worst  perimeter_worst  \\\n",
       "0                 0.07871  ...         25.38          17.33           184.60   \n",
       "1                 0.05667  ...         24.99          23.41           158.80   \n",
       "2                 0.05999  ...         23.57          25.53           152.50   \n",
       "3                 0.09744  ...         14.91          26.50            98.87   \n",
       "4                 0.05883  ...         22.54          16.67           152.20   \n",
       "\n",
       "   area_worst  smoothness_worst  compactness_worst  concavity_worst  \\\n",
       "0      2019.0            0.1622             0.6656           0.7119   \n",
       "1      1956.0            0.1238             0.1866           0.2416   \n",
       "2      1709.0            0.1444             0.4245           0.4504   \n",
       "3       567.7            0.2098             0.8663           0.6869   \n",
       "4      1575.0            0.1374             0.2050           0.4000   \n",
       "\n",
       "   concave points_worst  symmetry_worst  fractal_dimension_worst  \n",
       "0                0.2654          0.4601                  0.11890  \n",
       "1                0.1860          0.2750                  0.08902  \n",
       "2                0.2430          0.3613                  0.08758  \n",
       "3                0.2575          0.6638                  0.17300  \n",
       "4                0.1625          0.2364                  0.07678  \n",
       "\n",
       "[5 rows x 30 columns]"
      ]
     },
     "execution_count": 64,
     "metadata": {},
     "output_type": "execute_result"
    }
   ],
   "source": [
    "X.head()"
   ]
  },
  {
   "cell_type": "code",
   "execution_count": 65,
   "metadata": {},
   "outputs": [
    {
     "data": {
      "text/plain": [
       "0    M\n",
       "1    M\n",
       "2    M\n",
       "3    M\n",
       "4    M\n",
       "Name: diagnosis, dtype: object"
      ]
     },
     "execution_count": 65,
     "metadata": {},
     "output_type": "execute_result"
    }
   ],
   "source": [
    "Y.head()"
   ]
  },
  {
   "cell_type": "code",
   "execution_count": 66,
   "metadata": {},
   "outputs": [
    {
     "data": {
      "text/plain": [
       "diagnosis\n",
       "B    357\n",
       "M    212\n",
       "Name: count, dtype: int64"
      ]
     },
     "execution_count": 66,
     "metadata": {},
     "output_type": "execute_result"
    }
   ],
   "source": [
    "Y.value_counts()"
   ]
  },
  {
   "cell_type": "code",
   "execution_count": 77,
   "metadata": {},
   "outputs": [
    {
     "name": "stdout",
     "output_type": "stream",
     "text": [
      "0.8947368421052632\n"
     ]
    }
   ],
   "source": [
    "from sklearn.tree import DecisionTreeClassifier\n",
    "from sklearn.model_selection import train_test_split\n",
    "\n",
    "X_train, X_test, Y_train, Y_test = train_test_split(X,Y, test_size=0.3, random_state=4)\n",
    "model = DecisionTreeClassifier()\n",
    "model.fit(X_train,Y_train)\n",
    "resultado = model.score(X_test, Y_test)\n",
    "print(resultado)\n"
   ]
  },
  {
   "cell_type": "code",
   "execution_count": 78,
   "metadata": {},
   "outputs": [],
   "source": [
    "#validacion cruzada K fold\n",
    "from sklearn.model_selection import KFold\n",
    "\n",
    "model2 =  DecisionTreeClassifier()\n",
    "KFold_validation = KFold(10)\n",
    "\n"
   ]
  },
  {
   "cell_type": "code",
   "execution_count": 80,
   "metadata": {},
   "outputs": [
    {
     "name": "stdout",
     "output_type": "stream",
     "text": [
      "[0.92982456 0.9122807  0.9122807  0.94736842 0.92982456 0.98245614\n",
      " 0.9122807  0.98245614 0.94736842 0.92857143]\n"
     ]
    },
    {
     "data": {
      "text/plain": [
       "0.9384711779448622"
      ]
     },
     "execution_count": 80,
     "metadata": {},
     "output_type": "execute_result"
    }
   ],
   "source": [
    "from sklearn.model_selection import cross_val_score\n",
    "resultado2 = cross_val_score(model2,X,Y, cv=KFold_validation)\n",
    "print(resultado2)\n",
    "resultado2.mean()"
   ]
  },
  {
   "cell_type": "code",
   "execution_count": null,
   "metadata": {},
   "outputs": [],
   "source": []
  }
 ],
 "metadata": {
  "kernelspec": {
   "display_name": ".venv",
   "language": "python",
   "name": "python3"
  },
  "language_info": {
   "codemirror_mode": {
    "name": "ipython",
    "version": 3
   },
   "file_extension": ".py",
   "mimetype": "text/x-python",
   "name": "python",
   "nbconvert_exporter": "python",
   "pygments_lexer": "ipython3",
   "version": "3.10.6"
  }
 },
 "nbformat": 4,
 "nbformat_minor": 2
}
