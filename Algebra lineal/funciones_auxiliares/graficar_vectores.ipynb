{
 "cells": [
  {
   "cell_type": "code",
   "execution_count": 1,
   "metadata": {},
   "outputs": [],
   "source": [
    "import matplotlib.pyplot as plt\n",
    "import numpy as np\n",
    "\n",
    "def graficar_vector(vects, colores, alpha = 1):\n",
    "    plt.figure()\n",
    "    plt.axvline(x=0, color = 'gray', zorder=0, linestyle='--')\n",
    "    plt.axhline(y=0, color = 'gray', zorder=0, linestyle='--')\n",
    "\n",
    "    for i in range(len(vects)):\n",
    "        x = np.concatenate([[0,0], vects[i]])\n",
    "        plt.quiver([x[0]],\n",
    "                   [x[1]],\n",
    "                   [x[2]],\n",
    "                   [x[3]],\n",
    "                   angles = 'xy', \n",
    "                   scale_units = 'xy', \n",
    "                   scale=1,\n",
    "                   color=colores[i],\n",
    "                   alpha= alpha)\n",
    "    plt.xlim(-1,8)\n",
    "    plt.ylim(-1,8)"
   ]
  },
  {
   "cell_type": "code",
   "execution_count": 2,
   "metadata": {},
   "outputs": [],
   "source": [
    "def graficar_espacio_vectores(v1,v2,minlim, maxlim):\n",
    "    for a in range(-10,10):\n",
    "        for b in range (-10,10):\n",
    "            plt.scatter(v1[0]*a+v2[0]*b,v1[1]*a + v2[1]*b,marker='.',color='orange')\n",
    "\n",
    "    plt.xlim(minlim,maxlim)\n",
    "    plt.ylim(minlim,maxlim)\n",
    "    plt.axvline(x=0,color='grey', linestyle='--',)\n",
    "    plt.axhline(y=0,color='grey', linestyle='--',)\n",
    "    plt.show()"
   ]
  },
  {
   "cell_type": "code",
   "execution_count": 3,
   "metadata": {},
   "outputs": [],
   "source": [
    "from mpl_toolkits.mplot3d import axes3d\n",
    "\n",
    "def graficar_espacio_vectores_R3(v1,v2):\n",
    "    fig=plt.figure()\n",
    "    ax = fig.add_subplot(111,projection='3d')\n",
    "\n",
    "    for a in range(-10,10):\n",
    "        for b in range (-10,10):\n",
    "            ax.scatter(v1[0]*a+v2[0]*b,v1[1]*a + v2[1]*b,\n",
    "            v1[2]*a + v2[2]*b,\n",
    "            marker='.',\n",
    "            color='orange')\n",
    "    \n",
    "    ax.set_xlabel(\"eje X\")\n",
    "    ax.set_ylabel(\"eje Y\")\n",
    "    ax.set_zlabel(\"eje Z\")\n",
    "    \n",
    "    # plt.xlim(minlim,maxlim)\n",
    "    # plt.ylim(minlim,maxlim)\n",
    "    # plt.axvline(x=0,color='grey', linestyle='--',)\n",
    "    # plt.axhline(y=0,color='grey', linestyle='--',)\n",
    "    plt.show()"
   ]
  },
  {
   "cell_type": "code",
   "execution_count": 4,
   "metadata": {},
   "outputs": [],
   "source": [
    "def graficar_vectores(vecs, cols, alpha =1 ):\n",
    "    plt.axvline(x=0, color='gray', zorder=0,linestyle='--')\n",
    "    plt.axhline(y=0, color='gray', zorder=0,linestyle='--')\n",
    "\n",
    "    for i in range(len(vecs)):\n",
    "        x = np.concatenate([[0,0], vecs[i]])\n",
    "        plt.quiver([x[0]],\n",
    "                [x[1]],\n",
    "                [x[2]],\n",
    "                [x[3]],\n",
    "                angles = 'xy', scale_units = 'xy', scale = 1, alpha = alpha, color = cols[i],\n",
    "        )"
   ]
  },
  {
   "cell_type": "code",
   "execution_count": 6,
   "metadata": {},
   "outputs": [],
   "source": [
    "def graficarMatriz(matriz, vectorCol=['red','blue']):\n",
    "    #circulo unitario\n",
    "    x = np.linspace(-1,1,100000)\n",
    "    y = np.sqrt(1-(x**2))\n",
    "\n",
    "    #circulo unitario transformado\n",
    "    x1 = matriz[0,0]*x + matriz[0,1]*y\n",
    "    y1 = matriz[1,0]*x + matriz[1,1]*y\n",
    "    x1_neg = matriz[0,0]*x - matriz[0,1]*y\n",
    "    y1_neg = matriz[1,0]*x - matriz[1,1]*y\n",
    "\n",
    "    #vectores\n",
    "    u1 = [matriz[0,0], matriz[1,0]]\n",
    "    v1 = [matriz[0,1], matriz[1,1]]\n",
    "\n",
    "    graficar_vectores([u1,v1], cols=[vectorCol[0],vectorCol[1]])\n",
    "    \n",
    "    plt.plot(x1,y1, 'green', alpha=0.7)\n",
    "    plt.plot(x1_neg,y1_neg, 'green', alpha=0.7)"
   ]
  },
  {
   "cell_type": "code",
   "execution_count": null,
   "metadata": {},
   "outputs": [],
   "source": []
  }
 ],
 "metadata": {
  "kernelspec": {
   "display_name": ".venv",
   "language": "python",
   "name": "python3"
  },
  "language_info": {
   "codemirror_mode": {
    "name": "ipython",
    "version": 3
   },
   "file_extension": ".py",
   "mimetype": "text/x-python",
   "name": "python",
   "nbconvert_exporter": "python",
   "pygments_lexer": "ipython3",
   "version": "3.10.6"
  }
 },
 "nbformat": 4,
 "nbformat_minor": 2
}
